{
 "cells": [
  {
   "cell_type": "code",
   "execution_count": 1,
   "metadata": {},
   "outputs": [],
   "source": [
    "## 画图必备\n",
    "import numpy as np\n",
    "import matplotlib.pyplot as plt\n",
    "import pandas as pd"
   ]
  },
  {
   "cell_type": "code",
   "execution_count": 2,
   "metadata": {},
   "outputs": [],
   "source": [
    "credits = pd.read_excel('./documents/stu_credits.xlsx', sheet_name = \"sheet1\") "
   ]
  },
  {
   "cell_type": "code",
   "execution_count": 3,
   "metadata": {},
   "outputs": [
    {
     "data": {
      "text/html": [
       "<div>\n",
       "<style scoped>\n",
       "    .dataframe tbody tr th:only-of-type {\n",
       "        vertical-align: middle;\n",
       "    }\n",
       "\n",
       "    .dataframe tbody tr th {\n",
       "        vertical-align: top;\n",
       "    }\n",
       "\n",
       "    .dataframe thead th {\n",
       "        text-align: right;\n",
       "    }\n",
       "</style>\n",
       "<table border=\"1\" class=\"dataframe\">\n",
       "  <thead>\n",
       "    <tr style=\"text-align: right;\">\n",
       "      <th></th>\n",
       "      <th>学号</th>\n",
       "      <th>电工电子学</th>\n",
       "      <th>机械原理</th>\n",
       "      <th>毕业论文</th>\n",
       "    </tr>\n",
       "  </thead>\n",
       "  <tbody>\n",
       "    <tr>\n",
       "      <th>0</th>\n",
       "      <td>1703010114</td>\n",
       "      <td>62</td>\n",
       "      <td>71</td>\n",
       "      <td>77</td>\n",
       "    </tr>\n",
       "    <tr>\n",
       "      <th>1</th>\n",
       "      <td>1703010131</td>\n",
       "      <td>73</td>\n",
       "      <td>87</td>\n",
       "      <td>84</td>\n",
       "    </tr>\n",
       "    <tr>\n",
       "      <th>2</th>\n",
       "      <td>1803010109</td>\n",
       "      <td>62</td>\n",
       "      <td>65</td>\n",
       "      <td>88</td>\n",
       "    </tr>\n",
       "    <tr>\n",
       "      <th>3</th>\n",
       "      <td>1803010123</td>\n",
       "      <td>82</td>\n",
       "      <td>95</td>\n",
       "      <td>85</td>\n",
       "    </tr>\n",
       "    <tr>\n",
       "      <th>4</th>\n",
       "      <td>1803010128</td>\n",
       "      <td>61</td>\n",
       "      <td>82</td>\n",
       "      <td>77</td>\n",
       "    </tr>\n",
       "    <tr>\n",
       "      <th>...</th>\n",
       "      <td>...</td>\n",
       "      <td>...</td>\n",
       "      <td>...</td>\n",
       "      <td>...</td>\n",
       "    </tr>\n",
       "    <tr>\n",
       "      <th>102</th>\n",
       "      <td>1803010617</td>\n",
       "      <td>89</td>\n",
       "      <td>95</td>\n",
       "      <td>92</td>\n",
       "    </tr>\n",
       "    <tr>\n",
       "      <th>103</th>\n",
       "      <td>1803010623</td>\n",
       "      <td>94</td>\n",
       "      <td>80</td>\n",
       "      <td>88</td>\n",
       "    </tr>\n",
       "    <tr>\n",
       "      <th>104</th>\n",
       "      <td>1803010625</td>\n",
       "      <td>79</td>\n",
       "      <td>95</td>\n",
       "      <td>88</td>\n",
       "    </tr>\n",
       "    <tr>\n",
       "      <th>105</th>\n",
       "      <td>1803010626</td>\n",
       "      <td>87</td>\n",
       "      <td>85</td>\n",
       "      <td>90</td>\n",
       "    </tr>\n",
       "    <tr>\n",
       "      <th>106</th>\n",
       "      <td>1803010628</td>\n",
       "      <td>76</td>\n",
       "      <td>68</td>\n",
       "      <td>78</td>\n",
       "    </tr>\n",
       "  </tbody>\n",
       "</table>\n",
       "<p>107 rows × 4 columns</p>\n",
       "</div>"
      ],
      "text/plain": [
       "             学号  电工电子学  机械原理  毕业论文\n",
       "0    1703010114     62    71    77\n",
       "1    1703010131     73    87    84\n",
       "2    1803010109     62    65    88\n",
       "3    1803010123     82    95    85\n",
       "4    1803010128     61    82    77\n",
       "..          ...    ...   ...   ...\n",
       "102  1803010617     89    95    92\n",
       "103  1803010623     94    80    88\n",
       "104  1803010625     79    95    88\n",
       "105  1803010626     87    85    90\n",
       "106  1803010628     76    68    78\n",
       "\n",
       "[107 rows x 4 columns]"
      ]
     },
     "execution_count": 3,
     "metadata": {},
     "output_type": "execute_result"
    }
   ],
   "source": [
    "credits"
   ]
  },
  {
   "cell_type": "code",
   "execution_count": 5,
   "metadata": {},
   "outputs": [
    {
     "data": {
      "text/plain": [
       "array([62, 73, 62, 82, 61, 80, 77, 79, 86, 89, 68, 60, 78, 96, 69, 69, 96,\n",
       "       80, 70, 68, 76, 63, 88, 98, 93, 63, 70, 60, 77, 61, 94, 75, 72, 65,\n",
       "       85, 90, 88, 92, 87, 93, 80, 79, 89, 74, 91, 64, 70, 85, 99, 88, 62,\n",
       "       63, 71, 81, 60, 86, 73, 84, 86, 76, 63, 70, 67, 74, 60, 68, 97, 78,\n",
       "       60, 60, 93, 64, 75, 60, 80, 93, 67, 69, 60, 86, 78, 85, 72, 76, 63,\n",
       "       72, 65, 61, 63, 60, 91, 60, 66, 89, 66, 77, 68, 61, 98, 61, 60, 64,\n",
       "       89, 94, 79, 87, 76], dtype=int64)"
      ]
     },
     "execution_count": 5,
     "metadata": {},
     "output_type": "execute_result"
    }
   ],
   "source": [
    "x1 = credits.values[:, 1]\n",
    "x1"
   ]
  },
  {
   "cell_type": "code",
   "execution_count": 5,
   "metadata": {},
   "outputs": [
    {
     "data": {
      "image/png": "[encoded data removed]",
      "text/plain": [
       "<Figure size 432x144 with 3 Axes>"
      ]
     },
     "metadata": {
      "needs_background": "light"
     },
     "output_type": "display_data"
    }
   ],
   "source": [
    "#s1 = credits['电工电子学']\n",
    "fig, axs = plt.subplots(1, 3,  figsize=(6,2), constrained_layout=True)\n",
    "for i in range(3):\n",
    "    #print(credits.iloc[:, i + 1])\n",
    "    axs[i].hist(credits.values[:, i + 1])"
   ]
  },
  {
   "cell_type": "code",
   "execution_count": null,
   "metadata": {},
   "outputs": [],
   "source": []
  }
 ],
 "metadata": {
  "kernelspec": {
   "display_name": "Python 3",
   "language": "python",
   "name": "python3"
  },
  "language_info": {
   "codemirror_mode": {
    "name": "ipython",
    "version": 3
   },
   "file_extension": ".py",
   "mimetype": "text/x-python",
   "name": "python",
   "nbconvert_exporter": "python",
   "pygments_lexer": "ipython3",
   "version": "3.9.0"
  }
 },
 "nbformat": 4,
 "nbformat_minor": 4
}
