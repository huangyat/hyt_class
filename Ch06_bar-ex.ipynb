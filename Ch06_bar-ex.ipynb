{
 "cells": [
  {
   "cell_type": "markdown",
   "metadata": {},
   "source": [
    "<font face=\"微软雅黑\" size=5 color=#A52A2A > Lesson 6 数据统计描述与图形化"
   ]
  },
  {
   "cell_type": "code",
   "execution_count": 6,
   "metadata": {},
   "outputs": [],
   "source": [
    "## 画图必备\n",
    "import numpy as np\n",
    "import matplotlib.pyplot as plt\n",
    "import pandas as pd\n",
    "plt.rcParams['font.sans-serif']=['SimHei']#显示中文\n",
    "plt.rcParams['axes.unicode_minus']=False #正常显示负号"
   ]
  },
  {
   "cell_type": "markdown",
   "metadata": {},
   "source": [
    "+ 要边写边检验"
   ]
  },
  {
   "cell_type": "code",
   "execution_count": 43,
   "metadata": {
    "collapsed": true,
    "jupyter": {
     "outputs_hidden": true
    }
   },
   "outputs": [
    {
     "ename": "FileNotFoundError",
     "evalue": "[Errno 2] No such file or directory: 'abc.xls'",
     "output_type": "error",
     "traceback": [
      "\u001b[1;31m---------------------------------------------------------------------------\u001b[0m",
      "\u001b[1;31mFileNotFoundError\u001b[0m                         Traceback (most recent call last)",
      "\u001b[1;32m<ipython-input-43-a103afe9e317>\u001b[0m in \u001b[0;36m<module>\u001b[1;34m\u001b[0m\n\u001b[1;32m----> 1\u001b[1;33m \u001b[0mc1\u001b[0m \u001b[1;33m=\u001b[0m \u001b[0mpd\u001b[0m\u001b[1;33m.\u001b[0m\u001b[0mread_excel\u001b[0m\u001b[1;33m(\u001b[0m\u001b[1;34m'abc.xls'\u001b[0m\u001b[1;33m)\u001b[0m\u001b[1;33m\u001b[0m\u001b[1;33m\u001b[0m\u001b[0m\n\u001b[0m\u001b[0;32m      2\u001b[0m \u001b[0mc2\u001b[0m \u001b[1;33m=\u001b[0m \u001b[0mreadcsv\u001b[0m\u001b[1;33m(\u001b[0m\u001b[1;34m'abc.csv'\u001b[0m\u001b[1;33m)\u001b[0m\u001b[1;33m\u001b[0m\u001b[1;33m\u001b[0m\u001b[0m\n",
      "\u001b[1;32mE:\\WPy64-3902\\python-3.9.0.amd64\\lib\\site-packages\\pandas\\util\\_decorators.py\u001b[0m in \u001b[0;36mwrapper\u001b[1;34m(*args, **kwargs)\u001b[0m\n\u001b[0;32m    294\u001b[0m                 )\n\u001b[0;32m    295\u001b[0m                 \u001b[0mwarnings\u001b[0m\u001b[1;33m.\u001b[0m\u001b[0mwarn\u001b[0m\u001b[1;33m(\u001b[0m\u001b[0mmsg\u001b[0m\u001b[1;33m,\u001b[0m \u001b[0mFutureWarning\u001b[0m\u001b[1;33m,\u001b[0m \u001b[0mstacklevel\u001b[0m\u001b[1;33m=\u001b[0m\u001b[0mstacklevel\u001b[0m\u001b[1;33m)\u001b[0m\u001b[1;33m\u001b[0m\u001b[1;33m\u001b[0m\u001b[0m\n\u001b[1;32m--> 296\u001b[1;33m             \u001b[1;32mreturn\u001b[0m \u001b[0mfunc\u001b[0m\u001b[1;33m(\u001b[0m\u001b[1;33m*\u001b[0m\u001b[0margs\u001b[0m\u001b[1;33m,\u001b[0m \u001b[1;33m**\u001b[0m\u001b[0mkwargs\u001b[0m\u001b[1;33m)\u001b[0m\u001b[1;33m\u001b[0m\u001b[1;33m\u001b[0m\u001b[0m\n\u001b[0m\u001b[0;32m    297\u001b[0m \u001b[1;33m\u001b[0m\u001b[0m\n\u001b[0;32m    298\u001b[0m         \u001b[1;32mreturn\u001b[0m \u001b[0mwrapper\u001b[0m\u001b[1;33m\u001b[0m\u001b[1;33m\u001b[0m\u001b[0m\n",
      "\u001b[1;32mE:\\WPy64-3902\\python-3.9.0.amd64\\lib\\site-packages\\pandas\\io\\excel\\_base.py\u001b[0m in \u001b[0;36mread_excel\u001b[1;34m(io, sheet_name, header, names, index_col, usecols, squeeze, dtype, engine, converters, true_values, false_values, skiprows, nrows, na_values, keep_default_na, na_filter, verbose, parse_dates, date_parser, thousands, comment, skipfooter, convert_float, mangle_dupe_cols)\u001b[0m\n\u001b[0;32m    302\u001b[0m \u001b[1;33m\u001b[0m\u001b[0m\n\u001b[0;32m    303\u001b[0m     \u001b[1;32mif\u001b[0m \u001b[1;32mnot\u001b[0m \u001b[0misinstance\u001b[0m\u001b[1;33m(\u001b[0m\u001b[0mio\u001b[0m\u001b[1;33m,\u001b[0m \u001b[0mExcelFile\u001b[0m\u001b[1;33m)\u001b[0m\u001b[1;33m:\u001b[0m\u001b[1;33m\u001b[0m\u001b[1;33m\u001b[0m\u001b[0m\n\u001b[1;32m--> 304\u001b[1;33m         \u001b[0mio\u001b[0m \u001b[1;33m=\u001b[0m \u001b[0mExcelFile\u001b[0m\u001b[1;33m(\u001b[0m\u001b[0mio\u001b[0m\u001b[1;33m,\u001b[0m \u001b[0mengine\u001b[0m\u001b[1;33m=\u001b[0m\u001b[0mengine\u001b[0m\u001b[1;33m)\u001b[0m\u001b[1;33m\u001b[0m\u001b[1;33m\u001b[0m\u001b[0m\n\u001b[0m\u001b[0;32m    305\u001b[0m     \u001b[1;32melif\u001b[0m \u001b[0mengine\u001b[0m \u001b[1;32mand\u001b[0m \u001b[0mengine\u001b[0m \u001b[1;33m!=\u001b[0m \u001b[0mio\u001b[0m\u001b[1;33m.\u001b[0m\u001b[0mengine\u001b[0m\u001b[1;33m:\u001b[0m\u001b[1;33m\u001b[0m\u001b[1;33m\u001b[0m\u001b[0m\n\u001b[0;32m    306\u001b[0m         raise ValueError(\n",
      "\u001b[1;32mE:\\WPy64-3902\\python-3.9.0.amd64\\lib\\site-packages\\pandas\\io\\excel\\_base.py\u001b[0m in \u001b[0;36m__init__\u001b[1;34m(self, path_or_buffer, engine)\u001b[0m\n\u001b[0;32m    865\u001b[0m         \u001b[0mself\u001b[0m\u001b[1;33m.\u001b[0m\u001b[0m_io\u001b[0m \u001b[1;33m=\u001b[0m \u001b[0mstringify_path\u001b[0m\u001b[1;33m(\u001b[0m\u001b[0mpath_or_buffer\u001b[0m\u001b[1;33m)\u001b[0m\u001b[1;33m\u001b[0m\u001b[1;33m\u001b[0m\u001b[0m\n\u001b[0;32m    866\u001b[0m \u001b[1;33m\u001b[0m\u001b[0m\n\u001b[1;32m--> 867\u001b[1;33m         \u001b[0mself\u001b[0m\u001b[1;33m.\u001b[0m\u001b[0m_reader\u001b[0m \u001b[1;33m=\u001b[0m \u001b[0mself\u001b[0m\u001b[1;33m.\u001b[0m\u001b[0m_engines\u001b[0m\u001b[1;33m[\u001b[0m\u001b[0mengine\u001b[0m\u001b[1;33m]\u001b[0m\u001b[1;33m(\u001b[0m\u001b[0mself\u001b[0m\u001b[1;33m.\u001b[0m\u001b[0m_io\u001b[0m\u001b[1;33m)\u001b[0m\u001b[1;33m\u001b[0m\u001b[1;33m\u001b[0m\u001b[0m\n\u001b[0m\u001b[0;32m    868\u001b[0m \u001b[1;33m\u001b[0m\u001b[0m\n\u001b[0;32m    869\u001b[0m     \u001b[1;32mdef\u001b[0m \u001b[0m__fspath__\u001b[0m\u001b[1;33m(\u001b[0m\u001b[0mself\u001b[0m\u001b[1;33m)\u001b[0m\u001b[1;33m:\u001b[0m\u001b[1;33m\u001b[0m\u001b[1;33m\u001b[0m\u001b[0m\n",
      "\u001b[1;32mE:\\WPy64-3902\\python-3.9.0.amd64\\lib\\site-packages\\pandas\\io\\excel\\_xlrd.py\u001b[0m in \u001b[0;36m__init__\u001b[1;34m(self, filepath_or_buffer)\u001b[0m\n\u001b[0;32m     20\u001b[0m         \u001b[0merr_msg\u001b[0m \u001b[1;33m=\u001b[0m \u001b[1;34m\"Install xlrd >= 1.0.0 for Excel support\"\u001b[0m\u001b[1;33m\u001b[0m\u001b[1;33m\u001b[0m\u001b[0m\n\u001b[0;32m     21\u001b[0m         \u001b[0mimport_optional_dependency\u001b[0m\u001b[1;33m(\u001b[0m\u001b[1;34m\"xlrd\"\u001b[0m\u001b[1;33m,\u001b[0m \u001b[0mextra\u001b[0m\u001b[1;33m=\u001b[0m\u001b[0merr_msg\u001b[0m\u001b[1;33m)\u001b[0m\u001b[1;33m\u001b[0m\u001b[1;33m\u001b[0m\u001b[0m\n\u001b[1;32m---> 22\u001b[1;33m         \u001b[0msuper\u001b[0m\u001b[1;33m(\u001b[0m\u001b[1;33m)\u001b[0m\u001b[1;33m.\u001b[0m\u001b[0m__init__\u001b[0m\u001b[1;33m(\u001b[0m\u001b[0mfilepath_or_buffer\u001b[0m\u001b[1;33m)\u001b[0m\u001b[1;33m\u001b[0m\u001b[1;33m\u001b[0m\u001b[0m\n\u001b[0m\u001b[0;32m     23\u001b[0m \u001b[1;33m\u001b[0m\u001b[0m\n\u001b[0;32m     24\u001b[0m     \u001b[1;33m@\u001b[0m\u001b[0mproperty\u001b[0m\u001b[1;33m\u001b[0m\u001b[1;33m\u001b[0m\u001b[0m\n",
      "\u001b[1;32mE:\\WPy64-3902\\python-3.9.0.amd64\\lib\\site-packages\\pandas\\io\\excel\\_base.py\u001b[0m in \u001b[0;36m__init__\u001b[1;34m(self, filepath_or_buffer)\u001b[0m\n\u001b[0;32m    351\u001b[0m             \u001b[0mself\u001b[0m\u001b[1;33m.\u001b[0m\u001b[0mbook\u001b[0m \u001b[1;33m=\u001b[0m \u001b[0mself\u001b[0m\u001b[1;33m.\u001b[0m\u001b[0mload_workbook\u001b[0m\u001b[1;33m(\u001b[0m\u001b[0mfilepath_or_buffer\u001b[0m\u001b[1;33m)\u001b[0m\u001b[1;33m\u001b[0m\u001b[1;33m\u001b[0m\u001b[0m\n\u001b[0;32m    352\u001b[0m         \u001b[1;32melif\u001b[0m \u001b[0misinstance\u001b[0m\u001b[1;33m(\u001b[0m\u001b[0mfilepath_or_buffer\u001b[0m\u001b[1;33m,\u001b[0m \u001b[0mstr\u001b[0m\u001b[1;33m)\u001b[0m\u001b[1;33m:\u001b[0m\u001b[1;33m\u001b[0m\u001b[1;33m\u001b[0m\u001b[0m\n\u001b[1;32m--> 353\u001b[1;33m             \u001b[0mself\u001b[0m\u001b[1;33m.\u001b[0m\u001b[0mbook\u001b[0m \u001b[1;33m=\u001b[0m \u001b[0mself\u001b[0m\u001b[1;33m.\u001b[0m\u001b[0mload_workbook\u001b[0m\u001b[1;33m(\u001b[0m\u001b[0mfilepath_or_buffer\u001b[0m\u001b[1;33m)\u001b[0m\u001b[1;33m\u001b[0m\u001b[1;33m\u001b[0m\u001b[0m\n\u001b[0m\u001b[0;32m    354\u001b[0m         \u001b[1;32melif\u001b[0m \u001b[0misinstance\u001b[0m\u001b[1;33m(\u001b[0m\u001b[0mfilepath_or_buffer\u001b[0m\u001b[1;33m,\u001b[0m \u001b[0mbytes\u001b[0m\u001b[1;33m)\u001b[0m\u001b[1;33m:\u001b[0m\u001b[1;33m\u001b[0m\u001b[1;33m\u001b[0m\u001b[0m\n\u001b[0;32m    355\u001b[0m             \u001b[0mself\u001b[0m\u001b[1;33m.\u001b[0m\u001b[0mbook\u001b[0m \u001b[1;33m=\u001b[0m \u001b[0mself\u001b[0m\u001b[1;33m.\u001b[0m\u001b[0mload_workbook\u001b[0m\u001b[1;33m(\u001b[0m\u001b[0mBytesIO\u001b[0m\u001b[1;33m(\u001b[0m\u001b[0mfilepath_or_buffer\u001b[0m\u001b[1;33m)\u001b[0m\u001b[1;33m)\u001b[0m\u001b[1;33m\u001b[0m\u001b[1;33m\u001b[0m\u001b[0m\n",
      "\u001b[1;32mE:\\WPy64-3902\\python-3.9.0.amd64\\lib\\site-packages\\pandas\\io\\excel\\_xlrd.py\u001b[0m in \u001b[0;36mload_workbook\u001b[1;34m(self, filepath_or_buffer)\u001b[0m\n\u001b[0;32m     35\u001b[0m             \u001b[1;32mreturn\u001b[0m \u001b[0mopen_workbook\u001b[0m\u001b[1;33m(\u001b[0m\u001b[0mfile_contents\u001b[0m\u001b[1;33m=\u001b[0m\u001b[0mdata\u001b[0m\u001b[1;33m)\u001b[0m\u001b[1;33m\u001b[0m\u001b[1;33m\u001b[0m\u001b[0m\n\u001b[0;32m     36\u001b[0m         \u001b[1;32melse\u001b[0m\u001b[1;33m:\u001b[0m\u001b[1;33m\u001b[0m\u001b[1;33m\u001b[0m\u001b[0m\n\u001b[1;32m---> 37\u001b[1;33m             \u001b[1;32mreturn\u001b[0m \u001b[0mopen_workbook\u001b[0m\u001b[1;33m(\u001b[0m\u001b[0mfilepath_or_buffer\u001b[0m\u001b[1;33m)\u001b[0m\u001b[1;33m\u001b[0m\u001b[1;33m\u001b[0m\u001b[0m\n\u001b[0m\u001b[0;32m     38\u001b[0m \u001b[1;33m\u001b[0m\u001b[0m\n\u001b[0;32m     39\u001b[0m     \u001b[1;33m@\u001b[0m\u001b[0mproperty\u001b[0m\u001b[1;33m\u001b[0m\u001b[1;33m\u001b[0m\u001b[0m\n",
      "\u001b[1;32mE:\\WPy64-3902\\python-3.9.0.amd64\\lib\\site-packages\\xlrd\\__init__.py\u001b[0m in \u001b[0;36mopen_workbook\u001b[1;34m(filename, logfile, verbosity, use_mmap, file_contents, encoding_override, formatting_info, on_demand, ragged_rows)\u001b[0m\n\u001b[0;32m    109\u001b[0m     \u001b[1;32melse\u001b[0m\u001b[1;33m:\u001b[0m\u001b[1;33m\u001b[0m\u001b[1;33m\u001b[0m\u001b[0m\n\u001b[0;32m    110\u001b[0m         \u001b[0mfilename\u001b[0m \u001b[1;33m=\u001b[0m \u001b[0mos\u001b[0m\u001b[1;33m.\u001b[0m\u001b[0mpath\u001b[0m\u001b[1;33m.\u001b[0m\u001b[0mexpanduser\u001b[0m\u001b[1;33m(\u001b[0m\u001b[0mfilename\u001b[0m\u001b[1;33m)\u001b[0m\u001b[1;33m\u001b[0m\u001b[1;33m\u001b[0m\u001b[0m\n\u001b[1;32m--> 111\u001b[1;33m         \u001b[1;32mwith\u001b[0m \u001b[0mopen\u001b[0m\u001b[1;33m(\u001b[0m\u001b[0mfilename\u001b[0m\u001b[1;33m,\u001b[0m \u001b[1;34m\"rb\"\u001b[0m\u001b[1;33m)\u001b[0m \u001b[1;32mas\u001b[0m \u001b[0mf\u001b[0m\u001b[1;33m:\u001b[0m\u001b[1;33m\u001b[0m\u001b[1;33m\u001b[0m\u001b[0m\n\u001b[0m\u001b[0;32m    112\u001b[0m             \u001b[0mpeek\u001b[0m \u001b[1;33m=\u001b[0m \u001b[0mf\u001b[0m\u001b[1;33m.\u001b[0m\u001b[0mread\u001b[0m\u001b[1;33m(\u001b[0m\u001b[0mpeeksz\u001b[0m\u001b[1;33m)\u001b[0m\u001b[1;33m\u001b[0m\u001b[1;33m\u001b[0m\u001b[0m\n\u001b[0;32m    113\u001b[0m     \u001b[1;32mif\u001b[0m \u001b[0mpeek\u001b[0m \u001b[1;33m==\u001b[0m \u001b[1;34mb\"PK\\x03\\x04\"\u001b[0m\u001b[1;33m:\u001b[0m \u001b[1;31m# a ZIP file\u001b[0m\u001b[1;33m\u001b[0m\u001b[1;33m\u001b[0m\u001b[0m\n",
      "\u001b[1;31mFileNotFoundError\u001b[0m: [Errno 2] No such file or directory: 'abc.xls'"
     ]
    }
   ],
   "source": [
    "c1 = pd.read_excel('abc.xls')\n",
    "c2 = readcsv('abc.csv')"
   ]
  },
  {
   "cell_type": "markdown",
   "metadata": {},
   "source": [
    "### 练习：读取数据文件"
   ]
  },
  {
   "cell_type": "code",
   "execution_count": 2,
   "metadata": {},
   "outputs": [],
   "source": [
    "cellphone = "
   ]
  },
  {
   "cell_type": "markdown",
   "metadata": {},
   "source": [
    "+ pandas索引和筛选数据"
   ]
  },
  {
   "cell_type": "code",
   "execution_count": 44,
   "metadata": {},
   "outputs": [],
   "source": [
    "df1 = cellphone[(cellphone[\"MSales\"]> 0)&(cellphone[\"Comments\"] > 0)] #取MSales和Comments大于0的数据"
   ]
  },
  {
   "cell_type": "code",
   "execution_count": 45,
   "metadata": {
    "collapsed": true,
    "jupyter": {
     "outputs_hidden": true
    }
   },
   "outputs": [
    {
     "data": {
      "text/html": [
       "<div>\n",
       "<style scoped>\n",
       "    .dataframe tbody tr th:only-of-type {\n",
       "        vertical-align: middle;\n",
       "    }\n",
       "\n",
       "    .dataframe tbody tr th {\n",
       "        vertical-align: top;\n",
       "    }\n",
       "\n",
       "    .dataframe thead th {\n",
       "        text-align: right;\n",
       "    }\n",
       "</style>\n",
       "<table border=\"1\" class=\"dataframe\">\n",
       "  <thead>\n",
       "    <tr style=\"text-align: right;\">\n",
       "      <th></th>\n",
       "      <th>Summary</th>\n",
       "      <th>Legend</th>\n",
       "      <th>Protection</th>\n",
       "      <th>Sale</th>\n",
       "      <th>Place</th>\n",
       "      <th>Price</th>\n",
       "      <th>Seller</th>\n",
       "      <th>MSales</th>\n",
       "      <th>Comments</th>\n",
       "    </tr>\n",
       "  </thead>\n",
       "  <tbody>\n",
       "    <tr>\n",
       "      <th>5</th>\n",
       "      <td>Motorola/摩托罗拉 EX212 V8(512M)2G 翻盖商务手机 原装正品</td>\n",
       "      <td>消费者保障\\t七天退换</td>\n",
       "      <td>七天退换</td>\n",
       "      <td>月售10笔\\t15条评价</td>\n",
       "      <td>广东 广州</td>\n",
       "      <td>288.00        运费：10.00           信用卡</td>\n",
       "      <td>宏达通讯旗舰店</td>\n",
       "      <td>10</td>\n",
       "      <td>15</td>\n",
       "    </tr>\n",
       "    <tr>\n",
       "      <th>7</th>\n",
       "      <td>Sony Ericsson/索尼爱立信 W20/Zylo  音乐手机 行货 全国联保</td>\n",
       "      <td>消费者保障\\t七天退换\\t正品保障</td>\n",
       "      <td>七天退换</td>\n",
       "      <td>月售19笔\\t16条评价</td>\n",
       "      <td>浙江 杭州</td>\n",
       "      <td>530.00        运费：6.00           信用卡</td>\n",
       "      <td>龙浙数码专营店</td>\n",
       "      <td>19</td>\n",
       "      <td>16</td>\n",
       "    </tr>\n",
       "    <tr>\n",
       "      <th>12</th>\n",
       "      <td>行货正品Nokia/诺基亚 1000 大按键老人直板手机带手电筒收音机</td>\n",
       "      <td>消费者保障\\t七天退换</td>\n",
       "      <td>七天退换</td>\n",
       "      <td>月售27笔\\t4条评价</td>\n",
       "      <td>浙江 杭州</td>\n",
       "      <td>110.00        运费：0.00</td>\n",
       "      <td>华万通商城</td>\n",
       "      <td>27</td>\n",
       "      <td>4</td>\n",
       "    </tr>\n",
       "    <tr>\n",
       "      <th>22</th>\n",
       "      <td>【包邮现货/今日特价】Coolpad/酷派 8013手机 移动3G 安卓智能机</td>\n",
       "      <td>消费者保障\\t七天退换\\t正品保障</td>\n",
       "      <td>七天退换</td>\n",
       "      <td>月售4笔\\t4条评价</td>\n",
       "      <td>浙江 杭州</td>\n",
       "      <td>415.00        运费：0.00           信用卡</td>\n",
       "      <td>迈成达数码专营店</td>\n",
       "      <td>4</td>\n",
       "      <td>4</td>\n",
       "    </tr>\n",
       "    <tr>\n",
       "      <th>25</th>\n",
       "      <td>Samsung/三星 GT-B9120 大器2 3g安卓智能双卡双待 翻盖商务手机</td>\n",
       "      <td>消费者保障</td>\n",
       "      <td>无七天退换</td>\n",
       "      <td>月售2笔\\t1条评价</td>\n",
       "      <td>广东 广州</td>\n",
       "      <td>1090.00        运费：15.00</td>\n",
       "      <td>智能手机驿站</td>\n",
       "      <td>2</td>\n",
       "      <td>1</td>\n",
       "    </tr>\n",
       "    <tr>\n",
       "      <th>...</th>\n",
       "      <td>...</td>\n",
       "      <td>...</td>\n",
       "      <td>...</td>\n",
       "      <td>...</td>\n",
       "      <td>...</td>\n",
       "      <td>...</td>\n",
       "      <td>...</td>\n",
       "      <td>...</td>\n",
       "      <td>...</td>\n",
       "    </tr>\n",
       "    <tr>\n",
       "      <th>5944</th>\n",
       "      <td>包韵达 Huawei/华为 T8600 移动3G CMMB 智能手机 送原装电&lt;e6&gt;&lt;b1&gt;</td>\n",
       "      <td>消费者保障\\t七天退换\\t正品保障</td>\n",
       "      <td>七天退换</td>\n",
       "      <td>月售452笔\\t690条评价</td>\n",
       "      <td>北京</td>\n",
       "      <td>499.00        运费：0.00           信用卡</td>\n",
       "      <td>恒凯数码专营店</td>\n",
       "      <td>452</td>\n",
       "      <td>690</td>\n",
       "    </tr>\n",
       "    <tr>\n",
       "      <th>5958</th>\n",
       "      <td>K-Touch/天语 T580手机3G天语W650单卡版安卓智能手机</td>\n",
       "      <td>消费者保障\\t七天退换\\t正品保障</td>\n",
       "      <td>七天退换</td>\n",
       "      <td>月售18笔\\t2条评价</td>\n",
       "      <td>北京</td>\n",
       "      <td>429.00        运费：0.00           信用卡</td>\n",
       "      <td>华鼎焕业数码专营店</td>\n",
       "      <td>18</td>\n",
       "      <td>2</td>\n",
       "    </tr>\n",
       "    <tr>\n",
       "      <th>5963</th>\n",
       "      <td>送蓝牙耳机 Gionee/金立 A320  男士翻盖商务手机 双卡双待手机</td>\n",
       "      <td>消费者保障\\t七天退换\\t正品保障</td>\n",
       "      <td>七天退换</td>\n",
       "      <td>月售113笔\\t67条评价</td>\n",
       "      <td>北京</td>\n",
       "      <td>999.00        运费：0.00           信用卡</td>\n",
       "      <td>华光手机专营店</td>\n",
       "      <td>113</td>\n",
       "      <td>67</td>\n",
       "    </tr>\n",
       "    <tr>\n",
       "      <th>5970</th>\n",
       "      <td>【包邮/送大礼包】Coolpad/酷派 7260手机 7260+ 纯净版 已root</td>\n",
       "      <td>消费者保障\\t七天退换\\t正品保障</td>\n",
       "      <td>七天退换</td>\n",
       "      <td>月售28笔\\t30条评价</td>\n",
       "      <td>浙江 杭州</td>\n",
       "      <td>659.04        运费：0.00           信用卡</td>\n",
       "      <td>迈成达数码专营店</td>\n",
       "      <td>28</td>\n",
       "      <td>30</td>\n",
       "    </tr>\n",
       "    <tr>\n",
       "      <th>5976</th>\n",
       "      <td>LG P970 智能手机 超薄大屏 正品行货 8G卡+原电 双电双充 包邮</td>\n",
       "      <td>消费者保障\\t七天退换\\t正品保障</td>\n",
       "      <td>七天退换</td>\n",
       "      <td>月售18笔\\t14条评价</td>\n",
       "      <td>广东 广州</td>\n",
       "      <td>1340.65        运费：0.00           信用卡</td>\n",
       "      <td>诚客鸿数码专营店</td>\n",
       "      <td>18</td>\n",
       "      <td>14</td>\n",
       "    </tr>\n",
       "  </tbody>\n",
       "</table>\n",
       "<p>645 rows × 9 columns</p>\n",
       "</div>"
      ],
      "text/plain": [
       "                                              Summary             Legend  \\\n",
       "5          Motorola/摩托罗拉 EX212 V8(512M)2G 翻盖商务手机 原装正品        消费者保障\\t七天退换   \n",
       "7          Sony Ericsson/索尼爱立信 W20/Zylo  音乐手机 行货 全国联保  消费者保障\\t七天退换\\t正品保障   \n",
       "12                行货正品Nokia/诺基亚 1000 大按键老人直板手机带手电筒收音机        消费者保障\\t七天退换   \n",
       "22            【包邮现货/今日特价】Coolpad/酷派 8013手机 移动3G 安卓智能机  消费者保障\\t七天退换\\t正品保障   \n",
       "25          Samsung/三星 GT-B9120 大器2 3g安卓智能双卡双待 翻盖商务手机              消费者保障   \n",
       "...                                               ...                ...   \n",
       "5944  包韵达 Huawei/华为 T8600 移动3G CMMB 智能手机 送原装电<e6><b1>  消费者保障\\t七天退换\\t正品保障   \n",
       "5958               K-Touch/天语 T580手机3G天语W650单卡版安卓智能手机  消费者保障\\t七天退换\\t正品保障   \n",
       "5963            送蓝牙耳机 Gionee/金立 A320  男士翻盖商务手机 双卡双待手机  消费者保障\\t七天退换\\t正品保障   \n",
       "5970       【包邮/送大礼包】Coolpad/酷派 7260手机 7260+ 纯净版 已root  消费者保障\\t七天退换\\t正品保障   \n",
       "5976            LG P970 智能手机 超薄大屏 正品行货 8G卡+原电 双电双充 包邮  消费者保障\\t七天退换\\t正品保障   \n",
       "\n",
       "     Protection            Sale  Place                                 Price  \\\n",
       "5          七天退换    月售10笔\\t15条评价  广东 广州  288.00        运费：10.00           信用卡   \n",
       "7          七天退换    月售19笔\\t16条评价  浙江 杭州   530.00        运费：6.00           信用卡   \n",
       "12         七天退换     月售27笔\\t4条评价  浙江 杭州                 110.00        运费：0.00   \n",
       "22         七天退换      月售4笔\\t4条评价  浙江 杭州   415.00        运费：0.00           信用卡   \n",
       "25        无七天退换      月售2笔\\t1条评价  广东 广州               1090.00        运费：15.00   \n",
       "...         ...             ...    ...                                   ...   \n",
       "5944       七天退换  月售452笔\\t690条评价     北京   499.00        运费：0.00           信用卡   \n",
       "5958       七天退换     月售18笔\\t2条评价     北京   429.00        运费：0.00           信用卡   \n",
       "5963       七天退换   月售113笔\\t67条评价     北京   999.00        运费：0.00           信用卡   \n",
       "5970       七天退换    月售28笔\\t30条评价  浙江 杭州   659.04        运费：0.00           信用卡   \n",
       "5976       七天退换    月售18笔\\t14条评价  广东 广州  1340.65        运费：0.00           信用卡   \n",
       "\n",
       "         Seller  MSales  Comments  \n",
       "5       宏达通讯旗舰店      10        15  \n",
       "7       龙浙数码专营店      19        16  \n",
       "12        华万通商城      27         4  \n",
       "22     迈成达数码专营店       4         4  \n",
       "25       智能手机驿站       2         1  \n",
       "...         ...     ...       ...  \n",
       "5944    恒凯数码专营店     452       690  \n",
       "5958  华鼎焕业数码专营店      18         2  \n",
       "5963    华光手机专营店     113        67  \n",
       "5970   迈成达数码专营店      28        30  \n",
       "5976   诚客鸿数码专营店      18        14  \n",
       "\n",
       "[645 rows x 9 columns]"
      ]
     },
     "execution_count": 45,
     "metadata": {},
     "output_type": "execute_result"
    }
   ],
   "source": [
    "df2 = cellphone[(cellphone['Place'] == '广东 广州') \n",
    "                | (cellphone['Place'] == '浙江 杭州')\n",
    "                | (cellphone['Place'] == '北京')\n",
    "               ]\n",
    "df2"
   ]
  },
  {
   "cell_type": "code",
   "execution_count": 3,
   "metadata": {
    "collapsed": true,
    "jupyter": {
     "outputs_hidden": true
    }
   },
   "outputs": [
    {
     "data": {
      "text/html": [
       "<div>\n",
       "<style scoped>\n",
       "    .dataframe tbody tr th:only-of-type {\n",
       "        vertical-align: middle;\n",
       "    }\n",
       "\n",
       "    .dataframe tbody tr th {\n",
       "        vertical-align: top;\n",
       "    }\n",
       "\n",
       "    .dataframe thead th {\n",
       "        text-align: right;\n",
       "    }\n",
       "</style>\n",
       "<table border=\"1\" class=\"dataframe\">\n",
       "  <thead>\n",
       "    <tr style=\"text-align: right;\">\n",
       "      <th></th>\n",
       "      <th>Summary</th>\n",
       "      <th>Legend</th>\n",
       "      <th>Protection</th>\n",
       "      <th>Sale</th>\n",
       "      <th>Place</th>\n",
       "      <th>Price</th>\n",
       "      <th>Seller</th>\n",
       "      <th>MSales</th>\n",
       "      <th>Comments</th>\n",
       "    </tr>\n",
       "  </thead>\n",
       "  <tbody>\n",
       "    <tr>\n",
       "      <th>5</th>\n",
       "      <td>Motorola/摩托罗拉 EX212 V8(512M)2G 翻盖商务手机 原装正品</td>\n",
       "      <td>消费者保障\\t七天退换</td>\n",
       "      <td>七天退换</td>\n",
       "      <td>月售10笔\\t15条评价</td>\n",
       "      <td>广东 广州</td>\n",
       "      <td>288.00        运费：10.00           信用卡</td>\n",
       "      <td>宏达通讯旗舰店</td>\n",
       "      <td>10</td>\n",
       "      <td>15</td>\n",
       "    </tr>\n",
       "    <tr>\n",
       "      <th>25</th>\n",
       "      <td>Samsung/三星 GT-B9120 大器2 3g安卓智能双卡双待 翻盖商务手机</td>\n",
       "      <td>消费者保障</td>\n",
       "      <td>无七天退换</td>\n",
       "      <td>月售2笔\\t1条评价</td>\n",
       "      <td>广东 广州</td>\n",
       "      <td>1090.00        运费：15.00</td>\n",
       "      <td>智能手机驿站</td>\n",
       "      <td>2</td>\n",
       "      <td>1</td>\n",
       "    </tr>\n",
       "    <tr>\n",
       "      <th>98</th>\n",
       "      <td>Samsung/三星 GT-B9120 大器2 3g安卓智能双卡双待 翻盖商务手机</td>\n",
       "      <td>消费者保障</td>\n",
       "      <td>无七天退换</td>\n",
       "      <td>月售2笔\\t1条评价</td>\n",
       "      <td>广东 广州</td>\n",
       "      <td>1090.00        运费：15.00</td>\n",
       "      <td>智能手机驿站</td>\n",
       "      <td>2</td>\n",
       "      <td>1</td>\n",
       "    </tr>\n",
       "    <tr>\n",
       "      <th>114</th>\n",
       "      <td>z560e one s500W摄像头wifi 导航 x双模双待GSM/CDMA安卓智能手机</td>\n",
       "      <td>消费者保障\\t七天退换</td>\n",
       "      <td>七天退换</td>\n",
       "      <td>月售2笔</td>\n",
       "      <td>广东 广州</td>\n",
       "      <td>889.11        运费：0.00           信用卡</td>\n",
       "      <td>峭壁商铺</td>\n",
       "      <td>2</td>\n",
       "      <td>0</td>\n",
       "    </tr>\n",
       "    <tr>\n",
       "      <th>155</th>\n",
       "      <td>Hedy/七喜 V100 迷你 超长待机 双卡双待 直板手机 行货联保特价</td>\n",
       "      <td>消费者保障\\t七天退换</td>\n",
       "      <td>七天退换</td>\n",
       "      <td>NaN</td>\n",
       "      <td>广东 广州</td>\n",
       "      <td>123.00        运费：15.00           信用卡</td>\n",
       "      <td>新款品牌</td>\n",
       "      <td>0</td>\n",
       "      <td>0</td>\n",
       "    </tr>\n",
       "    <tr>\n",
       "      <th>...</th>\n",
       "      <td>...</td>\n",
       "      <td>...</td>\n",
       "      <td>...</td>\n",
       "      <td>...</td>\n",
       "      <td>...</td>\n",
       "      <td>...</td>\n",
       "      <td>...</td>\n",
       "      <td>...</td>\n",
       "      <td>...</td>\n",
       "    </tr>\n",
       "    <tr>\n",
       "      <th>5884</th>\n",
       "      <td>正品宝捷讯手机 JX1133老人儿童机 语音报号 备用机 新款上市</td>\n",
       "      <td>消费者保障</td>\n",
       "      <td>无七天退换</td>\n",
       "      <td>月售4笔\\t1条评价</td>\n",
       "      <td>浙江 杭州</td>\n",
       "      <td>88.00        运费：6.00           信用卡</td>\n",
       "      <td>骆无敌</td>\n",
       "      <td>4</td>\n",
       "      <td>1</td>\n",
       "    </tr>\n",
       "    <tr>\n",
       "      <th>5912</th>\n",
       "      <td>超薄迷你袖珍最薄最轻最小超小个性男女学生儿童可爱直板卡片手机</td>\n",
       "      <td>消费者保障\\t七天退换</td>\n",
       "      <td>七天退换</td>\n",
       "      <td>月售17笔\\t1条评价</td>\n",
       "      <td>浙江 杭州</td>\n",
       "      <td>112.64        运费：6.00           折扣</td>\n",
       "      <td>beijing169</td>\n",
       "      <td>17</td>\n",
       "      <td>1</td>\n",
       "    </tr>\n",
       "    <tr>\n",
       "      <th>5918</th>\n",
       "      <td>Samsung/三星 F299正品电信CDMA 189天翼手机 QQ 滑盖手机 包邮</td>\n",
       "      <td>消费者保障\\t七天退换</td>\n",
       "      <td>七天退换</td>\n",
       "      <td>月售142笔\\t240条评价</td>\n",
       "      <td>浙江 杭州</td>\n",
       "      <td>189.05        运费：0.00</td>\n",
       "      <td>明达数码城89</td>\n",
       "      <td>142</td>\n",
       "      <td>240</td>\n",
       "    </tr>\n",
       "    <tr>\n",
       "      <th>5926</th>\n",
       "      <td>K-Touch/天语 W806 W806+ 大黄蜂 双核手机  假一赔三 现货包邮</td>\n",
       "      <td>消费者保障\\t七天退换</td>\n",
       "      <td>七天退换</td>\n",
       "      <td>月售237笔\\t561条评价</td>\n",
       "      <td>浙江 杭州</td>\n",
       "      <td>1090.12        运费：0.00           信用卡</td>\n",
       "      <td>魔力堂数码</td>\n",
       "      <td>237</td>\n",
       "      <td>561</td>\n",
       "    </tr>\n",
       "    <tr>\n",
       "      <th>5970</th>\n",
       "      <td>【包邮/送大礼包】Coolpad/酷派 7260手机 7260+ 纯净版 已root</td>\n",
       "      <td>消费者保障\\t七天退换\\t正品保障</td>\n",
       "      <td>七天退换</td>\n",
       "      <td>月售28笔\\t30条评价</td>\n",
       "      <td>浙江 杭州</td>\n",
       "      <td>659.04        运费：0.00           信用卡</td>\n",
       "      <td>迈成达数码专营店</td>\n",
       "      <td>28</td>\n",
       "      <td>30</td>\n",
       "    </tr>\n",
       "  </tbody>\n",
       "</table>\n",
       "<p>360 rows × 9 columns</p>\n",
       "</div>"
      ],
      "text/plain": [
       "                                            Summary             Legend  \\\n",
       "5        Motorola/摩托罗拉 EX212 V8(512M)2G 翻盖商务手机 原装正品        消费者保障\\t七天退换   \n",
       "25        Samsung/三星 GT-B9120 大器2 3g安卓智能双卡双待 翻盖商务手机              消费者保障   \n",
       "98        Samsung/三星 GT-B9120 大器2 3g安卓智能双卡双待 翻盖商务手机              消费者保障   \n",
       "114   z560e one s500W摄像头wifi 导航 x双模双待GSM/CDMA安卓智能手机        消费者保障\\t七天退换   \n",
       "155           Hedy/七喜 V100 迷你 超长待机 双卡双待 直板手机 行货联保特价        消费者保障\\t七天退换   \n",
       "...                                             ...                ...   \n",
       "5884              正品宝捷讯手机 JX1133老人儿童机 语音报号 备用机 新款上市              消费者保障   \n",
       "5912                 超薄迷你袖珍最薄最轻最小超小个性男女学生儿童可爱直板卡片手机        消费者保障\\t七天退换   \n",
       "5918     Samsung/三星 F299正品电信CDMA 189天翼手机 QQ 滑盖手机 包邮        消费者保障\\t七天退换   \n",
       "5926      K-Touch/天语 W806 W806+ 大黄蜂 双核手机  假一赔三 现货包邮        消费者保障\\t七天退换   \n",
       "5970     【包邮/送大礼包】Coolpad/酷派 7260手机 7260+ 纯净版 已root  消费者保障\\t七天退换\\t正品保障   \n",
       "\n",
       "     Protection            Sale  Place                                 Price  \\\n",
       "5          七天退换    月售10笔\\t15条评价  广东 广州  288.00        运费：10.00           信用卡   \n",
       "25        无七天退换      月售2笔\\t1条评价  广东 广州               1090.00        运费：15.00   \n",
       "98        无七天退换      月售2笔\\t1条评价  广东 广州               1090.00        运费：15.00   \n",
       "114        七天退换            月售2笔  广东 广州   889.11        运费：0.00           信用卡   \n",
       "155        七天退换             NaN  广东 广州  123.00        运费：15.00           信用卡   \n",
       "...         ...             ...    ...                                   ...   \n",
       "5884      无七天退换      月售4笔\\t1条评价  浙江 杭州    88.00        运费：6.00           信用卡   \n",
       "5912       七天退换     月售17笔\\t1条评价  浙江 杭州    112.64        运费：6.00           折扣   \n",
       "5918       七天退换  月售142笔\\t240条评价  浙江 杭州                 189.05        运费：0.00   \n",
       "5926       七天退换  月售237笔\\t561条评价  浙江 杭州  1090.12        运费：0.00           信用卡   \n",
       "5970       七天退换    月售28笔\\t30条评价  浙江 杭州   659.04        运费：0.00           信用卡   \n",
       "\n",
       "          Seller  MSales  Comments  \n",
       "5        宏达通讯旗舰店      10        15  \n",
       "25        智能手机驿站       2         1  \n",
       "98        智能手机驿站       2         1  \n",
       "114         峭壁商铺       2         0  \n",
       "155         新款品牌       0         0  \n",
       "...          ...     ...       ...  \n",
       "5884         骆无敌       4         1  \n",
       "5912  beijing169      17         1  \n",
       "5918     明达数码城89     142       240  \n",
       "5926       魔力堂数码     237       561  \n",
       "5970    迈成达数码专营店      28        30  \n",
       "\n",
       "[360 rows x 9 columns]"
      ]
     },
     "execution_count": 3,
     "metadata": {},
     "output_type": "execute_result"
    }
   ],
   "source": [
    "df3 = cellphone[cellphone['Place'] == '广东 广州'].append(cellphone[cellphone['Place'] == '浙江 杭州'])\n",
    "df3"
   ]
  },
  {
   "cell_type": "markdown",
   "metadata": {},
   "source": [
    "# 常用统计量\n",
    "+ 表示位置：平均值和中位数\n",
    "+ 表示变异程度：标准差、方差和极差\n",
    "+ 表示分布形状：峰度（3为正态分布）和偏度（0为对称）"
   ]
  },
  {
   "attachments": {
    "54c70326-6ba2-40b2-8ea3-1cbf82096f55.png": {
     "image/png": "[encoded data removed]"
    }
   },
   "cell_type": "markdown",
   "metadata": {},
   "source": [
    "![image.png](attachment:54c70326-6ba2-40b2-8ea3-1cbf82096f55.png)"
   ]
  },
  {
   "cell_type": "code",
   "execution_count": 58,
   "metadata": {},
   "outputs": [
    {
     "name": "stdout",
     "output_type": "stream",
     "text": [
      "mean= 2.5\n",
      "std= 1.118033988749895\n",
      "var= 1.25\n",
      "median= 2.5\n",
      "max-min= 3\n",
      "percentile= 2.0\n"
     ]
    }
   ],
   "source": [
    "print(\"mean=\",np.mean([1,2,3,4])) #求均值\n",
    "print(\"std=\",np.std([1,2,3,4])) #标准差，就是方差开平方\n",
    "print(\"var=\",np.var([1,2,3,4])) #方差\n",
    "print(\"median=\",np.median([1,2,3,4])) #中位数\n",
    "print(\"max-min=\",np.ptp([1,2,3,4])) #极差\n",
    "print(\"percentile=\",np.percentile([1,2,3,4,5], 25)) #分位数"
   ]
  },
  {
   "cell_type": "markdown",
   "metadata": {},
   "source": [
    "### 练习：计算‘MSales’这一列的统计量"
   ]
  },
  {
   "cell_type": "code",
   "execution_count": 4,
   "metadata": {},
   "outputs": [
    {
     "name": "stdout",
     "output_type": "stream",
     "text": [
      "mean= 137.23055555555555\n",
      "std= 333.7921087205865\n",
      "var= 111417.17184413584\n",
      "median= 27.0\n",
      "max-min= 2802\n",
      "percentile= 5.0\n"
     ]
    }
   ],
   "source": []
  },
  {
   "cell_type": "code",
   "execution_count": 32,
   "metadata": {},
   "outputs": [
    {
     "data": {
      "text/html": [
       "<div>\n",
       "<style scoped>\n",
       "    .dataframe tbody tr th:only-of-type {\n",
       "        vertical-align: middle;\n",
       "    }\n",
       "\n",
       "    .dataframe tbody tr th {\n",
       "        vertical-align: top;\n",
       "    }\n",
       "\n",
       "    .dataframe thead th {\n",
       "        text-align: right;\n",
       "    }\n",
       "</style>\n",
       "<table border=\"1\" class=\"dataframe\">\n",
       "  <thead>\n",
       "    <tr style=\"text-align: right;\">\n",
       "      <th></th>\n",
       "      <th>Summary</th>\n",
       "      <th>Legend</th>\n",
       "      <th>Protection</th>\n",
       "      <th>Sale</th>\n",
       "      <th>Price</th>\n",
       "      <th>Seller</th>\n",
       "      <th>MSales</th>\n",
       "      <th>Comments</th>\n",
       "    </tr>\n",
       "    <tr>\n",
       "      <th>Place</th>\n",
       "      <th></th>\n",
       "      <th></th>\n",
       "      <th></th>\n",
       "      <th></th>\n",
       "      <th></th>\n",
       "      <th></th>\n",
       "      <th></th>\n",
       "      <th></th>\n",
       "    </tr>\n",
       "  </thead>\n",
       "  <tbody>\n",
       "    <tr>\n",
       "      <th>广东 广州</th>\n",
       "      <td>91</td>\n",
       "      <td>91</td>\n",
       "      <td>91</td>\n",
       "      <td>60</td>\n",
       "      <td>91</td>\n",
       "      <td>91</td>\n",
       "      <td>91</td>\n",
       "      <td>91</td>\n",
       "    </tr>\n",
       "    <tr>\n",
       "      <th>浙江 杭州</th>\n",
       "      <td>269</td>\n",
       "      <td>269</td>\n",
       "      <td>269</td>\n",
       "      <td>249</td>\n",
       "      <td>269</td>\n",
       "      <td>269</td>\n",
       "      <td>269</td>\n",
       "      <td>269</td>\n",
       "    </tr>\n",
       "  </tbody>\n",
       "</table>\n",
       "</div>"
      ],
      "text/plain": [
       "       Summary  Legend  Protection  Sale  Price  Seller  MSales  Comments\n",
       "Place                                                                    \n",
       "广东 广州       91      91          91    60     91      91      91        91\n",
       "浙江 杭州      269     269         269   249    269     269     269       269"
      ]
     },
     "execution_count": 32,
     "metadata": {},
     "output_type": "execute_result"
    }
   ],
   "source": [
    "df3.groupby('Place').count() #根据Place分组，计数"
   ]
  },
  {
   "cell_type": "code",
   "execution_count": 29,
   "metadata": {},
   "outputs": [
    {
     "data": {
      "text/plain": [
       "91"
      ]
     },
     "execution_count": 29,
     "metadata": {},
     "output_type": "execute_result"
    }
   ],
   "source": [
    "len(list(df3[df3['Place'] == '广东 广州']['Legend']))"
   ]
  },
  {
   "cell_type": "code",
   "execution_count": 15,
   "metadata": {},
   "outputs": [
    {
     "data": {
      "text/plain": [
       "4"
      ]
     },
     "execution_count": 15,
     "metadata": {},
     "output_type": "execute_result"
    }
   ],
   "source": [
    "len(set(df3[df3['Place'] == '广东 广州']['Legend']))"
   ]
  },
  {
   "cell_type": "code",
   "execution_count": 19,
   "metadata": {},
   "outputs": [
    {
     "data": {
      "text/plain": [
       "([<matplotlib.patches.Wedge at 0x184f7e599a0>,\n",
       "  <matplotlib.patches.Wedge at 0x184f7e67160>],\n",
       " [Text(0.771000172773617, 0.7845755117151267, '广东 广州'),\n",
       "  Text(-0.7710000993163529, -0.7845755839013691, '浙江 杭州')])"
      ]
     },
     "execution_count": 19,
     "metadata": {},
     "output_type": "execute_result"
    },
    {
     "data": {
      "image/png": "[encoded data removed]",
      "text/plain": [
       "<Figure size 432x288 with 2 Axes>"
      ]
     },
     "metadata": {
      "needs_background": "light"
     },
     "output_type": "display_data"
    }
   ],
   "source": [
    "# 画出离散型变量Place的条形图和饼图\n",
    "dffreq = df3.groupby(by='Place').count()['MSales'] #频数分布表\n",
    "fig, (ax1, ax2) = plt.subplots(1, 2)\n",
    "ax1.bar(np.arange(len(dffreq)), dffreq, color='lightblue', align='center') #条形图\n",
    "ax2.pie(dffreq, labels = dffreq.index) #饼图"
   ]
  },
  {
   "cell_type": "markdown",
   "metadata": {},
   "source": [
    "### 练习\n",
    "+ 给柱状图设置合理的坐标和label\n",
    "+ 给柱状图的柱子设置和饼图一样的颜色\n",
    "+ 给柱状图加legend\n",
    "+ 把数字加到柱状图上，百分比加到饼图上。https://matplotlib.org/stable/gallery/pie_and_polar_charts/index.html"
   ]
  },
  {
   "cell_type": "code",
   "execution_count": 18,
   "metadata": {},
   "outputs": [
    {
     "data": {
      "image/png": "[encoded data removed]",
      "text/plain": [
       "<Figure size 432x288 with 2 Axes>"
      ]
     },
     "metadata": {
      "needs_background": "light"
     },
     "output_type": "display_data"
    }
   ],
   "source": [
    "bar_labels = dffreq.index\n",
    "bar_colors = ['tab:blue', 'tab:orange']\n",
    "###在下面填入绘制柱状图的代码###\n",
    "\n",
    "\n",
    "p2 = ax2.pie(dffreq, labels = dffreq.index, \n",
    "             autopct='%1.1f%%', explode=(0, 0.1), startangle=90, \n",
    "             shadow=True) #饼图"
   ]
  },
  {
   "cell_type": "markdown",
   "metadata": {},
   "source": [
    "### 拓展\n",
    "+ 加上列Sales的统计\n",
    "+ 两组bar label分别为MSales和Sale"
   ]
  },
  {
   "cell_type": "code",
   "execution_count": 21,
   "metadata": {},
   "outputs": [
    {
     "data": {
      "text/plain": [
       "Place\n",
       "广东 广州     60\n",
       "浙江 杭州    249\n",
       "Name: Sale, dtype: int64"
      ]
     },
     "execution_count": 21,
     "metadata": {},
     "output_type": "execute_result"
    }
   ],
   "source": [
    "dffreq1 = df3.groupby(by='Place').count()['Sale'] #频数分布表\n",
    "dffreq1"
   ]
  },
  {
   "cell_type": "code",
   "execution_count": 47,
   "metadata": {},
   "outputs": [
    {
     "data": {
      "image/png": "[encoded data removed]",
      "text/plain": [
       "<Figure size 432x288 with 2 Axes>"
      ]
     },
     "metadata": {
      "needs_background": "light"
     },
     "output_type": "display_data"
    }
   ],
   "source": [
    "bar_labels = dffreq.index\n",
    "bar_colors = ['tab:blue', 'tab:orange']\n",
    "bar_colors1 = ['lightblue', 'orange']\n",
    "x = np.arange(len(bar_labels))  # the label locations\n",
    "width = 0.35  # the width of the bars\n",
    "\n",
    "fig, (ax1, ax2) = plt.subplots(1, 2)\n",
    "p1 = ax1.bar(x - width/2,  dffreq, width,\n",
    "             label='MSales', color=bar_colors, \n",
    "             align='center') #条形图\n",
    "p2 = ax1.bar(x + width/2,  dffreq1, width,\n",
    "             label='Sale', color=bar_colors1, \n",
    "             align='center') #条形图\n",
    "ax1.legend(loc='upper left', fontsize=8)\n",
    "ax1.set_xlabel('Place')\n",
    "ax1.set_ylabel('Counts')\n",
    "ax1.bar_label(p1)\n",
    "ax1.bar_label(p2, padding=10)\n",
    "ax1.set_xticks(x, bar_labels)\n",
    "p3 = ax2.pie(dffreq, labels = dffreq.index, \n",
    "             autopct='%1.1f%%', explode=(0, 0.1), startangle=90, \n",
    "             shadow=True) #饼图"
   ]
  },
  {
   "cell_type": "markdown",
   "metadata": {},
   "source": [
    "### 练习\n",
    "+ 重新设计子图结构，设计成左边柱状图右边两个饼图https://matplotlib.org/stable/gallery/subplots_axes_and_figures/gridspec_and_subplots.html#sphx-glr-gallery-subplots-axes-and-figures-gridspec-and-subplots-py\n",
    "+ 给右边的饼图加个legend\n",
    "+ 参考资料https://matplotlib.org/stable/gallery/pie_and_polar_charts/index.html"
   ]
  },
  {
   "cell_type": "code",
   "execution_count": 5,
   "metadata": {},
   "outputs": [
    {
     "data": {
      "text/plain": [
       "Text(0.1, 0.5, 'Big Axes \\nGridSpec[1:, -1]')"
      ]
     },
     "execution_count": 5,
     "metadata": {},
     "output_type": "execute_result"
    },
    {
     "data": {
      "image/png": "[encoded data removed]",
      "text/plain": [
       "<Figure size 432x288 with 8 Axes>"
      ]
     },
     "metadata": {
      "needs_background": "light"
     },
     "output_type": "display_data"
    }
   ],
   "source": [
    "# 官网例子\n",
    "fig, axs = plt.subplots(ncols=3, nrows=3, constrained_layout=True)\n",
    "gs = axs[1, 2].get_gridspec()\n",
    "# remove the underlying axes\n",
    "for ax in axs[1:, -1]:\n",
    "    ax.remove()\n",
    "axbig = fig.add_subplot(gs[1:, -1])\n",
    "axbig.annotate('Big Axes \\nGridSpec[1:, -1]', (0.1, 0.5),\n",
    "               xycoords='axes fraction', va='center')"
   ]
  },
  {
   "cell_type": "code",
   "execution_count": 3,
   "metadata": {},
   "outputs": [
    {
     "data": {
      "text/plain": [
       "Text(0.2, 0.5, 'Bars are here. \\nPos is (0.2,0.5)')"
      ]
     },
     "execution_count": 3,
     "metadata": {},
     "output_type": "execute_result"
    },
    {
     "data": {
      "image/png": "[encoded data removed]",
      "text/plain": [
       "<Figure size 432x216 with 3 Axes>"
      ]
     },
     "metadata": {
      "needs_background": "light"
     },
     "output_type": "display_data"
    }
   ],
   "source": [
    "fig, axs = plt.subplots(ncols=2, nrows=2, figsize=(6, 3), constrained_layout=True)\n",
    "gs = axs[0, 0].get_gridspec()\n",
    "# remove the underlying axes\n",
    "for ax in axs[0:, 0]:\n",
    "    ax.remove()\n",
    "    \n",
    "axbar = fig.add_subplot(gs[0:, 0])\n",
    "axbar.annotate('Bars are here. \\nPos is (0.2,0.5)', (0.2, 0.5),\n",
    "               #xycoords='axes fraction', \n",
    "               va='center')"
   ]
  },
  {
   "cell_type": "code",
   "execution_count": 83,
   "metadata": {},
   "outputs": [
    {
     "data": {
      "text/plain": [
       "<matplotlib.legend.Legend at 0x184f7a4a790>"
      ]
     },
     "execution_count": 83,
     "metadata": {},
     "output_type": "execute_result"
    },
    {
     "data": {
      "image/png": "[encoded data removed]",
      "text/plain": [
       "<Figure size 432x216 with 3 Axes>"
      ]
     },
     "metadata": {
      "needs_background": "light"
     },
     "output_type": "display_data"
    }
   ],
   "source": [
    "### 在下面加入你的代码"
   ]
  },
  {
   "cell_type": "code",
   "execution_count": 79,
   "metadata": {},
   "outputs": [
    {
     "data": {
      "text/plain": [
       "Text(0.5, 1.0, 'Matplotlib bakery: A pie')"
      ]
     },
     "execution_count": 79,
     "metadata": {},
     "output_type": "execute_result"
    },
    {
     "data": {
      "image/png": "[encoded data removed]",
      "text/plain": [
       "<Figure size 432x216 with 1 Axes>"
      ]
     },
     "metadata": {},
     "output_type": "display_data"
    }
   ],
   "source": [
    "fig, ax = plt.subplots(figsize=(6, 3), subplot_kw=dict(aspect=\"equal\"))\n",
    "\n",
    "recipe = [\"375 g flour\",\n",
    "          \"75 g sugar\",\n",
    "          \"250 g butter\",\n",
    "          \"300 g berries\"]\n",
    "\n",
    "data = [float(x.split()[0]) for x in recipe]\n",
    "ingredients = [x.split()[-1] for x in recipe]\n",
    "\n",
    "\n",
    "def func(pct, allvals):\n",
    "    absolute = int(np.round(pct/100.*np.sum(allvals)))\n",
    "    return \"{:.1f}%\\n({:d} g)\".format(pct, absolute)\n",
    "\n",
    "\n",
    "wedges, texts, autotexts = ax.pie(data, autopct=lambda pct: func(pct, data),\n",
    "                                  textprops=dict(color=\"w\"))\n",
    "\n",
    "ax.legend(wedges, ingredients,\n",
    "          title=\"Ingredients\",\n",
    "          loc=\"center left\",\n",
    "          bbox_to_anchor=(1, 0, 0.5, 1))\n",
    "\n",
    "plt.setp(autotexts, size=8, weight=\"bold\")\n",
    "\n",
    "ax.set_title(\"Matplotlib bakery: A pie\")\n"
   ]
  },
  {
   "cell_type": "code",
   "execution_count": 80,
   "metadata": {},
   "outputs": [
    {
     "data": {
      "text/plain": [
       "[<matplotlib.patches.Wedge at 0x184f9ae3a30>,\n",
       " <matplotlib.patches.Wedge at 0x184f9ae3f40>,\n",
       " <matplotlib.patches.Wedge at 0x184f9af45b0>,\n",
       " <matplotlib.patches.Wedge at 0x184f9af4c40>]"
      ]
     },
     "execution_count": 80,
     "metadata": {},
     "output_type": "execute_result"
    }
   ],
   "source": [
    "wedges"
   ]
  },
  {
   "cell_type": "code",
   "execution_count": 81,
   "metadata": {},
   "outputs": [
    {
     "data": {
      "text/plain": [
       "([<matplotlib.patches.Wedge at 0x184f9a61e80>,\n",
       "  <matplotlib.patches.Wedge at 0x184f9a6f790>],\n",
       " [Text(-0.6301704109329475, 0.9016014935572148, '广东 广州'),\n",
       "  Text(0.6874585840646563, -0.9835652978810395, '浙江 杭州')],\n",
       " [Text(-0.3437293150543349, 0.49178263284938983, '19.4%'),\n",
       "  Text(0.4010175073710495, -0.5737464237639397, '80.6%')])"
      ]
     },
     "execution_count": 81,
     "metadata": {},
     "output_type": "execute_result"
    }
   ],
   "source": [
    "p4"
   ]
  },
  {
   "cell_type": "markdown",
   "metadata": {},
   "source": [
    "+ <font size=4 color=blue > 课后作业：每个人到官网上找一个简单的例子模仿并应用到自己数据的统计图中。"
   ]
  },
  {
   "cell_type": "code",
   "execution_count": null,
   "metadata": {},
   "outputs": [],
   "source": []
  }
 ],
 "metadata": {
  "kernelspec": {
   "display_name": "Python 3",
   "language": "python",
   "name": "python3"
  },
  "language_info": {
   "codemirror_mode": {
    "name": "ipython",
    "version": 3
   },
   "file_extension": ".py",
   "mimetype": "text/x-python",
   "name": "python",
   "nbconvert_exporter": "python",
   "pygments_lexer": "ipython3",
   "version": "3.9.0"
  }
 },
 "nbformat": 4,
 "nbformat_minor": 4
}
