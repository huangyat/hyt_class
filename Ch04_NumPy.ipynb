{
 "cells": [
  {
   "cell_type": "markdown",
   "metadata": {},
   "source": [
    "<font face=\"微软雅黑\" size=5 color=#A52A2A > Lesson 4 NumPy基础"
   ]
  },
  {
   "cell_type": "code",
   "execution_count": 6,
   "metadata": {},
   "outputs": [],
   "source": [
    "import numpy as np\n",
    "import matplotlib.pyplot as plt\n",
    "import pandas as pd"
   ]
  },
  {
   "cell_type": "markdown",
   "metadata": {},
   "source": [
    "+ <font size=4 color=blue> 温故知新：建立两个等长度的数字列表"
   ]
  },
  {
   "cell_type": "code",
   "execution_count": 7,
   "metadata": {},
   "outputs": [],
   "source": [
    "x = [1, 2, 3, 4, 5, 6]\n",
    "y = [0.1, 0.2, 0.3, 0.4, 0.5, 0.6]"
   ]
  },
  {
   "cell_type": "code",
   "execution_count": 8,
   "metadata": {},
   "outputs": [
    {
     "data": {
      "text/plain": [
       "[<matplotlib.lines.Line2D at 0x26fc153f700>]"
      ]
     },
     "execution_count": 8,
     "metadata": {},
     "output_type": "execute_result"
    },
    {
     "data": {
      "image/png": "[encoded data removed]",
      "text/plain": [
       "<Figure size 432x288 with 1 Axes>"
      ]
     },
     "metadata": {
      "needs_background": "light"
     },
     "output_type": "display_data"
    }
   ],
   "source": [
    "import matplotlib.pyplot as plt\n",
    "plt.plot(x, y, 'o')"
   ]
  },
  {
   "cell_type": "markdown",
   "metadata": {},
   "source": [
    "+ <font size=4 color=blue> 尝试一下列表加和乘的操作"
   ]
  },
  {
   "cell_type": "code",
   "execution_count": 9,
   "metadata": {},
   "outputs": [
    {
     "data": {
      "text/plain": [
       "[1, 2, 3, 4, 5, 6, 0.1, 0.2, 0.3, 0.4, 0.5, 0.6]"
      ]
     },
     "execution_count": 9,
     "metadata": {},
     "output_type": "execute_result"
    }
   ],
   "source": [
    "x + y"
   ]
  },
  {
   "cell_type": "code",
   "execution_count": 10,
   "metadata": {},
   "outputs": [
    {
     "data": {
      "text/plain": [
       "[1, 2, 3, 4, 5, 6, 1, 2, 3, 4, 5, 6]"
      ]
     },
     "execution_count": 10,
     "metadata": {},
     "output_type": "execute_result"
    }
   ],
   "source": [
    "2 * x"
   ]
  },
  {
   "cell_type": "markdown",
   "metadata": {},
   "source": [
    "# N维数组 ndarray\n",
    "ndarray 数组对象属于NumPy定义的类 <font size=2 color=red > numpy.ndarray"
   ]
  },
  {
   "cell_type": "markdown",
   "metadata": {},
   "source": [
    "+ 数组生成\n",
    "+ 数组属性与函数\n",
    "+ 数组索引\n",
    "+ 矢量运算\n",
    "+ 数组文件存取"
   ]
  },
  {
   "cell_type": "code",
   "execution_count": 11,
   "metadata": {},
   "outputs": [
    {
     "name": "stdout",
     "output_type": "stream",
     "text": [
      "<class 'numpy.ndarray'>\n"
     ]
    },
    {
     "data": {
      "text/plain": [
       "array([0, 1, 2, 3, 4, 5, 6, 7, 8])"
      ]
     },
     "execution_count": 11,
     "metadata": {},
     "output_type": "execute_result"
    }
   ],
   "source": [
    "x = np.array([0, 1, 2, 3, 4, 5, 6, 7, 8])\n",
    "print(type(x))\n",
    "x"
   ]
  },
  {
   "cell_type": "markdown",
   "metadata": {},
   "source": [
    "+ 与list操作的一些差异"
   ]
  },
  {
   "cell_type": "code",
   "execution_count": 12,
   "metadata": {},
   "outputs": [
    {
     "data": {
      "text/plain": [
       "[0, 1, 2, 3, 4, 5, 6, 7, 8, 9, 0, 1, 2, 3, 4, 5, 6, 7, 8, 9]"
      ]
     },
     "execution_count": 12,
     "metadata": {},
     "output_type": "execute_result"
    }
   ],
   "source": [
    "my_list = list(range(10))\n",
    "my_list * 2"
   ]
  },
  {
   "cell_type": "code",
   "execution_count": 13,
   "metadata": {},
   "outputs": [
    {
     "data": {
      "text/plain": [
       "array([ 0,  2,  4,  6,  8, 10, 12, 14, 16, 18])"
      ]
     },
     "execution_count": 13,
     "metadata": {},
     "output_type": "execute_result"
    }
   ],
   "source": [
    "my_arr = np.arange(10)\n",
    "my_arr * 2"
   ]
  },
  {
   "cell_type": "markdown",
   "metadata": {},
   "source": [
    "+ 时间和内存占用的差异"
   ]
  },
  {
   "cell_type": "code",
   "execution_count": 14,
   "metadata": {},
   "outputs": [
    {
     "name": "stdout",
     "output_type": "stream",
     "text": [
      "Wall time: 4.99 ms\n"
     ]
    }
   ],
   "source": [
    "%time for _ in range(10000): my_list2 = [x * 2 for x in my_list]"
   ]
  },
  {
   "cell_type": "code",
   "execution_count": 15,
   "metadata": {},
   "outputs": [
    {
     "name": "stdout",
     "output_type": "stream",
     "text": [
      "Wall time: 9.97 ms\n"
     ]
    }
   ],
   "source": [
    "%time for _ in range(10000): my_arr2 = my_arr * 2"
   ]
  },
  {
   "cell_type": "code",
   "execution_count": 16,
   "metadata": {},
   "outputs": [
    {
     "data": {
      "text/plain": [
       "8056"
      ]
     },
     "execution_count": 16,
     "metadata": {},
     "output_type": "execute_result"
    }
   ],
   "source": [
    "import sys\n",
    "my_list = list(range(1000))\n",
    "list_size = sys.getsizeof(my_list)\n",
    "list_size"
   ]
  },
  {
   "cell_type": "code",
   "execution_count": 17,
   "metadata": {},
   "outputs": [
    {
     "data": {
      "text/plain": [
       "4112"
      ]
     },
     "execution_count": 17,
     "metadata": {},
     "output_type": "execute_result"
    }
   ],
   "source": [
    "my_arr = np.arange(1000)\n",
    "arr_size = sys.getsizeof(my_arr)\n",
    "arr_size"
   ]
  },
  {
   "cell_type": "markdown",
   "metadata": {},
   "source": [
    "### 数组生成\n",
    "+ 从列表创建数组\n",
    "+ 创建常量数组： <font size=2 color=red >zeros  <font size=2 color=black >和 <font size=2 color=red >ones\n",
    "+ 创建序列数组： <font size=2 color=red >arange  <font size=2 color=black >和 <font size=2 color=red >linspace\n",
    "+ 创建随机数组： <font size=2 color=red > np.random\n",
    "+ 指定数组中的数据类型"
   ]
  },
  {
   "cell_type": "code",
   "execution_count": 18,
   "metadata": {},
   "outputs": [],
   "source": [
    "a = np.array(1)  # 0维数组（标量）\n",
    "b = np.array([1, 2])  # 1维数组（向量）\n",
    "c = np.array([[1.0, 2.0, 3.0], [4.0, 5.0, 6.0]])  # 2维数组（矩阵）\n",
    "d = np.array([[[1, 2, 3], [4, 5, 6]], [[4, 5, 6], [1, 2, 3]]])  # 3维数组（张量）"
   ]
  },
  {
   "cell_type": "markdown",
   "metadata": {},
   "source": [
    "+ <font size=4 color=blue >练习：创建ppt图中所示的数组（看不见的数自己编）"
   ]
  },
  {
   "cell_type": "code",
   "execution_count": 19,
   "metadata": {},
   "outputs": [
    {
     "data": {
      "text/plain": [
       "(array(1),\n",
       " array([1, 2]),\n",
       " array([[1., 2., 3.],\n",
       "        [4., 5., 6.]]),\n",
       " array([[[1, 2, 3],\n",
       "         [4, 5, 6]],\n",
       " \n",
       "        [[4, 5, 6],\n",
       "         [1, 2, 3]]]))"
      ]
     },
     "execution_count": 19,
     "metadata": {},
     "output_type": "execute_result"
    }
   ],
   "source": [
    "a, b, c, d"
   ]
  },
  {
   "cell_type": "code",
   "execution_count": 20,
   "metadata": {},
   "outputs": [
    {
     "name": "stdout",
     "output_type": "stream",
     "text": [
      "a = [0. 0. 0. 0. 0.]\n",
      "\n",
      "b = [[0. 0. 0. 0. 0.]\n",
      " [0. 0. 0. 0. 0.]]\n",
      "\n",
      "c = [[[1. 1. 1. 1. 1.]\n",
      "  [1. 1. 1. 1. 1.]]\n",
      "\n",
      " [[1. 1. 1. 1. 1.]\n",
      "  [1. 1. 1. 1. 1.]]\n",
      "\n",
      " [[1. 1. 1. 1. 1.]\n",
      "  [1. 1. 1. 1. 1.]]]\n"
     ]
    }
   ],
   "source": [
    "a = np.zeros(5)# 全0数组\n",
    "b = np.zeros((2,5))# 创建多维数组，需要两层括号\n",
    "c = np.ones((3,2,5))# 全1数组\n",
    "\n",
    "print(\"a =\", a)\n",
    "print(\"\\nb =\", b)\n",
    "print(\"\\nc =\", c)"
   ]
  },
  {
   "cell_type": "code",
   "execution_count": 22,
   "metadata": {},
   "outputs": [
    {
     "data": {
      "text/plain": [
       "(array([[1., 0., 0.],\n",
       "        [0., 1., 0.],\n",
       "        [0., 0., 1.]]),\n",
       " array([[1, 0, 0],\n",
       "        [0, 2, 0],\n",
       "        [0, 0, 3]]))"
      ]
     },
     "execution_count": 22,
     "metadata": {},
     "output_type": "execute_result"
    }
   ],
   "source": [
    "np.eye(3), np.diag(np.array([1, 2, 3]))"
   ]
  },
  {
   "cell_type": "code",
   "execution_count": 56,
   "metadata": {},
   "outputs": [
    {
     "data": {
      "text/plain": [
       "array([0, 1, 2, 3, 4, 5, 6, 7, 8, 9])"
      ]
     },
     "execution_count": 56,
     "metadata": {},
     "output_type": "execute_result"
    }
   ],
   "source": [
    "np.arange(0, 10, 1)  # start（包含）：0，stop（不包含）：10，step：1"
   ]
  },
  {
   "cell_type": "code",
   "execution_count": 57,
   "metadata": {},
   "outputs": [
    {
     "data": {
      "text/plain": [
       "array([0, 1, 2, 3, 4, 5, 6, 7, 8, 9])"
      ]
     },
     "execution_count": 57,
     "metadata": {},
     "output_type": "execute_result"
    }
   ],
   "source": [
    "# 默认使用start=0 和 step=1\n",
    "np.arange(10)  # 等值于：start：0，stop：10，step：1"
   ]
  },
  {
   "cell_type": "code",
   "execution_count": 23,
   "metadata": {},
   "outputs": [
    {
     "data": {
      "text/plain": [
       "array([0. , 0.2, 0.4, 0.6, 0.8, 1. ])"
      ]
     },
     "execution_count": 23,
     "metadata": {},
     "output_type": "execute_result"
    }
   ],
   "source": [
    "np.linspace(0, 1, 6) # 0到1等间距总共6个数"
   ]
  },
  {
   "cell_type": "code",
   "execution_count": 24,
   "metadata": {},
   "outputs": [
    {
     "data": {
      "text/plain": [
       "array([0. , 0.2, 0.4, 0.6, 0.8])"
      ]
     },
     "execution_count": 24,
     "metadata": {},
     "output_type": "execute_result"
    }
   ],
   "source": [
    "np.linspace(0, 1, 5, endpoint=False)   # 0到1等间距分5份"
   ]
  },
  {
   "cell_type": "code",
   "execution_count": 23,
   "metadata": {},
   "outputs": [
    {
     "name": "stdout",
     "output_type": "stream",
     "text": [
      "a = [0.12369391 0.38671039 0.14735178 0.94430496 0.12735282 0.62101316\n",
      " 0.6213176  0.83101349 0.92746837 0.04946623]\n",
      "\n",
      "b = [[-0.031922    1.30820321 -1.0324257  -0.64240144 -1.5660648   0.17055031\n",
      "  -0.55698633  0.58653163  1.3776123   0.84976024]\n",
      " [-0.49881129  0.09612692  1.29769956  1.72644787  1.27332959 -1.1328901\n",
      "  -0.28414161  2.3919663   0.28889442  0.15697663]]\n",
      "\n",
      "c = [74  7  8 15 53 57 85 98 41 22]\n"
     ]
    }
   ],
   "source": [
    "# 随机数组\n",
    "a = np.random.rand(10)# 均匀随机数\n",
    "b = np.random.randn(2,10)# 正态分布的随机数\n",
    "c = np.random.randint(0,100,10)# 随机整数\n",
    "\n",
    "print(\"a =\", a)\n",
    "print(\"\\nb =\", b)\n",
    "print(\"\\nc =\", c)"
   ]
  },
  {
   "cell_type": "markdown",
   "metadata": {},
   "source": [
    "+ <font size=4 color=blue >练习：    \n",
    "    用np.arange和np.linspace创建数组    \n",
    "    生成随机数"
   ]
  },
  {
   "cell_type": "code",
   "execution_count": 63,
   "metadata": {},
   "outputs": [
    {
     "data": {
      "text/plain": [
       "dtype('int32')"
      ]
     },
     "execution_count": 63,
     "metadata": {},
     "output_type": "execute_result"
    }
   ],
   "source": [
    "# 序列数组\n",
    "np.arange(0, 4).dtype"
   ]
  },
  {
   "cell_type": "code",
   "execution_count": 24,
   "metadata": {},
   "outputs": [
    {
     "data": {
      "text/plain": [
       "array([1., 2., 3.], dtype=float32)"
      ]
     },
     "execution_count": 24,
     "metadata": {},
     "output_type": "execute_result"
    }
   ],
   "source": [
    "np.array([1, 2, 3], dtype=\"float32\")"
   ]
  },
  {
   "cell_type": "code",
   "execution_count": 62,
   "metadata": {},
   "outputs": [
    {
     "data": {
      "text/plain": [
       "array([0., 1., 2., 3.], dtype=float32)"
      ]
     },
     "execution_count": 62,
     "metadata": {},
     "output_type": "execute_result"
    }
   ],
   "source": [
    "np.arange(0, 4, dtype=\"float32\")"
   ]
  },
  {
   "cell_type": "markdown",
   "metadata": {},
   "source": [
    "### 数组属性与函数"
   ]
  },
  {
   "cell_type": "code",
   "execution_count": 25,
   "metadata": {},
   "outputs": [
    {
     "data": {
      "text/plain": [
       "24"
      ]
     },
     "execution_count": 25,
     "metadata": {},
     "output_type": "execute_result"
    }
   ],
   "source": [
    "arr = np.arange(24)\n",
    "len(arr)"
   ]
  },
  {
   "cell_type": "code",
   "execution_count": 26,
   "metadata": {},
   "outputs": [
    {
     "name": "stdout",
     "output_type": "stream",
     "text": [
      "276\n",
      "23\n",
      "0\n",
      "11.5\n",
      "6.922186552431729\n",
      "47.916666666666664\n"
     ]
    }
   ],
   "source": [
    "# 函数\n",
    "print(arr.sum())  # 求和\n",
    "print(arr.max())  # 最大值\n",
    "print(arr.min())  # 最小值\n",
    "\n",
    "print(arr.mean())  # 平均值\n",
    "print(arr.std())  # 标准差\n",
    "print(arr.var())  # 方差"
   ]
  },
  {
   "cell_type": "code",
   "execution_count": 27,
   "metadata": {},
   "outputs": [
    {
     "data": {
      "text/plain": [
       "array([ 0,  1,  2,  3,  4,  5,  6,  7,  8,  9, 10, 11, 12, 13, 14, 15, 16,\n",
       "       17, 18, 19, 20, 21, 22, 23])"
      ]
     },
     "execution_count": 27,
     "metadata": {},
     "output_type": "execute_result"
    }
   ],
   "source": [
    "arr"
   ]
  },
  {
   "cell_type": "code",
   "execution_count": 28,
   "metadata": {},
   "outputs": [
    {
     "data": {
      "text/plain": [
       "array([[[ 0,  1,  2,  3],\n",
       "        [ 4,  5,  6,  7]],\n",
       "\n",
       "       [[ 8,  9, 10, 11],\n",
       "        [12, 13, 14, 15]],\n",
       "\n",
       "       [[16, 17, 18, 19],\n",
       "        [20, 21, 22, 23]]])"
      ]
     },
     "execution_count": 28,
     "metadata": {},
     "output_type": "execute_result"
    }
   ],
   "source": [
    "arr = arr.reshape(3, 2, 4)\n",
    "arr"
   ]
  },
  {
   "cell_type": "code",
   "execution_count": 29,
   "metadata": {},
   "outputs": [
    {
     "data": {
      "text/plain": [
       "3"
      ]
     },
     "execution_count": 29,
     "metadata": {},
     "output_type": "execute_result"
    }
   ],
   "source": [
    "len(arr)"
   ]
  },
  {
   "cell_type": "code",
   "execution_count": 30,
   "metadata": {},
   "outputs": [
    {
     "name": "stdout",
     "output_type": "stream",
     "text": [
      "3\n",
      "(3, 2, 4)\n",
      "24\n"
     ]
    }
   ],
   "source": [
    "print(arr.ndim)  # 数组的维度\n",
    "print(arr.shape)  # 数组的形状\n",
    "print(arr.size)  # 数组的大小，一共多少成员"
   ]
  },
  {
   "cell_type": "code",
   "execution_count": 29,
   "metadata": {},
   "outputs": [
    {
     "data": {
      "text/plain": [
       "array([ 0,  1,  2,  3,  4,  5,  6,  7,  8,  9, 10, 11, 12, 13, 14, 15, 16,\n",
       "       17, 18, 19, 20, 21, 22, 23])"
      ]
     },
     "execution_count": 29,
     "metadata": {},
     "output_type": "execute_result"
    }
   ],
   "source": [
    "arr.reshape(24)"
   ]
  },
  {
   "cell_type": "code",
   "execution_count": 30,
   "metadata": {},
   "outputs": [
    {
     "data": {
      "text/plain": [
       "array([[[ 0,  1,  2,  3],\n",
       "        [ 4,  5,  6,  7]],\n",
       "\n",
       "       [[ 8,  9, 10, 11],\n",
       "        [12, 13, 14, 15]],\n",
       "\n",
       "       [[16, 17, 18, 19],\n",
       "        [20, 21, 22, 23]]])"
      ]
     },
     "execution_count": 30,
     "metadata": {},
     "output_type": "execute_result"
    }
   ],
   "source": [
    "arr"
   ]
  },
  {
   "cell_type": "markdown",
   "metadata": {},
   "source": [
    "### 数组索引"
   ]
  },
  {
   "cell_type": "code",
   "execution_count": 31,
   "metadata": {},
   "outputs": [
    {
     "data": {
      "text/plain": [
       "(array([[ 8,  9, 10, 11],\n",
       "        [12, 13, 14, 15]]),\n",
       " array([[ 4,  5,  6,  7],\n",
       "        [12, 13, 14, 15],\n",
       "        [20, 21, 22, 23]]),\n",
       " array([[ 1,  5],\n",
       "        [ 9, 13],\n",
       "        [17, 21]]),\n",
       " array([ 1,  9, 17]))"
      ]
     },
     "execution_count": 31,
     "metadata": {},
     "output_type": "execute_result"
    }
   ],
   "source": [
    "arr[1], arr[:,1], arr[:,:,1], arr[:,0, 1]"
   ]
  },
  {
   "cell_type": "markdown",
   "metadata": {},
   "source": [
    "+ <font size=4 color=blue >练习：取出图中矩阵不同颜色对应的内容"
   ]
  },
  {
   "attachments": {
    "8624da88-b377-4048-9452-9e68db29c759.png": {
     "image/png": "[encoded data removed]"
    }
   },
   "cell_type": "markdown",
   "metadata": {},
   "source": [
    "![image.png](attachment:8624da88-b377-4048-9452-9e68db29c759.png)"
   ]
  },
  {
   "cell_type": "code",
   "execution_count": 32,
   "metadata": {},
   "outputs": [
    {
     "data": {
      "text/plain": [
       "array([[ 0,  1,  2,  3,  4,  5],\n",
       "       [10, 11, 12, 13, 14, 15],\n",
       "       [20, 21, 22, 23, 24, 25],\n",
       "       [30, 31, 32, 33, 34, 35],\n",
       "       [40, 41, 42, 43, 44, 45],\n",
       "       [50, 51, 52, 53, 54, 55]])"
      ]
     },
     "execution_count": 32,
     "metadata": {},
     "output_type": "execute_result"
    }
   ],
   "source": [
    "my_arr = np.arange(60).reshape(6,10)\n",
    "my_arr = my_arr[:, 0:6]\n",
    "my_arr"
   ]
  },
  {
   "cell_type": "code",
   "execution_count": 33,
   "metadata": {},
   "outputs": [
    {
     "name": "stdout",
     "output_type": "stream",
     "text": [
      "[3 4]\n",
      "\n",
      " [ 2 12 22 32 42 52]\n",
      "\n",
      " [[ 2]\n",
      " [12]\n",
      " [22]\n",
      " [32]\n",
      " [42]\n",
      " [52]]\n",
      "\n",
      " [[44 45]\n",
      " [54 55]]\n",
      "\n",
      " [[20 22 24]\n",
      " [40 42 44]]\n"
     ]
    }
   ],
   "source": [
    "print(my_arr[0, 3:5])\n",
    "print(\"\\n\", my_arr[:, 2])\n",
    "print(\"\\n\", my_arr[:, 2].reshape(-1,1))\n",
    "print(\"\\n\", my_arr[-2:, -2:])\n",
    "print(\"\\n\", my_arr[2:5:2, 0:5:2])"
   ]
  },
  {
   "cell_type": "markdown",
   "metadata": {},
   "source": [
    "### 矢量运算\n",
    "+ 逐个元素运算\n",
    "+ 广播\n",
    "+ 线性代数"
   ]
  },
  {
   "cell_type": "code",
   "execution_count": 34,
   "metadata": {},
   "outputs": [
    {
     "data": {
      "text/plain": [
       "array([[1, 2, 3],\n",
       "       [4, 5, 6]])"
      ]
     },
     "execution_count": 34,
     "metadata": {},
     "output_type": "execute_result"
    }
   ],
   "source": [
    "arr = np.array([[1,2,3],[4,5,6]])\n",
    "arr"
   ]
  },
  {
   "cell_type": "code",
   "execution_count": 35,
   "metadata": {},
   "outputs": [
    {
     "data": {
      "text/plain": [
       "array([[1, 4],\n",
       "       [2, 5],\n",
       "       [3, 6]])"
      ]
     },
     "execution_count": 35,
     "metadata": {},
     "output_type": "execute_result"
    }
   ],
   "source": [
    "arr.T"
   ]
  },
  {
   "cell_type": "code",
   "execution_count": 36,
   "metadata": {},
   "outputs": [
    {
     "name": "stdout",
     "output_type": "stream",
     "text": [
      "[[ 2  4  6]\n",
      " [ 8 10 12]] \n",
      "\n",
      "[[0 0 0]\n",
      " [0 0 0]] \n",
      "\n",
      "[[ 1  4  9]\n",
      " [16 25 36]] \n",
      "\n",
      "[[1. 1. 1.]\n",
      " [1. 1. 1.]] \n",
      "\n"
     ]
    }
   ],
   "source": [
    "# 相同元素的数组运算：按照元素逐位运算\n",
    "print(arr+arr,'\\n')\n",
    "print(arr-arr,'\\n')\n",
    "print(arr*arr,'\\n')\n",
    "print(arr/arr,'\\n')"
   ]
  },
  {
   "cell_type": "code",
   "execution_count": 37,
   "metadata": {},
   "outputs": [
    {
     "name": "stdout",
     "output_type": "stream",
     "text": [
      "[[ 1  4  9]\n",
      " [16 25 36]] \n",
      "\n",
      "[[  2.71828183   7.3890561   20.08553692]\n",
      " [ 54.59815003 148.4131591  403.42879349]] \n",
      "\n",
      "[[ 0.84147098  0.90929743  0.14112001]\n",
      " [-0.7568025  -0.95892427 -0.2794155 ]] \n",
      "\n"
     ]
    }
   ],
   "source": [
    "# 内置数学函数：按照元素逐个运算\n",
    "print(np.square(arr),'\\n') #平方\n",
    "print(np.exp(arr),'\\n') #指数\n",
    "print(np.sin(arr),'\\n') #正弦函数"
   ]
  },
  {
   "cell_type": "markdown",
   "metadata": {},
   "source": [
    "#### 广播：对不同形状的数组进行数学操作"
   ]
  },
  {
   "cell_type": "code",
   "execution_count": 38,
   "metadata": {},
   "outputs": [
    {
     "name": "stdout",
     "output_type": "stream",
     "text": [
      "[0 1 2 3 4 5 6]\n"
     ]
    }
   ],
   "source": [
    "arr1 = np.arange(7)\n",
    "print(arr1)"
   ]
  },
  {
   "cell_type": "code",
   "execution_count": 39,
   "metadata": {},
   "outputs": [
    {
     "name": "stdout",
     "output_type": "stream",
     "text": [
      "[ 0 10 20 30 40 50 60]\n"
     ]
    }
   ],
   "source": [
    "# 标量10广播到了其他元素上\n",
    "arr2 = arr1*10\n",
    "print(arr2)"
   ]
  },
  {
   "cell_type": "code",
   "execution_count": 40,
   "metadata": {},
   "outputs": [
    {
     "data": {
      "text/plain": [
       "array([[-0. , -0.2, -0.6, -1.2],\n",
       "       [-0.4, -1. , -1.8, -2.8],\n",
       "       [-0.8, -1.8, -3. , -4.4]])"
      ]
     },
     "execution_count": 40,
     "metadata": {},
     "output_type": "execute_result"
    }
   ],
   "source": [
    "x = np.array([[-0. , -0.1, -0.2, -0.3],\n",
    "               [-0.4, -0.5, -0.6, -0.7],\n",
    "               [-0.8, -0.9, -1. , -1.1]])\n",
    "y = np.array([1, 2, 3, 4])\n",
    "x * y"
   ]
  },
  {
   "cell_type": "code",
   "execution_count": 41,
   "metadata": {},
   "outputs": [
    {
     "name": "stdout",
     "output_type": "stream",
     "text": [
      "[[0]\n",
      " [1]\n",
      " [2]\n",
      " [3]]\n",
      "[[0 0 0]\n",
      " [1 1 1]\n",
      " [2 2 2]\n",
      " [3 3 3]]\n",
      "[0 1 2 3]\n"
     ]
    }
   ],
   "source": [
    "# 矩阵与向量运算\n",
    "arr1 = np.arange(4).reshape(-1,1)\n",
    "print(arr1)\n",
    "arr1 = np.tile(arr1,3)\n",
    "arr2 = np.arange(4)\n",
    "\n",
    "print(arr1)\n",
    "print(arr2)"
   ]
  },
  {
   "cell_type": "code",
   "execution_count": 42,
   "metadata": {},
   "outputs": [
    {
     "data": {
      "text/plain": [
       "array([[0, 1, 4, 9],\n",
       "       [0, 1, 4, 9],\n",
       "       [0, 1, 4, 9]])"
      ]
     },
     "execution_count": 42,
     "metadata": {},
     "output_type": "execute_result"
    }
   ],
   "source": [
    "arr1.T * arr2"
   ]
  },
  {
   "cell_type": "code",
   "execution_count": 45,
   "metadata": {},
   "outputs": [
    {
     "name": "stdout",
     "output_type": "stream",
     "text": [
      "[0 1 2 3 4 5 6]\n",
      "[[1]\n",
      " [2]\n",
      " [3]]\n"
     ]
    }
   ],
   "source": [
    "# 矩阵的广播\n",
    "arr1 = np.arange(7)\n",
    "arr2 = np.arange(1,4)\n",
    "# arr2 = np.arange(1,4).reshape(-1, 1)\n",
    "print(arr1)\n",
    "print(arr2)"
   ]
  },
  {
   "cell_type": "code",
   "execution_count": 46,
   "metadata": {},
   "outputs": [
    {
     "data": {
      "text/plain": [
       "array([[1, 2, 3, 4, 5, 6, 7],\n",
       "       [2, 3, 4, 5, 6, 7, 8],\n",
       "       [3, 4, 5, 6, 7, 8, 9]])"
      ]
     },
     "execution_count": 46,
     "metadata": {},
     "output_type": "execute_result"
    }
   ],
   "source": [
    "arr1 + arr2"
   ]
  },
  {
   "cell_type": "markdown",
   "metadata": {},
   "source": [
    "<font size=4 color=blue >应用场景：计算学生成绩 </br>\n",
    "<font size=3 color=black >假设你有着6个学生的成绩簿，每个成绩簿有着3个考试的成绩，你将这些成绩储存在一个形状为 (6,3) 的数组中"
   ]
  },
  {
   "cell_type": "code",
   "execution_count": 47,
   "metadata": {},
   "outputs": [],
   "source": [
    "grades = np.array([[ 0.79,  0.84,  0.84],\n",
    "                    [ 0.87,  0.93,  0.78],\n",
    "                    [ 0.77,  1.00,  0.87],\n",
    "                    [ 0.66,  0.75,  0.82],\n",
    "                    [ 0.84,  0.89,  0.76],\n",
    "                    [ 0.83,  0.71,  0.85]])\n"
   ]
  },
  {
   "cell_type": "code",
   "execution_count": 48,
   "metadata": {},
   "outputs": [
    {
     "data": {
      "text/plain": [
       "array([[0.79, 0.84, 0.84],\n",
       "       [0.87, 0.93, 0.78],\n",
       "       [0.77, 1.  , 0.87],\n",
       "       [0.66, 0.75, 0.82],\n",
       "       [0.84, 0.89, 0.76],\n",
       "       [0.83, 0.71, 0.85]])"
      ]
     },
     "execution_count": 48,
     "metadata": {},
     "output_type": "execute_result"
    }
   ],
   "source": [
    "grades"
   ]
  },
  {
   "cell_type": "code",
   "execution_count": 49,
   "metadata": {},
   "outputs": [
    {
     "data": {
      "text/plain": [
       "array([0.79, 0.85, 0.82])"
      ]
     },
     "execution_count": 49,
     "metadata": {},
     "output_type": "execute_result"
    }
   ],
   "source": [
    "# 计算每个考试的平均值（四舍五入到小数点后两位）\n",
    "mean_exam_scores = grades.mean(axis=0)\n",
    "mean_exam_scores = np.round(mean_exam_scores, 2)\n",
    "mean_exam_scores"
   ]
  },
  {
   "cell_type": "code",
   "execution_count": 50,
   "metadata": {},
   "outputs": [
    {
     "data": {
      "text/plain": [
       "array([[ 0.  , -0.01,  0.02],\n",
       "       [ 0.08,  0.08, -0.04],\n",
       "       [-0.02,  0.15,  0.05],\n",
       "       [-0.13, -0.1 ,  0.  ],\n",
       "       [ 0.05,  0.04, -0.06],\n",
       "       [ 0.04, -0.14,  0.03]])"
      ]
     },
     "execution_count": 50,
     "metadata": {},
     "output_type": "execute_result"
    }
   ],
   "source": [
    "# 计算每个同学每一门成绩和平均成绩的差值\n",
    "score_offset = grades - mean_exam_scores\n",
    "score_offset"
   ]
  },
  {
   "cell_type": "code",
   "execution_count": 51,
   "metadata": {},
   "outputs": [
    {
     "name": "stdout",
     "output_type": "stream",
     "text": [
      "[[1 2 3 4]\n",
      " [5 6 7 8]]\n",
      "[[ 1  2  3]\n",
      " [ 4  5  6]\n",
      " [ 7  8  9]\n",
      " [10 11 12]]\n"
     ]
    },
    {
     "data": {
      "text/plain": [
       "array([[ 70,  80,  90],\n",
       "       [158, 184, 210]])"
      ]
     },
     "execution_count": 51,
     "metadata": {},
     "output_type": "execute_result"
    }
   ],
   "source": [
    "# 矩阵乘法\n",
    "arr1 = np.arange(1,9).reshape(2,4)\n",
    "arr2 = np.arange(1,13).reshape(4,3)\n",
    "print(arr1)\n",
    "print(arr2)\n",
    "\n",
    "arr1.dot(arr2) # 矩阵点乘"
   ]
  },
  {
   "cell_type": "code",
   "execution_count": 52,
   "metadata": {},
   "outputs": [
    {
     "name": "stdout",
     "output_type": "stream",
     "text": [
      "0\n",
      "0\n",
      "[0 0 1]\n",
      "[ 0  0 -1]\n"
     ]
    }
   ],
   "source": [
    "#向量的点乘和叉乘\n",
    "vec1 = np.array([1,0,0])\n",
    "vec2 = np.array([0,1,0])\n",
    "print(np.dot(vec1, vec2))\n",
    "print(np.dot(vec2, vec1))\n",
    "print(np.cross(vec1, vec2))\n",
    "print(np.cross(vec2, vec1))"
   ]
  },
  {
   "cell_type": "code",
   "execution_count": 53,
   "metadata": {},
   "outputs": [
    {
     "name": "stdout",
     "output_type": "stream",
     "text": [
      "[[ 70  80  90]\n",
      " [158 184 210]]\n"
     ]
    }
   ],
   "source": [
    "print(arr1@arr2)"
   ]
  },
  {
   "cell_type": "markdown",
   "metadata": {},
   "source": [
    "### pandas 文件读写"
   ]
  },
  {
   "cell_type": "code",
   "execution_count": 54,
   "metadata": {
    "collapsed": true,
    "jupyter": {
     "outputs_hidden": true
    }
   },
   "outputs": [
    {
     "data": {
      "text/html": [
       "<div>\n",
       "<style scoped>\n",
       "    .dataframe tbody tr th:only-of-type {\n",
       "        vertical-align: middle;\n",
       "    }\n",
       "\n",
       "    .dataframe tbody tr th {\n",
       "        vertical-align: top;\n",
       "    }\n",
       "\n",
       "    .dataframe thead th {\n",
       "        text-align: right;\n",
       "    }\n",
       "</style>\n",
       "<table border=\"1\" class=\"dataframe\">\n",
       "  <thead>\n",
       "    <tr style=\"text-align: right;\">\n",
       "      <th></th>\n",
       "      <th>Summary</th>\n",
       "      <th>Legend</th>\n",
       "      <th>Protection</th>\n",
       "      <th>Sale</th>\n",
       "      <th>Place</th>\n",
       "      <th>Price</th>\n",
       "      <th>Seller</th>\n",
       "      <th>MSales</th>\n",
       "      <th>Comments</th>\n",
       "    </tr>\n",
       "  </thead>\n",
       "  <tbody>\n",
       "    <tr>\n",
       "      <th>0</th>\n",
       "      <td>纯净版【包顺丰送礼包】Lenovo/联想 A789 手机 安卓系统智能触屏</td>\n",
       "      <td>消费者保障        七天退换\\t正品保障</td>\n",
       "      <td>七天退换</td>\n",
       "      <td>月售4438笔    \\t4124条评价</td>\n",
       "      <td>山东 济南</td>\n",
       "      <td>949.00        运费：0.00           信用卡</td>\n",
       "      <td>三际数码专营店</td>\n",
       "      <td>4438</td>\n",
       "      <td>4124</td>\n",
       "    </tr>\n",
       "    <tr>\n",
       "      <th>1</th>\n",
       "      <td>纯净版【包顺丰/送耳机+保护壳礼包】ZTE/中兴 V970 安卓智能手机</td>\n",
       "      <td>消费者保障        七天退换\\t正品保障</td>\n",
       "      <td>七天退换</td>\n",
       "      <td>月售2253笔    \\t1459条评价</td>\n",
       "      <td>山东 济南</td>\n",
       "      <td>1028.00        运费：0.00           信用卡</td>\n",
       "      <td>三际数码专营店</td>\n",
       "      <td>2253</td>\n",
       "      <td>1459</td>\n",
       "    </tr>\n",
       "    <tr>\n",
       "      <th>2</th>\n",
       "      <td>TOOKY/京崎 T85 双卡双待 安卓2.3.6系统 3G 正品智能手机 1GCPU</td>\n",
       "      <td>消费者保障\\t七天退换</td>\n",
       "      <td>七天退换</td>\n",
       "      <td>月售261笔\\t117条评价</td>\n",
       "      <td>广东 深圳</td>\n",
       "      <td>878.00        运费：0.00</td>\n",
       "      <td>京崎直营店</td>\n",
       "      <td>261</td>\n",
       "      <td>117</td>\n",
       "    </tr>\n",
       "    <tr>\n",
       "      <th>3</th>\n",
       "      <td>Nokia/诺基亚 1280大字体 老人手机 学生机 超长待机 正品 直板</td>\n",
       "      <td>消费者保障</td>\n",
       "      <td>无七天退换</td>\n",
       "      <td>月售29笔\\t76条评价</td>\n",
       "      <td>广东 深圳</td>\n",
       "      <td>128.00        运费：0.00           信用卡</td>\n",
       "      <td>lhq李海秋</td>\n",
       "      <td>29</td>\n",
       "      <td>76</td>\n",
       "    </tr>\n",
       "    <tr>\n",
       "      <th>4</th>\n",
       "      <td>【狂暑季】Gionee/金立 A696 直板触屏 语音导航手机 正品行货</td>\n",
       "      <td>消费者保障\\t七天退换\\t正品保障</td>\n",
       "      <td>七天退换</td>\n",
       "      <td>月售11笔\\t25条评价</td>\n",
       "      <td>福建 厦门</td>\n",
       "      <td>599.25        运费：0.00           信用卡折扣</td>\n",
       "      <td>华特兄弟数码专营店</td>\n",
       "      <td>11</td>\n",
       "      <td>25</td>\n",
       "    </tr>\n",
       "    <tr>\n",
       "      <th>...</th>\n",
       "      <td>...</td>\n",
       "      <td>...</td>\n",
       "      <td>...</td>\n",
       "      <td>...</td>\n",
       "      <td>...</td>\n",
       "      <td>...</td>\n",
       "      <td>...</td>\n",
       "      <td>...</td>\n",
       "      <td>...</td>\n",
       "    </tr>\n",
       "    <tr>\n",
       "      <th>5980</th>\n",
       "      <td>Lenovo/联想 A300 联通3G 超长待机 双卡双待WCDMA+GSM 智能手机</td>\n",
       "      <td>消费者保障</td>\n",
       "      <td>无七天退换</td>\n",
       "      <td>月售104笔\\t101条评价</td>\n",
       "      <td>北京货到付款</td>\n",
       "      <td>558.00        运费：8.00           信用卡</td>\n",
       "      <td>物美商城88</td>\n",
       "      <td>104</td>\n",
       "      <td>101</td>\n",
       "    </tr>\n",
       "    <tr>\n",
       "      <th>5981</th>\n",
       "      <td>ZTE/中兴 V880+ 智能手机 安卓智能系统 3D加速 正品行货</td>\n",
       "      <td>消费者保障\\t假一赔三\\t七天退换    品牌授权</td>\n",
       "      <td>七天退换</td>\n",
       "      <td>月售50笔\\t221条评价</td>\n",
       "      <td>广东 深圳</td>\n",
       "      <td>508.06        运费：0.01           信用卡</td>\n",
       "      <td>咱混口饭吃</td>\n",
       "      <td>50</td>\n",
       "      <td>221</td>\n",
       "    </tr>\n",
       "    <tr>\n",
       "      <th>5982</th>\n",
       "      <td>亿通 S100 大铃声字体按键 收音机外放 手写 老人手机 1月包换</td>\n",
       "      <td>消费者保障\\t七天退换\\t正品保障</td>\n",
       "      <td>七天退换</td>\n",
       "      <td>月售74笔\\t181条评价</td>\n",
       "      <td>四川 成都</td>\n",
       "      <td>238.10        运费：0.00           信用卡折扣</td>\n",
       "      <td>宜安数码专营店</td>\n",
       "      <td>74</td>\n",
       "      <td>181</td>\n",
       "    </tr>\n",
       "    <tr>\n",
       "      <th>5983</th>\n",
       "      <td>Daxian/大显I68超薄 双卡双待手机 高清触屏男女士半智能情侣手机</td>\n",
       "      <td>消费者保障\\t七天退换</td>\n",
       "      <td>七天退换</td>\n",
       "      <td>月售163笔\\t163条评价</td>\n",
       "      <td>广东 深圳</td>\n",
       "      <td>210.00        运费：0.10</td>\n",
       "      <td>lixianhua2x</td>\n",
       "      <td>163</td>\n",
       "      <td>163</td>\n",
       "    </tr>\n",
       "    <tr>\n",
       "      <th>5984</th>\n",
       "      <td>天星N8000 5寸 5.3寸平板手机3G智能安卓系统手机I9220 mtk6575</td>\n",
       "      <td>消费者保障\\t七天退换\\t24小时发货</td>\n",
       "      <td>七天退换</td>\n",
       "      <td>月售46笔\\t36条评价</td>\n",
       "      <td>广东 深圳货到付款</td>\n",
       "      <td>760.00        运费：0.01           信用卡</td>\n",
       "      <td>xiaowu59420</td>\n",
       "      <td>46</td>\n",
       "      <td>36</td>\n",
       "    </tr>\n",
       "  </tbody>\n",
       "</table>\n",
       "<p>5985 rows × 9 columns</p>\n",
       "</div>"
      ],
      "text/plain": [
       "                                          Summary                     Legend  \\\n",
       "0           纯净版【包顺丰送礼包】Lenovo/联想 A789 手机 安卓系统智能触屏    消费者保障        七天退换\\t正品保障   \n",
       "1            纯净版【包顺丰/送耳机+保护壳礼包】ZTE/中兴 V970 安卓智能手机    消费者保障        七天退换\\t正品保障   \n",
       "2     TOOKY/京崎 T85 双卡双待 安卓2.3.6系统 3G 正品智能手机 1GCPU                消费者保障\\t七天退换   \n",
       "3           Nokia/诺基亚 1280大字体 老人手机 学生机 超长待机 正品 直板                      消费者保障   \n",
       "4            【狂暑季】Gionee/金立 A696 直板触屏 语音导航手机 正品行货          消费者保障\\t七天退换\\t正品保障   \n",
       "...                                           ...                        ...   \n",
       "5980  Lenovo/联想 A300 联通3G 超长待机 双卡双待WCDMA+GSM 智能手机                      消费者保障   \n",
       "5981           ZTE/中兴 V880+ 智能手机 安卓智能系统 3D加速 正品行货  消费者保障\\t假一赔三\\t七天退换    品牌授权   \n",
       "5982           亿通 S100 大铃声字体按键 收音机外放 手写 老人手机 1月包换          消费者保障\\t七天退换\\t正品保障   \n",
       "5983         Daxian/大显I68超薄 双卡双待手机 高清触屏男女士半智能情侣手机                消费者保障\\t七天退换   \n",
       "5984   天星N8000 5寸 5.3寸平板手机3G智能安卓系统手机I9220 mtk6575        消费者保障\\t七天退换\\t24小时发货   \n",
       "\n",
       "     Protection                  Sale      Place  \\\n",
       "0          七天退换  月售4438笔    \\t4124条评价      山东 济南   \n",
       "1          七天退换  月售2253笔    \\t1459条评价      山东 济南   \n",
       "2          七天退换        月售261笔\\t117条评价      广东 深圳   \n",
       "3         无七天退换          月售29笔\\t76条评价      广东 深圳   \n",
       "4          七天退换          月售11笔\\t25条评价      福建 厦门   \n",
       "...         ...                   ...        ...   \n",
       "5980      无七天退换        月售104笔\\t101条评价     北京货到付款   \n",
       "5981       七天退换         月售50笔\\t221条评价      广东 深圳   \n",
       "5982       七天退换         月售74笔\\t181条评价      四川 成都   \n",
       "5983       七天退换        月售163笔\\t163条评价      广东 深圳   \n",
       "5984       七天退换          月售46笔\\t36条评价  广东 深圳货到付款   \n",
       "\n",
       "                                      Price       Seller  MSales  Comments  \n",
       "0       949.00        运费：0.00           信用卡      三际数码专营店    4438      4124  \n",
       "1      1028.00        运费：0.00           信用卡      三际数码专营店    2253      1459  \n",
       "2                     878.00        运费：0.00        京崎直营店     261       117  \n",
       "3       128.00        运费：0.00           信用卡       lhq李海秋      29        76  \n",
       "4     599.25        运费：0.00           信用卡折扣    华特兄弟数码专营店      11        25  \n",
       "...                                     ...          ...     ...       ...  \n",
       "5980    558.00        运费：8.00           信用卡       物美商城88     104       101  \n",
       "5981    508.06        运费：0.01           信用卡        咱混口饭吃      50       221  \n",
       "5982  238.10        运费：0.00           信用卡折扣      宜安数码专营店      74       181  \n",
       "5983                  210.00        运费：0.10  lixianhua2x     163       163  \n",
       "5984    760.00        运费：0.01           信用卡  xiaowu59420      46        36  \n",
       "\n",
       "[5985 rows x 9 columns]"
      ]
     },
     "execution_count": 54,
     "metadata": {},
     "output_type": "execute_result"
    }
   ],
   "source": [
    "import pandas as pd\n",
    "path1 = '.\\documents\\chap05-cellphone.csv'  # 相对路径不要忘记写 .\n",
    "df1 = pd.read_csv(path1)\n",
    "#df1 = pd.read_csv(\".\\documents\\chap05-cellphone.csv\") \n",
    "df1"
   ]
  },
  {
   "cell_type": "code",
   "execution_count": 12,
   "metadata": {},
   "outputs": [
    {
     "name": "stderr",
     "output_type": "stream",
     "text": [
      "<ipython-input-12-8df6e9f2dc49>:3: UserWarning: Pandas requires version '1.4.3' or newer of 'xlsxwriter' (version '1.3.7' currently installed).\n",
      "  df1.to_excel(path3, index = None)\n"
     ]
    }
   ],
   "source": [
    "# 写Excel文件\n",
    "path3 = '.\\documents\\cellphone.xlsx'\n",
    "df1.to_excel(path3, index = None)"
   ]
  },
  {
   "cell_type": "code",
   "execution_count": 55,
   "metadata": {
    "collapsed": true,
    "jupyter": {
     "outputs_hidden": true,
     "source_hidden": true
    }
   },
   "outputs": [
    {
     "data": {
      "text/html": [
       "<div>\n",
       "<style scoped>\n",
       "    .dataframe tbody tr th:only-of-type {\n",
       "        vertical-align: middle;\n",
       "    }\n",
       "\n",
       "    .dataframe tbody tr th {\n",
       "        vertical-align: top;\n",
       "    }\n",
       "\n",
       "    .dataframe thead th {\n",
       "        text-align: right;\n",
       "    }\n",
       "</style>\n",
       "<table border=\"1\" class=\"dataframe\">\n",
       "  <thead>\n",
       "    <tr style=\"text-align: right;\">\n",
       "      <th></th>\n",
       "      <th>Summary</th>\n",
       "      <th>Legend</th>\n",
       "      <th>Protection</th>\n",
       "      <th>Sale</th>\n",
       "      <th>Place</th>\n",
       "      <th>Price</th>\n",
       "      <th>Seller</th>\n",
       "      <th>MSales</th>\n",
       "      <th>Comments</th>\n",
       "    </tr>\n",
       "  </thead>\n",
       "  <tbody>\n",
       "    <tr>\n",
       "      <th>0</th>\n",
       "      <td>纯净版【包顺丰送礼包】Lenovo/联想 A789 手机 安卓系统智能触屏</td>\n",
       "      <td>消费者保障        七天退换\\t正品保障</td>\n",
       "      <td>七天退换</td>\n",
       "      <td>月售4438笔    \\t4124条评价</td>\n",
       "      <td>山东 济南</td>\n",
       "      <td>949.00        运费：0.00           信用卡</td>\n",
       "      <td>三际数码专营店</td>\n",
       "      <td>4438</td>\n",
       "      <td>4124</td>\n",
       "    </tr>\n",
       "    <tr>\n",
       "      <th>1</th>\n",
       "      <td>纯净版【包顺丰/送耳机+保护壳礼包】ZTE/中兴 V970 安卓智能手机</td>\n",
       "      <td>消费者保障        七天退换\\t正品保障</td>\n",
       "      <td>七天退换</td>\n",
       "      <td>月售2253笔    \\t1459条评价</td>\n",
       "      <td>山东 济南</td>\n",
       "      <td>1028.00        运费：0.00           信用卡</td>\n",
       "      <td>三际数码专营店</td>\n",
       "      <td>2253</td>\n",
       "      <td>1459</td>\n",
       "    </tr>\n",
       "    <tr>\n",
       "      <th>2</th>\n",
       "      <td>TOOKY/京崎 T85 双卡双待 安卓2.3.6系统 3G 正品智能手机 1GCPU</td>\n",
       "      <td>消费者保障\\t七天退换</td>\n",
       "      <td>七天退换</td>\n",
       "      <td>月售261笔\\t117条评价</td>\n",
       "      <td>广东 深圳</td>\n",
       "      <td>878.00        运费：0.00</td>\n",
       "      <td>京崎直营店</td>\n",
       "      <td>261</td>\n",
       "      <td>117</td>\n",
       "    </tr>\n",
       "    <tr>\n",
       "      <th>3</th>\n",
       "      <td>Nokia/诺基亚 1280大字体 老人手机 学生机 超长待机 正品 直板</td>\n",
       "      <td>消费者保障</td>\n",
       "      <td>无七天退换</td>\n",
       "      <td>月售29笔\\t76条评价</td>\n",
       "      <td>广东 深圳</td>\n",
       "      <td>128.00        运费：0.00           信用卡</td>\n",
       "      <td>lhq李海秋</td>\n",
       "      <td>29</td>\n",
       "      <td>76</td>\n",
       "    </tr>\n",
       "    <tr>\n",
       "      <th>4</th>\n",
       "      <td>【狂暑季】Gionee/金立 A696 直板触屏 语音导航手机 正品行货</td>\n",
       "      <td>消费者保障\\t七天退换\\t正品保障</td>\n",
       "      <td>七天退换</td>\n",
       "      <td>月售11笔\\t25条评价</td>\n",
       "      <td>福建 厦门</td>\n",
       "      <td>599.25        运费：0.00           信用卡折扣</td>\n",
       "      <td>华特兄弟数码专营店</td>\n",
       "      <td>11</td>\n",
       "      <td>25</td>\n",
       "    </tr>\n",
       "    <tr>\n",
       "      <th>...</th>\n",
       "      <td>...</td>\n",
       "      <td>...</td>\n",
       "      <td>...</td>\n",
       "      <td>...</td>\n",
       "      <td>...</td>\n",
       "      <td>...</td>\n",
       "      <td>...</td>\n",
       "      <td>...</td>\n",
       "      <td>...</td>\n",
       "    </tr>\n",
       "    <tr>\n",
       "      <th>5980</th>\n",
       "      <td>Lenovo/联想 A300 联通3G 超长待机 双卡双待WCDMA+GSM 智能手机</td>\n",
       "      <td>消费者保障</td>\n",
       "      <td>无七天退换</td>\n",
       "      <td>月售104笔\\t101条评价</td>\n",
       "      <td>北京货到付款</td>\n",
       "      <td>558.00        运费：8.00           信用卡</td>\n",
       "      <td>物美商城88</td>\n",
       "      <td>104</td>\n",
       "      <td>101</td>\n",
       "    </tr>\n",
       "    <tr>\n",
       "      <th>5981</th>\n",
       "      <td>ZTE/中兴 V880+ 智能手机 安卓智能系统 3D加速 正品行货</td>\n",
       "      <td>消费者保障\\t假一赔三\\t七天退换    品牌授权</td>\n",
       "      <td>七天退换</td>\n",
       "      <td>月售50笔\\t221条评价</td>\n",
       "      <td>广东 深圳</td>\n",
       "      <td>508.06        运费：0.01           信用卡</td>\n",
       "      <td>咱混口饭吃</td>\n",
       "      <td>50</td>\n",
       "      <td>221</td>\n",
       "    </tr>\n",
       "    <tr>\n",
       "      <th>5982</th>\n",
       "      <td>亿通 S100 大铃声字体按键 收音机外放 手写 老人手机 1月包换</td>\n",
       "      <td>消费者保障\\t七天退换\\t正品保障</td>\n",
       "      <td>七天退换</td>\n",
       "      <td>月售74笔\\t181条评价</td>\n",
       "      <td>四川 成都</td>\n",
       "      <td>238.10        运费：0.00           信用卡折扣</td>\n",
       "      <td>宜安数码专营店</td>\n",
       "      <td>74</td>\n",
       "      <td>181</td>\n",
       "    </tr>\n",
       "    <tr>\n",
       "      <th>5983</th>\n",
       "      <td>Daxian/大显I68超薄 双卡双待手机 高清触屏男女士半智能情侣手机</td>\n",
       "      <td>消费者保障\\t七天退换</td>\n",
       "      <td>七天退换</td>\n",
       "      <td>月售163笔\\t163条评价</td>\n",
       "      <td>广东 深圳</td>\n",
       "      <td>210.00        运费：0.10</td>\n",
       "      <td>lixianhua2x</td>\n",
       "      <td>163</td>\n",
       "      <td>163</td>\n",
       "    </tr>\n",
       "    <tr>\n",
       "      <th>5984</th>\n",
       "      <td>天星N8000 5寸 5.3寸平板手机3G智能安卓系统手机I9220 mtk6575</td>\n",
       "      <td>消费者保障\\t七天退换\\t24小时发货</td>\n",
       "      <td>七天退换</td>\n",
       "      <td>月售46笔\\t36条评价</td>\n",
       "      <td>广东 深圳货到付款</td>\n",
       "      <td>760.00        运费：0.01           信用卡</td>\n",
       "      <td>xiaowu59420</td>\n",
       "      <td>46</td>\n",
       "      <td>36</td>\n",
       "    </tr>\n",
       "  </tbody>\n",
       "</table>\n",
       "<p>5985 rows × 9 columns</p>\n",
       "</div>"
      ],
      "text/plain": [
       "                                          Summary                     Legend  \\\n",
       "0           纯净版【包顺丰送礼包】Lenovo/联想 A789 手机 安卓系统智能触屏    消费者保障        七天退换\\t正品保障   \n",
       "1            纯净版【包顺丰/送耳机+保护壳礼包】ZTE/中兴 V970 安卓智能手机    消费者保障        七天退换\\t正品保障   \n",
       "2     TOOKY/京崎 T85 双卡双待 安卓2.3.6系统 3G 正品智能手机 1GCPU                消费者保障\\t七天退换   \n",
       "3           Nokia/诺基亚 1280大字体 老人手机 学生机 超长待机 正品 直板                      消费者保障   \n",
       "4            【狂暑季】Gionee/金立 A696 直板触屏 语音导航手机 正品行货          消费者保障\\t七天退换\\t正品保障   \n",
       "...                                           ...                        ...   \n",
       "5980  Lenovo/联想 A300 联通3G 超长待机 双卡双待WCDMA+GSM 智能手机                      消费者保障   \n",
       "5981           ZTE/中兴 V880+ 智能手机 安卓智能系统 3D加速 正品行货  消费者保障\\t假一赔三\\t七天退换    品牌授权   \n",
       "5982           亿通 S100 大铃声字体按键 收音机外放 手写 老人手机 1月包换          消费者保障\\t七天退换\\t正品保障   \n",
       "5983         Daxian/大显I68超薄 双卡双待手机 高清触屏男女士半智能情侣手机                消费者保障\\t七天退换   \n",
       "5984   天星N8000 5寸 5.3寸平板手机3G智能安卓系统手机I9220 mtk6575        消费者保障\\t七天退换\\t24小时发货   \n",
       "\n",
       "     Protection                  Sale      Place  \\\n",
       "0          七天退换  月售4438笔    \\t4124条评价      山东 济南   \n",
       "1          七天退换  月售2253笔    \\t1459条评价      山东 济南   \n",
       "2          七天退换        月售261笔\\t117条评价      广东 深圳   \n",
       "3         无七天退换          月售29笔\\t76条评价      广东 深圳   \n",
       "4          七天退换          月售11笔\\t25条评价      福建 厦门   \n",
       "...         ...                   ...        ...   \n",
       "5980      无七天退换        月售104笔\\t101条评价     北京货到付款   \n",
       "5981       七天退换         月售50笔\\t221条评价      广东 深圳   \n",
       "5982       七天退换         月售74笔\\t181条评价      四川 成都   \n",
       "5983       七天退换        月售163笔\\t163条评价      广东 深圳   \n",
       "5984       七天退换          月售46笔\\t36条评价  广东 深圳货到付款   \n",
       "\n",
       "                                      Price       Seller  MSales  Comments  \n",
       "0       949.00        运费：0.00           信用卡      三际数码专营店    4438      4124  \n",
       "1      1028.00        运费：0.00           信用卡      三际数码专营店    2253      1459  \n",
       "2                     878.00        运费：0.00        京崎直营店     261       117  \n",
       "3       128.00        运费：0.00           信用卡       lhq李海秋      29        76  \n",
       "4     599.25        运费：0.00           信用卡折扣    华特兄弟数码专营店      11        25  \n",
       "...                                     ...          ...     ...       ...  \n",
       "5980    558.00        运费：8.00           信用卡       物美商城88     104       101  \n",
       "5981    508.06        运费：0.01           信用卡        咱混口饭吃      50       221  \n",
       "5982  238.10        运费：0.00           信用卡折扣      宜安数码专营店      74       181  \n",
       "5983                  210.00        运费：0.10  lixianhua2x     163       163  \n",
       "5984    760.00        运费：0.01           信用卡  xiaowu59420      46        36  \n",
       "\n",
       "[5985 rows x 9 columns]"
      ]
     },
     "execution_count": 55,
     "metadata": {},
     "output_type": "execute_result"
    }
   ],
   "source": [
    "path2 = '.\\documents\\chap05-cellphone.xlsx'\n",
    "#df2 = pd.read_excel(path2, sheet_name = \"cellphone\")#sheeet_name不要抄错，注意大小写\n",
    "df2 = pd.read_excel('.\\documents\\chap05-cellphone.xlsx', sheet_name = \"cellphone\")  \n",
    "df2"
   ]
  },
  {
   "cell_type": "code",
   "execution_count": 11,
   "metadata": {},
   "outputs": [],
   "source": [
    "# 写csv文件，注意编码\n",
    "path4 = '.\\documents\\cellphone.csv'\n",
    "df1.to_csv(path4, encoding = 'utf_8_sig', index = False)"
   ]
  },
  {
   "cell_type": "markdown",
   "metadata": {},
   "source": [
    "### NumPy数组文件\n",
    "+ 这是二进制文件，不是文本文件\n",
    "+ NumPy用于储存数组数据的标准二进制文件类型叫做“.npy”文件。\n",
    "+ NumPy用以在单个文件中储存多个数组的二进制档案格式叫做“.npz”格式。"
   ]
  },
  {
   "cell_type": "code",
   "execution_count": 57,
   "metadata": {},
   "outputs": [],
   "source": [
    "from pathlib import Path\n",
    "x = np.array([1, 2, 3])\n",
    "path_to_np = Path(\".\\documents\\my_grades.npy\")\n",
    "# 将NumPy数组存入硬盘\n",
    "np.save(path_to_np, grades)\n"
   ]
  },
  {
   "cell_type": "code",
   "execution_count": 59,
   "metadata": {},
   "outputs": [
    {
     "data": {
      "text/plain": [
       "array([[0.79, 0.84, 0.84],\n",
       "       [0.87, 0.93, 0.78],\n",
       "       [0.77, 1.  , 0.87],\n",
       "       [0.66, 0.75, 0.82],\n",
       "       [0.84, 0.89, 0.76],\n",
       "       [0.83, 0.71, 0.85]])"
      ]
     },
     "execution_count": 59,
     "metadata": {},
     "output_type": "execute_result"
    }
   ],
   "source": [
    "# 从硬盘读取NumPy数组\n",
    "y = np.load(\"documents\\my_grades.npy\")\n",
    "y"
   ]
  },
  {
   "cell_type": "code",
   "execution_count": 60,
   "metadata": {},
   "outputs": [],
   "source": [
    "# 将三个数组储存到NumPy档案文件中\n",
    "a0 = np.array([1, 2, 3])\n",
    "a1 = np.array([4, 5, 6])\n",
    "a2 = np.array([7, 8, 9])\n",
    "\n",
    "path_to_npz = Path(\".\\documents\\my_arrays.npz\")\n",
    "# 我们使用关键词参数 `soil`，`crust`，和 `bedrock` 来\n",
    "# 作为档案中对应数组的名字。\n",
    "np.savez(path_to_npz, soil=a0, crust=a1, bedrock=a2)"
   ]
  },
  {
   "cell_type": "code",
   "execution_count": 173,
   "metadata": {},
   "outputs": [
    {
     "data": {
      "text/plain": [
       "(array([1, 2, 3]), array([4, 5, 6]), array([7, 8, 9]))"
      ]
     },
     "execution_count": 173,
     "metadata": {},
     "output_type": "execute_result"
    }
   ],
   "source": [
    "# 打开档案并通过名字访问每个数组\n",
    "with np.load(path_to_npz) as my_archive_file:\n",
    "    out0 = my_archive_file[\"soil\"]\n",
    "    out1 = my_archive_file[\"crust\"]\n",
    "    out2 = my_archive_file[\"bedrock\"]\n",
    "out0, out1, out2"
   ]
  },
  {
   "cell_type": "markdown",
   "metadata": {},
   "source": [
    "# Matplotlib绘图基础"
   ]
  },
  {
   "cell_type": "markdown",
   "metadata": {},
   "source": [
    "- 柱状图\n",
    "- 散点图\n",
    "- 图像"
   ]
  },
  {
   "cell_type": "code",
   "execution_count": 61,
   "metadata": {},
   "outputs": [
    {
     "data": {
      "text/plain": [
       "[<matplotlib.lines.Line2D at 0x26fc2079460>]"
      ]
     },
     "execution_count": 61,
     "metadata": {},
     "output_type": "execute_result"
    },
    {
     "data": {
      "image/png": "[encoded data removed]",
      "text/plain": [
       "<Figure size 432x288 with 1 Axes>"
      ]
     },
     "metadata": {
      "needs_background": "light"
     },
     "output_type": "display_data"
    }
   ],
   "source": [
    "x = np.linspace(0, 3, 20)\n",
    "y = np.linspace(0, 9, 20)\n",
    "plt.plot(x, y, 'o')  # dot plot "
   ]
  },
  {
   "cell_type": "code",
   "execution_count": 62,
   "metadata": {},
   "outputs": [
    {
     "data": {
      "text/plain": [
       "<BarContainer object of 4 artists>"
      ]
     },
     "execution_count": 62,
     "metadata": {},
     "output_type": "execute_result"
    },
    {
     "data": {
      "image/png": "[encoded data removed]",
      "text/plain": [
       "<Figure size 432x288 with 1 Axes>"
      ]
     },
     "metadata": {
      "needs_background": "light"
     },
     "output_type": "display_data"
    }
   ],
   "source": [
    "fig, ax = plt.subplots()\n",
    "fruits = ['apple', 'blueberry', 'cherry', 'orange']\n",
    "counts = [40, 100, 30, 55]\n",
    "ax.bar(fruits, counts)"
   ]
  },
  {
   "cell_type": "code",
   "execution_count": 63,
   "metadata": {},
   "outputs": [
    {
     "data": {
      "text/plain": [
       "<matplotlib.colorbar.Colorbar at 0x26fc2353d30>"
      ]
     },
     "execution_count": 63,
     "metadata": {},
     "output_type": "execute_result"
    },
    {
     "data": {
      "image/png": "[encoded data removed]",
      "text/plain": [
       "<Figure size 432x288 with 2 Axes>"
      ]
     },
     "metadata": {
      "needs_background": "light"
     },
     "output_type": "display_data"
    }
   ],
   "source": [
    "image = np.random.rand(30, 30)\n",
    "plt.imshow(image)\n",
    "plt.colorbar()"
   ]
  },
  {
   "cell_type": "code",
   "execution_count": null,
   "metadata": {},
   "outputs": [],
   "source": []
  }
 ],
 "metadata": {
  "kernelspec": {
   "display_name": "Python 3",
   "language": "python",
   "name": "python3"
  },
  "language_info": {
   "codemirror_mode": {
    "name": "ipython",
    "version": 3
   },
   "file_extension": ".py",
   "mimetype": "text/x-python",
   "name": "python",
   "nbconvert_exporter": "python",
   "pygments_lexer": "ipython3",
   "version": "3.9.0"
  }
 },
 "nbformat": 4,
 "nbformat_minor": 4
}
