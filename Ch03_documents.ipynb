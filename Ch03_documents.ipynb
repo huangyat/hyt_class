{
 "cells": [
  {
   "cell_type": "markdown",
   "metadata": {},
   "source": [
    "<font face=\"微软雅黑\" size=5 color=#A52A2A > Lesson 3 文件读取"
   ]
  },
  {
   "cell_type": "markdown",
   "metadata": {},
   "source": [
    "# 路径和文件管理"
   ]
  },
  {
   "cell_type": "markdown",
   "metadata": {},
   "source": [
    "+ 内置的 pathlib.Path 对象\n",
    "+ 内置的 os.path 对象\n",
    "+ 环境管理器 open\n",
    "+ glob"
   ]
  },
  {
   "cell_type": "markdown",
   "metadata": {},
   "source": [
    "### 操作路径: 推荐 pathlib.Path \n",
    "官方文档：https://docs.python.org/3/library/pathlib.html#basic-use"
   ]
  },
  {
   "cell_type": "code",
   "execution_count": 1,
   "metadata": {},
   "outputs": [
    {
     "data": {
      "text/plain": [
       "WindowsPath('.')"
      ]
     },
     "execution_count": 1,
     "metadata": {},
     "output_type": "execute_result"
    }
   ],
   "source": [
    "# 创建一个指向当前路径的Path对象\n",
    "from pathlib import Path\n",
    "root = Path(\".\") # “.”意味着：当前代码存在于的文件夹\n",
    "root"
   ]
  },
  {
   "cell_type": "code",
   "execution_count": 2,
   "metadata": {},
   "outputs": [
    {
     "data": {
      "text/plain": [
       "[WindowsPath('.ipynb_checkpoints'),\n",
       " WindowsPath('L03_documents'),\n",
       " WindowsPath('liutianyu'),\n",
       " WindowsPath('new_folder')]"
      ]
     },
     "execution_count": 2,
     "metadata": {},
     "output_type": "execute_result"
    }
   ],
   "source": [
    "# Listing subdirectories:\n",
    "[x for x in root.iterdir() if x.is_dir()]"
   ]
  },
  {
   "cell_type": "code",
   "execution_count": 3,
   "metadata": {},
   "outputs": [
    {
     "data": {
      "text/plain": [
       "WindowsPath('L03_documents')"
      ]
     },
     "execution_count": 3,
     "metadata": {},
     "output_type": "execute_result"
    }
   ],
   "source": [
    "#p = Path('E:/WPy64-3902/notebooks/hyt_class/L03_documents')\n",
    "p = Path('./L03_documents')\n",
    "p   # p是一个路径对象，可以用路径对象的方法去操作；不是字符串。"
   ]
  },
  {
   "cell_type": "code",
   "execution_count": 4,
   "metadata": {},
   "outputs": [
    {
     "data": {
      "text/plain": [
       "'L03_documents'"
      ]
     },
     "execution_count": 4,
     "metadata": {},
     "output_type": "execute_result"
    }
   ],
   "source": [
    "# 将路径对象转化为字符串\n",
    "str(p)   #输出文件夹名字的字符串"
   ]
  },
  {
   "cell_type": "code",
   "execution_count": 29,
   "metadata": {},
   "outputs": [
    {
     "data": {
      "text/plain": [
       "[WindowsPath('L03_documents/.ipynb_checkpoints')]"
      ]
     },
     "execution_count": 29,
     "metadata": {},
     "output_type": "execute_result"
    }
   ],
   "source": [
    "[x for x in p.iterdir() if x.is_dir()]"
   ]
  },
  {
   "cell_type": "code",
   "execution_count": 5,
   "metadata": {},
   "outputs": [
    {
     "data": {
      "text/plain": [
       "WindowsPath('E:/WPy64-3902/notebooks/hyt_class')"
      ]
     },
     "execution_count": 5,
     "metadata": {},
     "output_type": "execute_result"
    }
   ],
   "source": [
    "# 查看当前工作目录\n",
    "Path.cwd()"
   ]
  },
  {
   "cell_type": "markdown",
   "metadata": {},
   "source": [
    "pathlib 支持用 / 拼接路径。"
   ]
  },
  {
   "cell_type": "code",
   "execution_count": 13,
   "metadata": {},
   "outputs": [
    {
     "data": {
      "text/plain": [
       "WindowsPath('new_folder1')"
      ]
     },
     "execution_count": 13,
     "metadata": {},
     "output_type": "execute_result"
    }
   ],
   "source": [
    "# 创建和删除文件夹\n",
    "t = \"new_folder1\"\n",
    "new_dir = root / t\n",
    "#new_dir.mkdir(\"new_folder1\")\n",
    "new_dir.mkdir(10)\n",
    "new_dir"
   ]
  },
  {
   "cell_type": "code",
   "execution_count": 15,
   "metadata": {},
   "outputs": [],
   "source": [
    "Path(new_dir).mkdir()"
   ]
  },
  {
   "cell_type": "code",
   "execution_count": 16,
   "metadata": {},
   "outputs": [],
   "source": [
    "new_dir.rmdir()"
   ]
  },
  {
   "cell_type": "code",
   "execution_count": 9,
   "metadata": {
    "collapsed": true,
    "jupyter": {
     "outputs_hidden": true
    }
   },
   "outputs": [
    {
     "data": {
      "text/plain": [
       "\u001b[1;31mSignature:\u001b[0m \u001b[0mnew_dir\u001b[0m\u001b[1;33m.\u001b[0m\u001b[0mmkdir\u001b[0m\u001b[1;33m(\u001b[0m\u001b[0mmode\u001b[0m\u001b[1;33m=\u001b[0m\u001b[1;36m511\u001b[0m\u001b[1;33m,\u001b[0m \u001b[0mparents\u001b[0m\u001b[1;33m=\u001b[0m\u001b[1;32mFalse\u001b[0m\u001b[1;33m,\u001b[0m \u001b[0mexist_ok\u001b[0m\u001b[1;33m=\u001b[0m\u001b[1;32mFalse\u001b[0m\u001b[1;33m)\u001b[0m\u001b[1;33m\u001b[0m\u001b[1;33m\u001b[0m\u001b[0m\n",
       "\u001b[1;31mSource:\u001b[0m   \n",
       "    \u001b[1;32mdef\u001b[0m \u001b[0mmkdir\u001b[0m\u001b[1;33m(\u001b[0m\u001b[0mself\u001b[0m\u001b[1;33m,\u001b[0m \u001b[0mmode\u001b[0m\u001b[1;33m=\u001b[0m\u001b[1;36m0o777\u001b[0m\u001b[1;33m,\u001b[0m \u001b[0mparents\u001b[0m\u001b[1;33m=\u001b[0m\u001b[1;32mFalse\u001b[0m\u001b[1;33m,\u001b[0m \u001b[0mexist_ok\u001b[0m\u001b[1;33m=\u001b[0m\u001b[1;32mFalse\u001b[0m\u001b[1;33m)\u001b[0m\u001b[1;33m:\u001b[0m\u001b[1;33m\n",
       "\u001b[0m        \u001b[1;34m\"\"\"\n",
       "        Create a new directory at this given path.\n",
       "        \"\"\"\u001b[0m\u001b[1;33m\n",
       "\u001b[0m        \u001b[1;32mtry\u001b[0m\u001b[1;33m:\u001b[0m\u001b[1;33m\n",
       "\u001b[0m            \u001b[0mself\u001b[0m\u001b[1;33m.\u001b[0m\u001b[0m_accessor\u001b[0m\u001b[1;33m.\u001b[0m\u001b[0mmkdir\u001b[0m\u001b[1;33m(\u001b[0m\u001b[0mself\u001b[0m\u001b[1;33m,\u001b[0m \u001b[0mmode\u001b[0m\u001b[1;33m)\u001b[0m\u001b[1;33m\n",
       "\u001b[0m        \u001b[1;32mexcept\u001b[0m \u001b[0mFileNotFoundError\u001b[0m\u001b[1;33m:\u001b[0m\u001b[1;33m\n",
       "\u001b[0m            \u001b[1;32mif\u001b[0m \u001b[1;32mnot\u001b[0m \u001b[0mparents\u001b[0m \u001b[1;32mor\u001b[0m \u001b[0mself\u001b[0m\u001b[1;33m.\u001b[0m\u001b[0mparent\u001b[0m \u001b[1;33m==\u001b[0m \u001b[0mself\u001b[0m\u001b[1;33m:\u001b[0m\u001b[1;33m\n",
       "\u001b[0m                \u001b[1;32mraise\u001b[0m\u001b[1;33m\n",
       "\u001b[0m            \u001b[0mself\u001b[0m\u001b[1;33m.\u001b[0m\u001b[0mparent\u001b[0m\u001b[1;33m.\u001b[0m\u001b[0mmkdir\u001b[0m\u001b[1;33m(\u001b[0m\u001b[0mparents\u001b[0m\u001b[1;33m=\u001b[0m\u001b[1;32mTrue\u001b[0m\u001b[1;33m,\u001b[0m \u001b[0mexist_ok\u001b[0m\u001b[1;33m=\u001b[0m\u001b[1;32mTrue\u001b[0m\u001b[1;33m)\u001b[0m\u001b[1;33m\n",
       "\u001b[0m            \u001b[0mself\u001b[0m\u001b[1;33m.\u001b[0m\u001b[0mmkdir\u001b[0m\u001b[1;33m(\u001b[0m\u001b[0mmode\u001b[0m\u001b[1;33m,\u001b[0m \u001b[0mparents\u001b[0m\u001b[1;33m=\u001b[0m\u001b[1;32mFalse\u001b[0m\u001b[1;33m,\u001b[0m \u001b[0mexist_ok\u001b[0m\u001b[1;33m=\u001b[0m\u001b[0mexist_ok\u001b[0m\u001b[1;33m)\u001b[0m\u001b[1;33m\n",
       "\u001b[0m        \u001b[1;32mexcept\u001b[0m \u001b[0mOSError\u001b[0m\u001b[1;33m:\u001b[0m\u001b[1;33m\n",
       "\u001b[0m            \u001b[1;31m# Cannot rely on checking for EEXIST, since the operating system\u001b[0m\u001b[1;33m\n",
       "\u001b[0m            \u001b[1;31m# could give priority to other errors like EACCES or EROFS\u001b[0m\u001b[1;33m\n",
       "\u001b[0m            \u001b[1;32mif\u001b[0m \u001b[1;32mnot\u001b[0m \u001b[0mexist_ok\u001b[0m \u001b[1;32mor\u001b[0m \u001b[1;32mnot\u001b[0m \u001b[0mself\u001b[0m\u001b[1;33m.\u001b[0m\u001b[0mis_dir\u001b[0m\u001b[1;33m(\u001b[0m\u001b[1;33m)\u001b[0m\u001b[1;33m:\u001b[0m\u001b[1;33m\n",
       "\u001b[0m                \u001b[1;32mraise\u001b[0m\u001b[1;33m\u001b[0m\u001b[1;33m\u001b[0m\u001b[0m\n",
       "\u001b[1;31mFile:\u001b[0m      e:\\wpy64-3902\\python-3.9.0.amd64\\lib\\pathlib.py\n",
       "\u001b[1;31mType:\u001b[0m      method\n"
      ]
     },
     "metadata": {},
     "output_type": "display_data"
    }
   ],
   "source": [
    "new_dir.mkdir??"
   ]
  },
  {
   "cell_type": "markdown",
   "metadata": {},
   "source": [
    "小练习：\n",
    "+ 创建一串文件夹，命名为folder0~~folder9\n",
    "+ 把这些文件夹批量删掉"
   ]
  },
  {
   "cell_type": "code",
   "execution_count": 29,
   "metadata": {},
   "outputs": [],
   "source": [
    "# 练习答案\n",
    "for i in range (10):    \n",
    "    t = \"folder\" + str(i)\n",
    "    new_dir = root / t \n",
    "    #new_dir.mkdir(0)\n",
    "    new_dir.rmdir()\n"
   ]
  },
  {
   "cell_type": "code",
   "execution_count": 17,
   "metadata": {},
   "outputs": [
    {
     "data": {
      "text/plain": [
       "'1'"
      ]
     },
     "execution_count": 17,
     "metadata": {},
     "output_type": "execute_result"
    }
   ],
   "source": [
    "i = 1\n",
    "str(i)"
   ]
  },
  {
   "cell_type": "code",
   "execution_count": 75,
   "metadata": {},
   "outputs": [
    {
     "data": {
      "text/plain": [
       "True"
      ]
     },
     "execution_count": 75,
     "metadata": {},
     "output_type": "execute_result"
    }
   ],
   "source": [
    "# 检查文件或文件夹是否存在\n",
    "path_to_new_folder = root / \"new_folder\"\n",
    "path_to_new_folder.exists()"
   ]
  },
  {
   "cell_type": "markdown",
   "metadata": {},
   "source": [
    "### os模块\n",
    "官方文档： https://docs.python.org/3/library/os.path.html"
   ]
  },
  {
   "cell_type": "code",
   "execution_count": 36,
   "metadata": {},
   "outputs": [],
   "source": [
    "import os\n",
    "os.mkdir(\"bbb\")"
   ]
  },
  {
   "cell_type": "code",
   "execution_count": 39,
   "metadata": {},
   "outputs": [],
   "source": [
    "os.rmdir('aaa')"
   ]
  },
  {
   "cell_type": "markdown",
   "metadata": {},
   "source": [
    "### 绝对路径和相对路径"
   ]
  },
  {
   "cell_type": "code",
   "execution_count": 18,
   "metadata": {},
   "outputs": [],
   "source": [
    "#默认相对路径\n",
    "f = open(\"summer.txt\", \"w\")\n",
    "f.write(\"I wanna go back to campus.\")\n",
    "f.close()"
   ]
  },
  {
   "cell_type": "code",
   "execution_count": 20,
   "metadata": {},
   "outputs": [
    {
     "data": {
      "text/plain": [
       "WindowsPath('summer.txt')"
      ]
     },
     "execution_count": 20,
     "metadata": {},
     "output_type": "execute_result"
    }
   ],
   "source": [
    "path_summer = Path(\"summer.txt\")\n",
    "path_summer"
   ]
  },
  {
   "cell_type": "code",
   "execution_count": 21,
   "metadata": {},
   "outputs": [
    {
     "data": {
      "text/plain": [
       "WindowsPath('E:/WPy64-3902/notebooks/hyt_class/summer.txt')"
      ]
     },
     "execution_count": 21,
     "metadata": {},
     "output_type": "execute_result"
    }
   ],
   "source": [
    "# 获取绝对路径\n",
    "path_summer.absolute()"
   ]
  },
  {
   "cell_type": "code",
   "execution_count": 82,
   "metadata": {},
   "outputs": [
    {
     "data": {
      "text/plain": [
       "WindowsPath('E:/WPy64-3902/notebooks/hyt_class/new_folder')"
      ]
     },
     "execution_count": 82,
     "metadata": {},
     "output_type": "execute_result"
    }
   ],
   "source": [
    "path_to_new_folder.absolute()"
   ]
  },
  {
   "cell_type": "markdown",
   "metadata": {},
   "source": [
    "###  `open` 环境管理器的使用方法\n",
    "+ 文件打开和写入\n",
    "+ 文件内容读取"
   ]
  },
  {
   "cell_type": "code",
   "execution_count": 22,
   "metadata": {},
   "outputs": [],
   "source": [
    "# 我们将向在当前文件夹中的名为“summer.txt”的文件写入数据\n",
    "\n",
    "with open(path_summer, mode=\"w\") as f:\n",
    "    # 这里的缩进表示我们进入了打开文件的“环境”（context）中。\n",
    "    # 离开这个缩进的空间将退出打开文件的环境，迫使该文件被关闭。\n",
    "    # 就算我们在缩进中的代码导致错误，文件也将被关闭\n",
    "    f.write('this is a line.\\nThis is a second line.\\nThis is the third line.\\n')\n",
    "\n",
    "# 文件再次被关闭。\n",
    "# w表示写入文件内容，原内容被覆盖。"
   ]
  },
  {
   "cell_type": "code",
   "execution_count": 23,
   "metadata": {},
   "outputs": [],
   "source": [
    "# 操作path\n",
    "with path_summer.open(mode=\"a\") as f:\n",
    "    f.write('1 this is a line.\\n2 This is a second line.\\n3 This is the third line.\\n')"
   ]
  },
  {
   "cell_type": "markdown",
   "metadata": {},
   "source": [
    "##### 常见打开模式"
   ]
  },
  {
   "attachments": {
    "7b0fb9a7-72f1-45ea-9c55-0ae043f8f5e0.png": {
     "image/png": "[encoded data removed]"
    }
   },
   "cell_type": "markdown",
   "metadata": {},
   "source": [
    "![open.png](attachment:7b0fb9a7-72f1-45ea-9c55-0ae043f8f5e0.png)"
   ]
  },
  {
   "cell_type": "code",
   "execution_count": 24,
   "metadata": {},
   "outputs": [
    {
     "data": {
      "text/plain": [
       "'this is a line.\\nThis is a second line.\\nThis is the third line.\\n1 this is a line.\\n2 This is a second line.\\n3 This is the third line.\\n'"
      ]
     },
     "execution_count": 24,
     "metadata": {},
     "output_type": "execute_result"
    }
   ],
   "source": [
    "# 演示文件对象的 `read` 方法\n",
    "# 打开文件要注意选用 mode = ‘r’ 容易出现编码错误，应该清楚编码\n",
    "with open(path_summer, mode=\"r\") as f:\n",
    "    # 将文件的全部内容读取为字符串\n",
    "    content = f.read()\n",
    "content"
   ]
  },
  {
   "cell_type": "code",
   "execution_count": 25,
   "metadata": {
    "collapsed": true,
    "jupyter": {
     "outputs_hidden": true
    }
   },
   "outputs": [
    {
     "name": "stdout",
     "output_type": "stream",
     "text": [
      "this is a line.\n",
      "This is a second line.\n",
      "This is the third line.\n",
      "1 this is a line.\n",
      "2 This is a second line.\n",
      "3 This is the third line.\n",
      "\n"
     ]
    }
   ],
   "source": [
    "print(content)"
   ]
  },
  {
   "cell_type": "markdown",
   "metadata": {},
   "source": [
    "小练习：\n",
    "+ 创建一个data_L03的文件夹\n",
    "+ 创建一系列名为poem0~poem9的txt文件，都放在data_L03文件夹里\n",
    "+ 在尾号数字为奇数的文件里面写 文件序号+ This is a poem. \n",
    "+ 在尾号数字为偶数的文件里面写 文件序号+Empty."
   ]
  },
  {
   "cell_type": "code",
   "execution_count": 26,
   "metadata": {},
   "outputs": [],
   "source": [
    "# 练习答案\n",
    "new_dir = root / 'data_L03'\n",
    "Path(new_dir).mkdir()\n",
    "\n",
    "for i in range (20):    \n",
    "    t = \"poem\" + str(i) + '.txt'\n",
    "    path_to_poem = root / 'data_L03'/ t\n",
    "    with path_to_poem.open(mode=\"w\") as f:\n",
    "        f.write('%d This is a poem.\\n' % i)"
   ]
  },
  {
   "cell_type": "markdown",
   "metadata": {},
   "source": [
    "###  glob  查找符合条件的文件"
   ]
  },
  {
   "cell_type": "code",
   "execution_count": 27,
   "metadata": {},
   "outputs": [
    {
     "data": {
      "text/plain": [
       "[WindowsPath('lesson01_start.py'), WindowsPath('lesson02_grammar.py')]"
      ]
     },
     "execution_count": 27,
     "metadata": {},
     "output_type": "execute_result"
    }
   ],
   "source": [
    "# 使用“glob”来返回所有符合某规律的文件的生成器\n",
    "\n",
    "py_list = list((root).glob(\"*.py\"))  # 通配符 *\n",
    "py_list"
   ]
  },
  {
   "cell_type": "code",
   "execution_count": 28,
   "metadata": {},
   "outputs": [
    {
     "data": {
      "text/plain": [
       "[WindowsPath('data_L03/poem0.txt'),\n",
       " WindowsPath('data_L03/poem1.txt'),\n",
       " WindowsPath('data_L03/poem10.txt'),\n",
       " WindowsPath('data_L03/poem11.txt'),\n",
       " WindowsPath('data_L03/poem12.txt'),\n",
       " WindowsPath('data_L03/poem13.txt'),\n",
       " WindowsPath('data_L03/poem14.txt'),\n",
       " WindowsPath('data_L03/poem15.txt'),\n",
       " WindowsPath('data_L03/poem16.txt'),\n",
       " WindowsPath('data_L03/poem17.txt'),\n",
       " WindowsPath('data_L03/poem18.txt'),\n",
       " WindowsPath('data_L03/poem19.txt'),\n",
       " WindowsPath('data_L03/poem2.txt'),\n",
       " WindowsPath('data_L03/poem3.txt'),\n",
       " WindowsPath('data_L03/poem4.txt'),\n",
       " WindowsPath('data_L03/poem5.txt'),\n",
       " WindowsPath('data_L03/poem6.txt'),\n",
       " WindowsPath('data_L03/poem7.txt'),\n",
       " WindowsPath('data_L03/poem8.txt'),\n",
       " WindowsPath('data_L03/poem9.txt')]"
      ]
     },
     "execution_count": 28,
     "metadata": {},
     "output_type": "execute_result"
    }
   ],
   "source": [
    "path_to_poems = root / 'data_L03'\n",
    "files = list(path_to_poems.glob('poem*.txt') ) # 这返回一个生成器\n",
    "files\n",
    "# 获取这些路径的排序列表\n",
    "sorted(files)"
   ]
  },
  {
   "cell_type": "code",
   "execution_count": 29,
   "metadata": {},
   "outputs": [
    {
     "data": {
      "text/plain": [
       "['data_L03\\\\poem0.txt',\n",
       " 'data_L03\\\\poem1.txt',\n",
       " 'data_L03\\\\poem2.txt',\n",
       " 'data_L03\\\\poem3.txt',\n",
       " 'data_L03\\\\poem4.txt',\n",
       " 'data_L03\\\\poem5.txt',\n",
       " 'data_L03\\\\poem6.txt',\n",
       " 'data_L03\\\\poem7.txt',\n",
       " 'data_L03\\\\poem8.txt',\n",
       " 'data_L03\\\\poem9.txt',\n",
       " 'data_L03\\\\poem10.txt',\n",
       " 'data_L03\\\\poem11.txt',\n",
       " 'data_L03\\\\poem12.txt',\n",
       " 'data_L03\\\\poem13.txt',\n",
       " 'data_L03\\\\poem14.txt',\n",
       " 'data_L03\\\\poem15.txt',\n",
       " 'data_L03\\\\poem16.txt',\n",
       " 'data_L03\\\\poem17.txt',\n",
       " 'data_L03\\\\poem18.txt',\n",
       " 'data_L03\\\\poem19.txt']"
      ]
     },
     "execution_count": 29,
     "metadata": {},
     "output_type": "execute_result"
    }
   ],
   "source": [
    "filenames = [str(i) for i in files]\n",
    "sorted(filenames, key = lambda x: int((x.split(\".\")[0].split('m')[1])))"
   ]
  },
  {
   "cell_type": "code",
   "execution_count": 30,
   "metadata": {},
   "outputs": [
    {
     "name": "stdout",
     "output_type": "stream",
     "text": [
      "0 This is a poem.\n",
      "\n",
      "1 This is a poem.\n",
      "\n",
      "10 This is a poem.\n",
      "\n",
      "11 This is a poem.\n",
      "\n",
      "12 This is a poem.\n",
      "\n",
      "13 This is a poem.\n",
      "\n",
      "14 This is a poem.\n",
      "\n",
      "15 This is a poem.\n",
      "\n",
      "16 This is a poem.\n",
      "\n",
      "17 This is a poem.\n",
      "\n",
      "18 This is a poem.\n",
      "\n",
      "19 This is a poem.\n",
      "\n",
      "2 This is a poem.\n",
      "\n",
      "3 This is a poem.\n",
      "\n",
      "4 This is a poem.\n",
      "\n",
      "5 This is a poem.\n",
      "\n",
      "6 This is a poem.\n",
      "\n",
      "7 This is a poem.\n",
      "\n",
      "8 This is a poem.\n",
      "\n",
      "9 This is a poem.\n",
      "\n"
     ]
    }
   ],
   "source": [
    "# 直接迭代这个生成器\n",
    "for file in path_to_poems.glob('poem*.txt'):\n",
    "    with open(file, 'r') as f:\n",
    "    # 进行一些操作\n",
    "        content = f.read()    \n",
    "        print(content)"
   ]
  },
  {
   "cell_type": "code",
   "execution_count": 27,
   "metadata": {},
   "outputs": [
    {
     "name": "stdout",
     "output_type": "stream",
     "text": [
      "0 This is a poem.\n",
      "\n",
      "1 This is a poem.\n",
      "\n",
      "2 This is a poem.\n",
      "\n",
      "3 This is a poem.\n",
      "\n",
      "4 This is a poem.\n",
      "\n",
      "5 This is a poem.\n",
      "\n",
      "6 This is a poem.\n",
      "\n",
      "7 This is a poem.\n",
      "\n",
      "8 This is a poem.\n",
      "\n",
      "9 This is a poem.\n",
      "\n",
      "10 This is a poem.\n",
      "\n",
      "11 This is a poem.\n",
      "\n",
      "12 This is a poem.\n",
      "\n",
      "13 This is a poem.\n",
      "\n",
      "14 This is a poem.\n",
      "\n",
      "15 This is a poem.\n",
      "\n",
      "16 This is a poem.\n",
      "\n",
      "17 This is a poem.\n",
      "\n",
      "18 This is a poem.\n",
      "\n",
      "19 This is a poem.\n",
      "\n"
     ]
    }
   ],
   "source": [
    "# 迭代文件名\n",
    "filenames_new = sorted(filenames, key = lambda x: int((x.split(\".\")[0].split('m')[1])))\n",
    "for name in filenames_new:\n",
    "    filename = name.split(\".\")[0].split('\\\\')[1] + '.txt'\n",
    "    file_path = root / 'data_L03' / filename\n",
    "    with open(file_path, 'r') as f:\n",
    "    # 进行一些操作\n",
    "        content = f.read()    \n",
    "        print(content)"
   ]
  },
  {
   "cell_type": "markdown",
   "metadata": {},
   "source": [
    "# 数据文件处理\n",
    "- Excel和csv文件\n",
    "- json\n",
    "- NumPy数组文件"
   ]
  },
  {
   "cell_type": "markdown",
   "metadata": {},
   "source": [
    "### pandas 文件读写"
   ]
  },
  {
   "cell_type": "code",
   "execution_count": 32,
   "metadata": {
    "collapsed": true,
    "jupyter": {
     "outputs_hidden": true
    }
   },
   "outputs": [
    {
     "data": {
      "text/html": [
       "<div>\n",
       "<style scoped>\n",
       "    .dataframe tbody tr th:only-of-type {\n",
       "        vertical-align: middle;\n",
       "    }\n",
       "\n",
       "    .dataframe tbody tr th {\n",
       "        vertical-align: top;\n",
       "    }\n",
       "\n",
       "    .dataframe thead th {\n",
       "        text-align: right;\n",
       "    }\n",
       "</style>\n",
       "<table border=\"1\" class=\"dataframe\">\n",
       "  <thead>\n",
       "    <tr style=\"text-align: right;\">\n",
       "      <th></th>\n",
       "      <th>Summary</th>\n",
       "      <th>Legend</th>\n",
       "      <th>Protection</th>\n",
       "      <th>Sale</th>\n",
       "      <th>Place</th>\n",
       "      <th>Price</th>\n",
       "      <th>Seller</th>\n",
       "      <th>MSales</th>\n",
       "      <th>Comments</th>\n",
       "    </tr>\n",
       "  </thead>\n",
       "  <tbody>\n",
       "    <tr>\n",
       "      <th>0</th>\n",
       "      <td>纯净版【包顺丰送礼包】Lenovo/联想 A789 手机 安卓系统智能触屏</td>\n",
       "      <td>消费者保障        七天退换\\t正品保障</td>\n",
       "      <td>七天退换</td>\n",
       "      <td>月售4438笔    \\t4124条评价</td>\n",
       "      <td>山东 济南</td>\n",
       "      <td>949.00        运费：0.00           信用卡</td>\n",
       "      <td>三际数码专营店</td>\n",
       "      <td>4438</td>\n",
       "      <td>4124</td>\n",
       "    </tr>\n",
       "    <tr>\n",
       "      <th>1</th>\n",
       "      <td>纯净版【包顺丰/送耳机+保护壳礼包】ZTE/中兴 V970 安卓智能手机</td>\n",
       "      <td>消费者保障        七天退换\\t正品保障</td>\n",
       "      <td>七天退换</td>\n",
       "      <td>月售2253笔    \\t1459条评价</td>\n",
       "      <td>山东 济南</td>\n",
       "      <td>1028.00        运费：0.00           信用卡</td>\n",
       "      <td>三际数码专营店</td>\n",
       "      <td>2253</td>\n",
       "      <td>1459</td>\n",
       "    </tr>\n",
       "    <tr>\n",
       "      <th>2</th>\n",
       "      <td>TOOKY/京崎 T85 双卡双待 安卓2.3.6系统 3G 正品智能手机 1GCPU</td>\n",
       "      <td>消费者保障\\t七天退换</td>\n",
       "      <td>七天退换</td>\n",
       "      <td>月售261笔\\t117条评价</td>\n",
       "      <td>广东 深圳</td>\n",
       "      <td>878.00        运费：0.00</td>\n",
       "      <td>京崎直营店</td>\n",
       "      <td>261</td>\n",
       "      <td>117</td>\n",
       "    </tr>\n",
       "    <tr>\n",
       "      <th>3</th>\n",
       "      <td>Nokia/诺基亚 1280大字体 老人手机 学生机 超长待机 正品 直板</td>\n",
       "      <td>消费者保障</td>\n",
       "      <td>无七天退换</td>\n",
       "      <td>月售29笔\\t76条评价</td>\n",
       "      <td>广东 深圳</td>\n",
       "      <td>128.00        运费：0.00           信用卡</td>\n",
       "      <td>lhq李海秋</td>\n",
       "      <td>29</td>\n",
       "      <td>76</td>\n",
       "    </tr>\n",
       "    <tr>\n",
       "      <th>4</th>\n",
       "      <td>【狂暑季】Gionee/金立 A696 直板触屏 语音导航手机 正品行货</td>\n",
       "      <td>消费者保障\\t七天退换\\t正品保障</td>\n",
       "      <td>七天退换</td>\n",
       "      <td>月售11笔\\t25条评价</td>\n",
       "      <td>福建 厦门</td>\n",
       "      <td>599.25        运费：0.00           信用卡折扣</td>\n",
       "      <td>华特兄弟数码专营店</td>\n",
       "      <td>11</td>\n",
       "      <td>25</td>\n",
       "    </tr>\n",
       "    <tr>\n",
       "      <th>...</th>\n",
       "      <td>...</td>\n",
       "      <td>...</td>\n",
       "      <td>...</td>\n",
       "      <td>...</td>\n",
       "      <td>...</td>\n",
       "      <td>...</td>\n",
       "      <td>...</td>\n",
       "      <td>...</td>\n",
       "      <td>...</td>\n",
       "    </tr>\n",
       "    <tr>\n",
       "      <th>5980</th>\n",
       "      <td>Lenovo/联想 A300 联通3G 超长待机 双卡双待WCDMA+GSM 智能手机</td>\n",
       "      <td>消费者保障</td>\n",
       "      <td>无七天退换</td>\n",
       "      <td>月售104笔\\t101条评价</td>\n",
       "      <td>北京货到付款</td>\n",
       "      <td>558.00        运费：8.00           信用卡</td>\n",
       "      <td>物美商城88</td>\n",
       "      <td>104</td>\n",
       "      <td>101</td>\n",
       "    </tr>\n",
       "    <tr>\n",
       "      <th>5981</th>\n",
       "      <td>ZTE/中兴 V880+ 智能手机 安卓智能系统 3D加速 正品行货</td>\n",
       "      <td>消费者保障\\t假一赔三\\t七天退换    品牌授权</td>\n",
       "      <td>七天退换</td>\n",
       "      <td>月售50笔\\t221条评价</td>\n",
       "      <td>广东 深圳</td>\n",
       "      <td>508.06        运费：0.01           信用卡</td>\n",
       "      <td>咱混口饭吃</td>\n",
       "      <td>50</td>\n",
       "      <td>221</td>\n",
       "    </tr>\n",
       "    <tr>\n",
       "      <th>5982</th>\n",
       "      <td>亿通 S100 大铃声字体按键 收音机外放 手写 老人手机 1月包换</td>\n",
       "      <td>消费者保障\\t七天退换\\t正品保障</td>\n",
       "      <td>七天退换</td>\n",
       "      <td>月售74笔\\t181条评价</td>\n",
       "      <td>四川 成都</td>\n",
       "      <td>238.10        运费：0.00           信用卡折扣</td>\n",
       "      <td>宜安数码专营店</td>\n",
       "      <td>74</td>\n",
       "      <td>181</td>\n",
       "    </tr>\n",
       "    <tr>\n",
       "      <th>5983</th>\n",
       "      <td>Daxian/大显I68超薄 双卡双待手机 高清触屏男女士半智能情侣手机</td>\n",
       "      <td>消费者保障\\t七天退换</td>\n",
       "      <td>七天退换</td>\n",
       "      <td>月售163笔\\t163条评价</td>\n",
       "      <td>广东 深圳</td>\n",
       "      <td>210.00        运费：0.10</td>\n",
       "      <td>lixianhua2x</td>\n",
       "      <td>163</td>\n",
       "      <td>163</td>\n",
       "    </tr>\n",
       "    <tr>\n",
       "      <th>5984</th>\n",
       "      <td>天星N8000 5寸 5.3寸平板手机3G智能安卓系统手机I9220 mtk6575</td>\n",
       "      <td>消费者保障\\t七天退换\\t24小时发货</td>\n",
       "      <td>七天退换</td>\n",
       "      <td>月售46笔\\t36条评价</td>\n",
       "      <td>广东 深圳货到付款</td>\n",
       "      <td>760.00        运费：0.01           信用卡</td>\n",
       "      <td>xiaowu59420</td>\n",
       "      <td>46</td>\n",
       "      <td>36</td>\n",
       "    </tr>\n",
       "  </tbody>\n",
       "</table>\n",
       "<p>5985 rows × 9 columns</p>\n",
       "</div>"
      ],
      "text/plain": [
       "                                          Summary                     Legend  \\\n",
       "0           纯净版【包顺丰送礼包】Lenovo/联想 A789 手机 安卓系统智能触屏    消费者保障        七天退换\\t正品保障   \n",
       "1            纯净版【包顺丰/送耳机+保护壳礼包】ZTE/中兴 V970 安卓智能手机    消费者保障        七天退换\\t正品保障   \n",
       "2     TOOKY/京崎 T85 双卡双待 安卓2.3.6系统 3G 正品智能手机 1GCPU                消费者保障\\t七天退换   \n",
       "3           Nokia/诺基亚 1280大字体 老人手机 学生机 超长待机 正品 直板                      消费者保障   \n",
       "4            【狂暑季】Gionee/金立 A696 直板触屏 语音导航手机 正品行货          消费者保障\\t七天退换\\t正品保障   \n",
       "...                                           ...                        ...   \n",
       "5980  Lenovo/联想 A300 联通3G 超长待机 双卡双待WCDMA+GSM 智能手机                      消费者保障   \n",
       "5981           ZTE/中兴 V880+ 智能手机 安卓智能系统 3D加速 正品行货  消费者保障\\t假一赔三\\t七天退换    品牌授权   \n",
       "5982           亿通 S100 大铃声字体按键 收音机外放 手写 老人手机 1月包换          消费者保障\\t七天退换\\t正品保障   \n",
       "5983         Daxian/大显I68超薄 双卡双待手机 高清触屏男女士半智能情侣手机                消费者保障\\t七天退换   \n",
       "5984   天星N8000 5寸 5.3寸平板手机3G智能安卓系统手机I9220 mtk6575        消费者保障\\t七天退换\\t24小时发货   \n",
       "\n",
       "     Protection                  Sale      Place  \\\n",
       "0          七天退换  月售4438笔    \\t4124条评价      山东 济南   \n",
       "1          七天退换  月售2253笔    \\t1459条评价      山东 济南   \n",
       "2          七天退换        月售261笔\\t117条评价      广东 深圳   \n",
       "3         无七天退换          月售29笔\\t76条评价      广东 深圳   \n",
       "4          七天退换          月售11笔\\t25条评价      福建 厦门   \n",
       "...         ...                   ...        ...   \n",
       "5980      无七天退换        月售104笔\\t101条评价     北京货到付款   \n",
       "5981       七天退换         月售50笔\\t221条评价      广东 深圳   \n",
       "5982       七天退换         月售74笔\\t181条评价      四川 成都   \n",
       "5983       七天退换        月售163笔\\t163条评价      广东 深圳   \n",
       "5984       七天退换          月售46笔\\t36条评价  广东 深圳货到付款   \n",
       "\n",
       "                                      Price       Seller  MSales  Comments  \n",
       "0       949.00        运费：0.00           信用卡      三际数码专营店    4438      4124  \n",
       "1      1028.00        运费：0.00           信用卡      三际数码专营店    2253      1459  \n",
       "2                     878.00        运费：0.00        京崎直营店     261       117  \n",
       "3       128.00        运费：0.00           信用卡       lhq李海秋      29        76  \n",
       "4     599.25        运费：0.00           信用卡折扣    华特兄弟数码专营店      11        25  \n",
       "...                                     ...          ...     ...       ...  \n",
       "5980    558.00        运费：8.00           信用卡       物美商城88     104       101  \n",
       "5981    508.06        运费：0.01           信用卡        咱混口饭吃      50       221  \n",
       "5982  238.10        运费：0.00           信用卡折扣      宜安数码专营店      74       181  \n",
       "5983                  210.00        运费：0.10  lixianhua2x     163       163  \n",
       "5984    760.00        运费：0.01           信用卡  xiaowu59420      46        36  \n",
       "\n",
       "[5985 rows x 9 columns]"
      ]
     },
     "execution_count": 32,
     "metadata": {},
     "output_type": "execute_result"
    }
   ],
   "source": [
    "import pandas as pd\n",
    "path1 = '.\\L03_documents\\chap05-cellphone.csv'  # 相对路径不要忘记写 .\n",
    "df1 = pd.read_csv(path1)\n",
    "#df1 = pd.read_csv(\".\\L03_documents\\chap05-cellphone.csv\") \n",
    "df1"
   ]
  },
  {
   "cell_type": "code",
   "execution_count": 47,
   "metadata": {},
   "outputs": [],
   "source": [
    "# 写Excel文件\n",
    "path3 = '.\\L03_documents\\cellphone.xlsx'\n",
    "df1.to_excel(path3, index = None)"
   ]
  },
  {
   "cell_type": "code",
   "execution_count": 33,
   "metadata": {
    "collapsed": true,
    "jupyter": {
     "outputs_hidden": true
    }
   },
   "outputs": [
    {
     "data": {
      "text/html": [
       "<div>\n",
       "<style scoped>\n",
       "    .dataframe tbody tr th:only-of-type {\n",
       "        vertical-align: middle;\n",
       "    }\n",
       "\n",
       "    .dataframe tbody tr th {\n",
       "        vertical-align: top;\n",
       "    }\n",
       "\n",
       "    .dataframe thead th {\n",
       "        text-align: right;\n",
       "    }\n",
       "</style>\n",
       "<table border=\"1\" class=\"dataframe\">\n",
       "  <thead>\n",
       "    <tr style=\"text-align: right;\">\n",
       "      <th></th>\n",
       "      <th>Summary</th>\n",
       "      <th>Legend</th>\n",
       "      <th>Protection</th>\n",
       "      <th>Sale</th>\n",
       "      <th>Place</th>\n",
       "      <th>Price</th>\n",
       "      <th>Seller</th>\n",
       "      <th>MSales</th>\n",
       "      <th>Comments</th>\n",
       "    </tr>\n",
       "  </thead>\n",
       "  <tbody>\n",
       "    <tr>\n",
       "      <th>0</th>\n",
       "      <td>纯净版【包顺丰送礼包】Lenovo/联想 A789 手机 安卓系统智能触屏</td>\n",
       "      <td>消费者保障        七天退换\\t正品保障</td>\n",
       "      <td>七天退换</td>\n",
       "      <td>月售4438笔    \\t4124条评价</td>\n",
       "      <td>山东 济南</td>\n",
       "      <td>949.00        运费：0.00           信用卡</td>\n",
       "      <td>三际数码专营店</td>\n",
       "      <td>4438</td>\n",
       "      <td>4124</td>\n",
       "    </tr>\n",
       "    <tr>\n",
       "      <th>1</th>\n",
       "      <td>纯净版【包顺丰/送耳机+保护壳礼包】ZTE/中兴 V970 安卓智能手机</td>\n",
       "      <td>消费者保障        七天退换\\t正品保障</td>\n",
       "      <td>七天退换</td>\n",
       "      <td>月售2253笔    \\t1459条评价</td>\n",
       "      <td>山东 济南</td>\n",
       "      <td>1028.00        运费：0.00           信用卡</td>\n",
       "      <td>三际数码专营店</td>\n",
       "      <td>2253</td>\n",
       "      <td>1459</td>\n",
       "    </tr>\n",
       "    <tr>\n",
       "      <th>2</th>\n",
       "      <td>TOOKY/京崎 T85 双卡双待 安卓2.3.6系统 3G 正品智能手机 1GCPU</td>\n",
       "      <td>消费者保障\\t七天退换</td>\n",
       "      <td>七天退换</td>\n",
       "      <td>月售261笔\\t117条评价</td>\n",
       "      <td>广东 深圳</td>\n",
       "      <td>878.00        运费：0.00</td>\n",
       "      <td>京崎直营店</td>\n",
       "      <td>261</td>\n",
       "      <td>117</td>\n",
       "    </tr>\n",
       "    <tr>\n",
       "      <th>3</th>\n",
       "      <td>Nokia/诺基亚 1280大字体 老人手机 学生机 超长待机 正品 直板</td>\n",
       "      <td>消费者保障</td>\n",
       "      <td>无七天退换</td>\n",
       "      <td>月售29笔\\t76条评价</td>\n",
       "      <td>广东 深圳</td>\n",
       "      <td>128.00        运费：0.00           信用卡</td>\n",
       "      <td>lhq李海秋</td>\n",
       "      <td>29</td>\n",
       "      <td>76</td>\n",
       "    </tr>\n",
       "    <tr>\n",
       "      <th>4</th>\n",
       "      <td>【狂暑季】Gionee/金立 A696 直板触屏 语音导航手机 正品行货</td>\n",
       "      <td>消费者保障\\t七天退换\\t正品保障</td>\n",
       "      <td>七天退换</td>\n",
       "      <td>月售11笔\\t25条评价</td>\n",
       "      <td>福建 厦门</td>\n",
       "      <td>599.25        运费：0.00           信用卡折扣</td>\n",
       "      <td>华特兄弟数码专营店</td>\n",
       "      <td>11</td>\n",
       "      <td>25</td>\n",
       "    </tr>\n",
       "    <tr>\n",
       "      <th>...</th>\n",
       "      <td>...</td>\n",
       "      <td>...</td>\n",
       "      <td>...</td>\n",
       "      <td>...</td>\n",
       "      <td>...</td>\n",
       "      <td>...</td>\n",
       "      <td>...</td>\n",
       "      <td>...</td>\n",
       "      <td>...</td>\n",
       "    </tr>\n",
       "    <tr>\n",
       "      <th>5980</th>\n",
       "      <td>Lenovo/联想 A300 联通3G 超长待机 双卡双待WCDMA+GSM 智能手机</td>\n",
       "      <td>消费者保障</td>\n",
       "      <td>无七天退换</td>\n",
       "      <td>月售104笔\\t101条评价</td>\n",
       "      <td>北京货到付款</td>\n",
       "      <td>558.00        运费：8.00           信用卡</td>\n",
       "      <td>物美商城88</td>\n",
       "      <td>104</td>\n",
       "      <td>101</td>\n",
       "    </tr>\n",
       "    <tr>\n",
       "      <th>5981</th>\n",
       "      <td>ZTE/中兴 V880+ 智能手机 安卓智能系统 3D加速 正品行货</td>\n",
       "      <td>消费者保障\\t假一赔三\\t七天退换    品牌授权</td>\n",
       "      <td>七天退换</td>\n",
       "      <td>月售50笔\\t221条评价</td>\n",
       "      <td>广东 深圳</td>\n",
       "      <td>508.06        运费：0.01           信用卡</td>\n",
       "      <td>咱混口饭吃</td>\n",
       "      <td>50</td>\n",
       "      <td>221</td>\n",
       "    </tr>\n",
       "    <tr>\n",
       "      <th>5982</th>\n",
       "      <td>亿通 S100 大铃声字体按键 收音机外放 手写 老人手机 1月包换</td>\n",
       "      <td>消费者保障\\t七天退换\\t正品保障</td>\n",
       "      <td>七天退换</td>\n",
       "      <td>月售74笔\\t181条评价</td>\n",
       "      <td>四川 成都</td>\n",
       "      <td>238.10        运费：0.00           信用卡折扣</td>\n",
       "      <td>宜安数码专营店</td>\n",
       "      <td>74</td>\n",
       "      <td>181</td>\n",
       "    </tr>\n",
       "    <tr>\n",
       "      <th>5983</th>\n",
       "      <td>Daxian/大显I68超薄 双卡双待手机 高清触屏男女士半智能情侣手机</td>\n",
       "      <td>消费者保障\\t七天退换</td>\n",
       "      <td>七天退换</td>\n",
       "      <td>月售163笔\\t163条评价</td>\n",
       "      <td>广东 深圳</td>\n",
       "      <td>210.00        运费：0.10</td>\n",
       "      <td>lixianhua2x</td>\n",
       "      <td>163</td>\n",
       "      <td>163</td>\n",
       "    </tr>\n",
       "    <tr>\n",
       "      <th>5984</th>\n",
       "      <td>天星N8000 5寸 5.3寸平板手机3G智能安卓系统手机I9220 mtk6575</td>\n",
       "      <td>消费者保障\\t七天退换\\t24小时发货</td>\n",
       "      <td>七天退换</td>\n",
       "      <td>月售46笔\\t36条评价</td>\n",
       "      <td>广东 深圳货到付款</td>\n",
       "      <td>760.00        运费：0.01           信用卡</td>\n",
       "      <td>xiaowu59420</td>\n",
       "      <td>46</td>\n",
       "      <td>36</td>\n",
       "    </tr>\n",
       "  </tbody>\n",
       "</table>\n",
       "<p>5985 rows × 9 columns</p>\n",
       "</div>"
      ],
      "text/plain": [
       "                                          Summary                     Legend  \\\n",
       "0           纯净版【包顺丰送礼包】Lenovo/联想 A789 手机 安卓系统智能触屏    消费者保障        七天退换\\t正品保障   \n",
       "1            纯净版【包顺丰/送耳机+保护壳礼包】ZTE/中兴 V970 安卓智能手机    消费者保障        七天退换\\t正品保障   \n",
       "2     TOOKY/京崎 T85 双卡双待 安卓2.3.6系统 3G 正品智能手机 1GCPU                消费者保障\\t七天退换   \n",
       "3           Nokia/诺基亚 1280大字体 老人手机 学生机 超长待机 正品 直板                      消费者保障   \n",
       "4            【狂暑季】Gionee/金立 A696 直板触屏 语音导航手机 正品行货          消费者保障\\t七天退换\\t正品保障   \n",
       "...                                           ...                        ...   \n",
       "5980  Lenovo/联想 A300 联通3G 超长待机 双卡双待WCDMA+GSM 智能手机                      消费者保障   \n",
       "5981           ZTE/中兴 V880+ 智能手机 安卓智能系统 3D加速 正品行货  消费者保障\\t假一赔三\\t七天退换    品牌授权   \n",
       "5982           亿通 S100 大铃声字体按键 收音机外放 手写 老人手机 1月包换          消费者保障\\t七天退换\\t正品保障   \n",
       "5983         Daxian/大显I68超薄 双卡双待手机 高清触屏男女士半智能情侣手机                消费者保障\\t七天退换   \n",
       "5984   天星N8000 5寸 5.3寸平板手机3G智能安卓系统手机I9220 mtk6575        消费者保障\\t七天退换\\t24小时发货   \n",
       "\n",
       "     Protection                  Sale      Place  \\\n",
       "0          七天退换  月售4438笔    \\t4124条评价      山东 济南   \n",
       "1          七天退换  月售2253笔    \\t1459条评价      山东 济南   \n",
       "2          七天退换        月售261笔\\t117条评价      广东 深圳   \n",
       "3         无七天退换          月售29笔\\t76条评价      广东 深圳   \n",
       "4          七天退换          月售11笔\\t25条评价      福建 厦门   \n",
       "...         ...                   ...        ...   \n",
       "5980      无七天退换        月售104笔\\t101条评价     北京货到付款   \n",
       "5981       七天退换         月售50笔\\t221条评价      广东 深圳   \n",
       "5982       七天退换         月售74笔\\t181条评价      四川 成都   \n",
       "5983       七天退换        月售163笔\\t163条评价      广东 深圳   \n",
       "5984       七天退换          月售46笔\\t36条评价  广东 深圳货到付款   \n",
       "\n",
       "                                      Price       Seller  MSales  Comments  \n",
       "0       949.00        运费：0.00           信用卡      三际数码专营店    4438      4124  \n",
       "1      1028.00        运费：0.00           信用卡      三际数码专营店    2253      1459  \n",
       "2                     878.00        运费：0.00        京崎直营店     261       117  \n",
       "3       128.00        运费：0.00           信用卡       lhq李海秋      29        76  \n",
       "4     599.25        运费：0.00           信用卡折扣    华特兄弟数码专营店      11        25  \n",
       "...                                     ...          ...     ...       ...  \n",
       "5980    558.00        运费：8.00           信用卡       物美商城88     104       101  \n",
       "5981    508.06        运费：0.01           信用卡        咱混口饭吃      50       221  \n",
       "5982  238.10        运费：0.00           信用卡折扣      宜安数码专营店      74       181  \n",
       "5983                  210.00        运费：0.10  lixianhua2x     163       163  \n",
       "5984    760.00        运费：0.01           信用卡  xiaowu59420      46        36  \n",
       "\n",
       "[5985 rows x 9 columns]"
      ]
     },
     "execution_count": 33,
     "metadata": {},
     "output_type": "execute_result"
    }
   ],
   "source": [
    "path2 = '.\\L03_documents\\chap05-cellphone.xlsx'\n",
    "#df2 = pd.read_excel(path2, sheet_name = \"cellphone\")\n",
    "df2 = pd.read_excel('.\\L03_documents\\chap05-cellphone.xlsx', sheet_name = \"cellphone\")  #sheeet_name不要抄错，注意大小写\n",
    "df2"
   ]
  },
  {
   "cell_type": "code",
   "execution_count": 53,
   "metadata": {},
   "outputs": [],
   "source": [
    "# 写csv文件，注意编码\n",
    "path4 = '.\\L03_documents\\cellphone.csv'\n",
    "df1.to_csv(path4, encoding = 'utf_8_sig', index = False)"
   ]
  },
  {
   "cell_type": "markdown",
   "metadata": {},
   "source": [
    "### json模块"
   ]
  },
  {
   "cell_type": "code",
   "execution_count": 69,
   "metadata": {},
   "outputs": [],
   "source": [
    "import json"
   ]
  },
  {
   "cell_type": "code",
   "execution_count": 70,
   "metadata": {},
   "outputs": [
    {
     "data": {
      "text/plain": [
       "{'Alex': 2020010483,\n",
       " 'Jack': 2019880789,\n",
       " 'Tim': [2015050888, 'Phd'],\n",
       " 'Eva': [2016050999, 'Master']}"
      ]
     },
     "execution_count": 70,
     "metadata": {},
     "output_type": "execute_result"
    }
   ],
   "source": [
    "# dict\n",
    "names = {\n",
    "    \"Alex\": 2020010483,\n",
    "    \"Jack\": 2019880789,\n",
    "    \"Tim\": [2015050888, \"Phd\"],\n",
    "    \"Eva\": [2016050999, \"Master\"],\n",
    "}\n",
    "names"
   ]
  },
  {
   "cell_type": "code",
   "execution_count": 71,
   "metadata": {},
   "outputs": [],
   "source": [
    "# 三步法\n",
    "f = open(\"names.json\", \"w\")\n",
    "# f.write(names)\n",
    "json.dump(names, f)  # 把字典对象names写入文件流f\n",
    "f.close()"
   ]
  },
  {
   "cell_type": "code",
   "execution_count": 77,
   "metadata": {
    "collapsed": true,
    "jupyter": {
     "outputs_hidden": true
    }
   },
   "outputs": [
    {
     "name": "stdout",
     "output_type": "stream",
     "text": [
      "<class 'dict'>\n"
     ]
    },
    {
     "data": {
      "text/plain": [
       "{'msg': '',\n",
       " 'data': {'count': 241,\n",
       "  'previous': None,\n",
       "  'results': [{'to_user': 14442848,\n",
       "    'liked': 0,\n",
       "    'user_id': 31084077,\n",
       "    'is_essence': 0,\n",
       "    'replys': [],\n",
       "    'deleted': False,\n",
       "    'user_info': {'user_id': 31084077,\n",
       "     'name': '',\n",
       "     'school_number': '',\n",
       "     'role': 5,\n",
       "     'avatar': 'http://pbp38mcp7.bkt.clouddn.com/15537581968204.png',\n",
       "     'nickname': ''},\n",
       "    'topic': 899016,\n",
       "    'classroom_id': 3966931,\n",
       "    'ids': [29487489,\n",
       "     10708417,\n",
       "     30890058,\n",
       "     4176075,\n",
       "     31084077,\n",
       "     3290321,\n",
       "     28915029,\n",
       "     29116055,\n",
       "     13263288,\n",
       "     30884606],\n",
       "    'commented': 0,\n",
       "    'content': {'app_upload_images': [],\n",
       "     'text': '打卡',\n",
       "     'app_text': '打卡',\n",
       "     'upload_images': []},\n",
       "    'is_delete': 0,\n",
       "    'is_top': 0,\n",
       "    'create_time': 1596075422000,\n",
       "    'score_status': 0,\n",
       "    'is_self': 0,\n",
       "    'is_praise': 0,\n",
       "    'score': 0,\n",
       "    'id': 13724296},\n",
       "   {'to_user': 14442848,\n",
       "    'liked': 0,\n",
       "    'user_id': 28915029,\n",
       "    'is_essence': 0,\n",
       "    'replys': [],\n",
       "    'deleted': False,\n",
       "    'user_info': {'user_id': 28915029,\n",
       "     'name': '王婷婷',\n",
       "     'school_number': '',\n",
       "     'role': 5,\n",
       "     'avatar': 'http://thirdwx.qlogo.cn/mmopen/aDRKsRebBibdoZ8B4vMdBevIl4zJ3GMScOt9tfcFgfK5NC52icObNG0cAxGDianhqvcibiaUjUDgBZgmNgugFNTKKQsm8acYZPAqM/132',\n",
       "     'nickname': '婷'},\n",
       "    'topic': 899016,\n",
       "    'classroom_id': 3966931,\n",
       "    'commented': 0,\n",
       "    'content': {'app_upload_images': [],\n",
       "     'text': '打卡',\n",
       "     'app_text': '打卡',\n",
       "     'upload_images': []},\n",
       "    'is_delete': 0,\n",
       "    'is_top': 0,\n",
       "    'create_time': 1596025152000,\n",
       "    'score_status': 0,\n",
       "    'is_self': 0,\n",
       "    'is_praise': 0,\n",
       "    'score': 0,\n",
       "    'id': 13716365},\n",
       "   {'to_user': 14442848,\n",
       "    'liked': 0,\n",
       "    'user_id': 3290321,\n",
       "    'is_essence': 0,\n",
       "    'replys': [],\n",
       "    'deleted': False,\n",
       "    'user_info': {'user_id': 3290321,\n",
       "     'name': '王瑀聖',\n",
       "     'school_number': '0134',\n",
       "     'role': 5,\n",
       "     'avatar': 'https://qn-sx.yuketang.cn/avatar/e5V3I4O8Iejdb5dTlNcUJpVTEicPdSnicOnu7EWxZpZD0KkpdaC7MKVhiavaD7kbzsiciaUIB4C588EE9BkTKNzNqsglib7GSXoc0j',\n",
       "     'nickname': '王瑀聖'},\n",
       "    'topic': 899016,\n",
       "    'classroom_id': 3966931,\n",
       "    'commented': 0,\n",
       "    'content': {'app_upload_images': [],\n",
       "     'text': '打卡',\n",
       "     'app_text': '打卡',\n",
       "     'upload_images': []},\n",
       "    'is_delete': 0,\n",
       "    'is_top': 0,\n",
       "    'create_time': 1595921616000,\n",
       "    'score_status': 0,\n",
       "    'is_self': 0,\n",
       "    'is_praise': 0,\n",
       "    'score': 0,\n",
       "    'id': 13693681},\n",
       "   {'to_user': 14442848,\n",
       "    'liked': 0,\n",
       "    'user_id': 13263288,\n",
       "    'is_essence': 0,\n",
       "    'replys': [],\n",
       "    'deleted': False,\n",
       "    'user_info': {'user_id': 13263288,\n",
       "     'name': 'LANG',\n",
       "     'school_number': '',\n",
       "     'role': 5,\n",
       "     'avatar': 'http://thirdwx.qlogo.cn/mmopen/GibOcMnJ0cVLUBTHWuJYeBjWL38v53oGde9Dr2iaicbkSqmeA3ibA7GOzDt9bQlt2T4oNjmGFtjDOr9gcOBcJasOad5lctZgHZpg/132',\n",
       "     'nickname': 'LANG'},\n",
       "    'topic': 899016,\n",
       "    'classroom_id': 3966931,\n",
       "    'commented': 0,\n",
       "    'content': {'app_upload_images': [],\n",
       "     'text': '打卡',\n",
       "     'app_text': '打卡',\n",
       "     'upload_images': []},\n",
       "    'is_delete': 0,\n",
       "    'is_top': 0,\n",
       "    'create_time': 1595899800000,\n",
       "    'score_status': 0,\n",
       "    'is_self': 0,\n",
       "    'is_praise': 0,\n",
       "    'score': 0,\n",
       "    'id': 13687233},\n",
       "   {'to_user': 14442848,\n",
       "    'liked': 0,\n",
       "    'user_id': 29487489,\n",
       "    'is_essence': 0,\n",
       "    'replys': [],\n",
       "    'deleted': False,\n",
       "    'user_info': {'user_id': 29487489,\n",
       "     'name': '',\n",
       "     'school_number': '',\n",
       "     'role': 5,\n",
       "     'avatar': 'http://thirdwx.qlogo.cn/mmopen/K3V79ej69wM6Hibia7pQF8TfrHkPIKY0zTNiaqYWPMMAHIEvJZolDPQKNictxnPzHwJcPkicZJ5A5QxWNebice8icLiasjUblickHxo1W/132',\n",
       "     'nickname': '小允'},\n",
       "    'topic': 899016,\n",
       "    'classroom_id': 3966931,\n",
       "    'commented': 0,\n",
       "    'content': {'app_upload_images': [],\n",
       "     'text': '打卡',\n",
       "     'app_text': '打卡',\n",
       "     'upload_images': []},\n",
       "    'is_delete': 0,\n",
       "    'is_top': 0,\n",
       "    'create_time': 1595828623000,\n",
       "    'score_status': 0,\n",
       "    'is_self': 0,\n",
       "    'is_praise': 0,\n",
       "    'score': 0,\n",
       "    'id': 13674747},\n",
       "   {'to_user': 14442848,\n",
       "    'liked': 0,\n",
       "    'user_id': 30884606,\n",
       "    'is_essence': 0,\n",
       "    'replys': [],\n",
       "    'deleted': False,\n",
       "    'user_info': {'user_id': 30884606,\n",
       "     'name': '',\n",
       "     'school_number': '',\n",
       "     'role': 5,\n",
       "     'avatar': 'http://thirdwx.qlogo.cn/mmopen/vi_32/anV2LaMkvia8icvfml5OduCSKbhJGttKhBukKH8JTyMRPxvcj4WZl5X9zqdDUn9sAy49IepKZCCU5aLVp2UYgWJw/132',\n",
       "     'nickname': '清'},\n",
       "    'topic': 899016,\n",
       "    'classroom_id': 3966931,\n",
       "    'commented': 0,\n",
       "    'content': {'app_upload_images': [],\n",
       "     'text': '打卡',\n",
       "     'app_text': '打卡',\n",
       "     'upload_images': []},\n",
       "    'is_delete': 0,\n",
       "    'is_top': 0,\n",
       "    'create_time': 1595581794000,\n",
       "    'score_status': 0,\n",
       "    'is_self': 0,\n",
       "    'is_praise': 0,\n",
       "    'score': 0,\n",
       "    'id': 13628893},\n",
       "   {'to_user': 14442848,\n",
       "    'liked': 0,\n",
       "    'user_id': 4176075,\n",
       "    'is_essence': 0,\n",
       "    'replys': [],\n",
       "    'deleted': False,\n",
       "    'user_info': {'user_id': 4176075,\n",
       "     'name': '徐焕韬',\n",
       "     'school_number': '201511222033',\n",
       "     'role': 5,\n",
       "     'avatar': 'https://qn-sx.yuketang.cn/avatar/QLR5aKwLYaMobVKTzZapalCZNAibW0NMy6YGqKibQqYfdN7Ef16dOrpHqIs1mX4MlnkPBTk3VtC8FIS9WicicKRf5DnJU9Ilg07T',\n",
       "     'nickname': 'Rank'},\n",
       "    'topic': 899016,\n",
       "    'classroom_id': 3966931,\n",
       "    'commented': 0,\n",
       "    'content': {'app_upload_images': [],\n",
       "     'text': '打卡',\n",
       "     'app_text': '打卡',\n",
       "     'upload_images': []},\n",
       "    'is_delete': 0,\n",
       "    'is_top': 0,\n",
       "    'create_time': 1595559279000,\n",
       "    'score_status': 0,\n",
       "    'is_self': 0,\n",
       "    'is_praise': 0,\n",
       "    'score': 0,\n",
       "    'id': 13623012},\n",
       "   {'to_user': 14442848,\n",
       "    'liked': 0,\n",
       "    'user_id': 29116055,\n",
       "    'is_essence': 0,\n",
       "    'replys': [],\n",
       "    'deleted': False,\n",
       "    'user_info': {'user_id': 29116055,\n",
       "     'name': '',\n",
       "     'school_number': '',\n",
       "     'role': 5,\n",
       "     'avatar': 'http://pbp38mcp7.bkt.clouddn.com/15537581968204.png',\n",
       "     'nickname': ''},\n",
       "    'topic': 899016,\n",
       "    'classroom_id': 3966931,\n",
       "    'commented': 0,\n",
       "    'content': {'app_upload_images': [],\n",
       "     'text': '打卡',\n",
       "     'app_text': '打卡',\n",
       "     'upload_images': []},\n",
       "    'is_delete': 0,\n",
       "    'is_top': 0,\n",
       "    'create_time': 1595332275000,\n",
       "    'score_status': 0,\n",
       "    'is_self': 0,\n",
       "    'is_praise': 0,\n",
       "    'score': 0,\n",
       "    'id': 13581833},\n",
       "   {'to_user': 10708417,\n",
       "    'liked': 0,\n",
       "    'user_id': 10708417,\n",
       "    'is_essence': 0,\n",
       "    'replys': [],\n",
       "    'deleted': False,\n",
       "    'user_info': {'user_id': 10708417,\n",
       "     'name': '胡东泽',\n",
       "     'school_number': '201905710907',\n",
       "     'role': 5,\n",
       "     'avatar': 'https://qn-sx.yuketang.cn/avatar/QLR5aKwLYaM84WhVs7re5FBrcMJn9tvC3PTHsBhwhDVrmuZg88dn72WCQb5neWiaZZlswwiamc7HgpdX9tkhyIcu8dLjXC3KNK',\n",
       "     'nickname': '弎水'},\n",
       "    'topic': 899016,\n",
       "    'classroom_id': 3966931,\n",
       "    'commented': 0,\n",
       "    'content': {'app_upload_images': [],\n",
       "     'text': '打卡',\n",
       "     'app_text': '打卡',\n",
       "     'upload_images': []},\n",
       "    'is_delete': 0,\n",
       "    'is_top': 0,\n",
       "    'create_time': 1594184151000,\n",
       "    'score_status': 0,\n",
       "    'is_self': 0,\n",
       "    'is_praise': 0,\n",
       "    'score': 0,\n",
       "    'id': 13310398},\n",
       "   {'to_user': 14442848,\n",
       "    'liked': 0,\n",
       "    'user_id': 30890058,\n",
       "    'is_essence': 0,\n",
       "    'replys': [],\n",
       "    'deleted': False,\n",
       "    'user_info': {'user_id': 30890058,\n",
       "     'name': '',\n",
       "     'school_number': '',\n",
       "     'role': 5,\n",
       "     'avatar': 'http://thirdwx.qlogo.cn/mmopen/nYYvURlqaQbHnbBmOZbUmnzNjcftYkORDG7icKaNnq9vKb7aqZV3VrF5zUNdXYVjGO1vbexcAibxN2ufowFJBp5jeKNdic941HS/132',\n",
       "     'nickname': '木易aka'},\n",
       "    'topic': 899016,\n",
       "    'classroom_id': 3966931,\n",
       "    'commented': 0,\n",
       "    'content': {'app_upload_images': [],\n",
       "     'text': '打卡',\n",
       "     'app_text': '打卡',\n",
       "     'upload_images': []},\n",
       "    'is_delete': 0,\n",
       "    'is_top': 0,\n",
       "    'create_time': 1594105187000,\n",
       "    'score_status': 0,\n",
       "    'is_self': 0,\n",
       "    'is_praise': 0,\n",
       "    'score': 0,\n",
       "    'id': 13272889}],\n",
       "  'next': 'http://internal-xuetang-internal-1320283413.cn-north-1.elb.amazonaws.com.cn/forum/api/forum/v2/comments/?appid=NEW_MASTER_STATION&channel=xuetangx_student&is_essence=True&limit=10&offset=10&topic_id=899016&user_id=71853'},\n",
       " 'success': True}"
      ]
     },
     "execution_count": 77,
     "metadata": {},
     "output_type": "execute_result"
    }
   ],
   "source": [
    "# 从 json 文件 \"JSON_sample.json\" 读取数据，存入变量 data\n",
    "# rb 和 r 的区别：rb是为了读取二进制文件。编码和普通文件有区别。\n",
    "with open(\"L03_documents\\JSON_sample.json\", 'rb') as f:\n",
    "    data = json.load(f)\n",
    "print(type(data))\n",
    "data[\"0\"]"
   ]
  },
  {
   "cell_type": "markdown",
   "metadata": {},
   "source": [
    "### NumPy数组文件\n",
    "+ 这是二进制文件，不是文本文件\n",
    "+ NumPy用于储存数组数据的标准二进制文件类型叫做“.npy”文件。\n",
    "+ NumPy用以在单个文件中储存多个数组的二进制档案格式叫做“.npz”格式。"
   ]
  },
  {
   "cell_type": "code",
   "execution_count": 79,
   "metadata": {},
   "outputs": [],
   "source": [
    "import numpy as np"
   ]
  },
  {
   "cell_type": "code",
   "execution_count": 82,
   "metadata": {},
   "outputs": [],
   "source": [
    "x = np.array([1, 2, 3])\n",
    "path_to_np = root / 'L03_documents' / \"my_array.npy\"\n",
    "# 将NumPy数组存入硬盘\n",
    "np.save(path_to_np, x)"
   ]
  },
  {
   "cell_type": "code",
   "execution_count": 84,
   "metadata": {},
   "outputs": [
    {
     "data": {
      "text/plain": [
       "array([1, 2, 3])"
      ]
     },
     "execution_count": 84,
     "metadata": {},
     "output_type": "execute_result"
    }
   ],
   "source": [
    "# 从硬盘读取NumPy数组\n",
    "y = np.load(path_to_np)\n",
    "y"
   ]
  },
  {
   "cell_type": "code",
   "execution_count": 85,
   "metadata": {},
   "outputs": [],
   "source": [
    "# 将三个数组储存到NumPy档案文件中\n",
    "a0 = np.array([1, 2, 3])\n",
    "a1 = np.array([4, 5, 6])\n",
    "a2 = np.array([7, 8, 9])\n",
    "\n",
    "path_to_npz = root / 'L03_documents' / \"my_arrays.npz\"\n",
    "# 我们使用关键词参数 `soil`，`crust`，和 `bedrock` 来\n",
    "# 作为档案中对应数组的名字。\n",
    "np.savez(path_to_npz, soil=a0, crust=a1, bedrock=a2)"
   ]
  },
  {
   "cell_type": "code",
   "execution_count": 88,
   "metadata": {},
   "outputs": [
    {
     "data": {
      "text/plain": [
       "(array([1, 2, 3]), array([4, 5, 6]), array([7, 8, 9]))"
      ]
     },
     "execution_count": 88,
     "metadata": {},
     "output_type": "execute_result"
    }
   ],
   "source": [
    "# 打开档案并通过名字访问每个数组\n",
    "with np.load(path_to_npz) as my_archive_file:\n",
    "    out0 = my_archive_file[\"soil\"]\n",
    "    out1 = my_archive_file[\"crust\"]\n",
    "    out2 = my_archive_file[\"bedrock\"]\n",
    "out0, out1, out2"
   ]
  },
  {
   "cell_type": "markdown",
   "metadata": {},
   "source": [
    "# 图像\n",
    "+ matplotlib\n",
    "+ OpenCV"
   ]
  },
  {
   "cell_type": "code",
   "execution_count": 4,
   "metadata": {},
   "outputs": [
    {
     "name": "stdout",
     "output_type": "stream",
     "text": [
      "(1800, 1200, 3)\n"
     ]
    },
    {
     "data": {
      "image/png": "[encoded data removed]",
      "text/plain": [
       "<Figure size 432x288 with 1 Axes>"
      ]
     },
     "metadata": {
      "needs_background": "light"
     },
     "output_type": "display_data"
    }
   ],
   "source": [
    "import matplotlib.pyplot as plt\n",
    "path_to_boy = root / 'L03_documents' / \"boy.jpg\"\n",
    "img = plt.imread(path_to_boy)  \n",
    "plt.imshow(img)\n",
    "plt.axis('off')\n",
    "print(img.shape)"
   ]
  },
  {
   "cell_type": "code",
   "execution_count": 6,
   "metadata": {},
   "outputs": [
    {
     "data": {
      "text/plain": [
       "numpy.ndarray"
      ]
     },
     "execution_count": 6,
     "metadata": {},
     "output_type": "execute_result"
    }
   ],
   "source": [
    "type(img)"
   ]
  },
  {
   "cell_type": "code",
   "execution_count": 47,
   "metadata": {},
   "outputs": [
    {
     "data": {
      "text/plain": [
       "(-0.5, 1199.5, 1199.5, -0.5)"
      ]
     },
     "execution_count": 47,
     "metadata": {},
     "output_type": "execute_result"
    },
    {
     "data": {
      "image/png": "[encoded data removed]",
      "text/plain": [
       "<Figure size 432x432 with 1 Axes>"
      ]
     },
     "metadata": {
      "needs_background": "light"
     },
     "output_type": "display_data"
    }
   ],
   "source": [
    "import matplotlib.patches as patches\n",
    "fig,ax = plt.subplots()\n",
    "fig.set_size_inches(6,6)\n",
    "im = ax.imshow(img[0:1200,:])\n",
    "patch = patches.Circle((600, 600), radius = 600, transform = ax.transData)\n",
    "im.set_clip_path(patch)\n",
    "ax.axis('off')\n"
   ]
  },
  {
   "cell_type": "code",
   "execution_count": 51,
   "metadata": {},
   "outputs": [],
   "source": [
    "fig.savefig(\"boy.png\",dpi=300,bbox_inches=\"tight\")"
   ]
  },
  {
   "cell_type": "code",
   "execution_count": 7,
   "metadata": {},
   "outputs": [
    {
     "name": "stdout",
     "output_type": "stream",
     "text": [
      "(1800, 1200, 3)\n"
     ]
    }
   ],
   "source": [
    "import cv2 as cv\n",
    "\n",
    "img_cv = cv.imread(\"boy.jpg\", 1) \n",
    "print(img_cv.shape)"
   ]
  },
  {
   "cell_type": "code",
   "execution_count": 8,
   "metadata": {},
   "outputs": [
    {
     "data": {
      "text/plain": [
       "numpy.ndarray"
      ]
     },
     "execution_count": 8,
     "metadata": {},
     "output_type": "execute_result"
    }
   ],
   "source": [
    "type(img_cv)"
   ]
  },
  {
   "cell_type": "code",
   "execution_count": 27,
   "metadata": {},
   "outputs": [
    {
     "data": {
      "text/plain": [
       "-1"
      ]
     },
     "execution_count": 27,
     "metadata": {},
     "output_type": "execute_result"
    }
   ],
   "source": [
    "# 打开一个图片文件\n",
    "cv.imshow(\"boy\", img_cv)\n",
    "cv.waitKey(0)"
   ]
  },
  {
   "cell_type": "code",
   "execution_count": 52,
   "metadata": {},
   "outputs": [
    {
     "name": "stdout",
     "output_type": "stream",
     "text": [
      "(1418, 1419, 3)\n"
     ]
    }
   ],
   "source": [
    "img_boy = cv.imread(\"boy.png\") \n",
    "print(img_boy.shape)"
   ]
  },
  {
   "cell_type": "code",
   "execution_count": 34,
   "metadata": {},
   "outputs": [
    {
     "data": {
      "text/plain": [
       "-1"
      ]
     },
     "execution_count": 34,
     "metadata": {},
     "output_type": "execute_result"
    }
   ],
   "source": [
    "cv.imshow(\"boy\", img_boy)\n",
    "cv.waitKey(0)"
   ]
  },
  {
   "cell_type": "code",
   "execution_count": null,
   "metadata": {},
   "outputs": [],
   "source": []
  }
 ],
 "metadata": {
  "kernelspec": {
   "display_name": "Python 3",
   "language": "python",
   "name": "python3"
  },
  "language_info": {
   "codemirror_mode": {
    "name": "ipython",
    "version": 3
   },
   "file_extension": ".py",
   "mimetype": "text/x-python",
   "name": "python",
   "nbconvert_exporter": "python",
   "pygments_lexer": "ipython3",
   "version": "3.9.0"
  }
 },
 "nbformat": 4,
 "nbformat_minor": 4
}
