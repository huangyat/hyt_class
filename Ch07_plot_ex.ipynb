{
 "cells": [
  {
   "cell_type": "markdown",
   "metadata": {},
   "source": [
    "<font face=\"微软雅黑\" size=5 color=#A52A2A > Lesson 7 折线图"
   ]
  },
  {
   "cell_type": "code",
   "execution_count": 1,
   "metadata": {},
   "outputs": [],
   "source": [
    "## 画图必备\n",
    "import numpy as np\n",
    "import matplotlib.pyplot as plt\n",
    "import pandas as pd"
   ]
  },
  {
   "cell_type": "markdown",
   "metadata": {},
   "source": [
    "### 练习：读取数据文件"
   ]
  },
  {
   "cell_type": "code",
   "execution_count": 2,
   "metadata": {},
   "outputs": [],
   "source": [
    "center = pd.read_csv(\"./documents/center1.csv\")\n",
    "#center"
   ]
  },
  {
   "cell_type": "markdown",
   "metadata": {},
   "source": [
    "### 知识：pandas列命名"
   ]
  },
  {
   "cell_type": "code",
   "execution_count": 4,
   "metadata": {},
   "outputs": [
    {
     "data": {
      "text/html": [
       "<div>\n",
       "<style scoped>\n",
       "    .dataframe tbody tr th:only-of-type {\n",
       "        vertical-align: middle;\n",
       "    }\n",
       "\n",
       "    .dataframe tbody tr th {\n",
       "        vertical-align: top;\n",
       "    }\n",
       "\n",
       "    .dataframe thead th {\n",
       "        text-align: right;\n",
       "    }\n",
       "</style>\n",
       "<table border=\"1\" class=\"dataframe\">\n",
       "  <thead>\n",
       "    <tr style=\"text-align: right;\">\n",
       "      <th></th>\n",
       "      <th>Time</th>\n",
       "      <th>Al2O3</th>\n",
       "      <th>SiO2</th>\n",
       "      <th>ZnO</th>\n",
       "      <th>TiO2</th>\n",
       "    </tr>\n",
       "  </thead>\n",
       "  <tbody>\n",
       "    <tr>\n",
       "      <th>0</th>\n",
       "      <td>0</td>\n",
       "      <td>15</td>\n",
       "      <td>15</td>\n",
       "      <td>15</td>\n",
       "      <td>15</td>\n",
       "    </tr>\n",
       "    <tr>\n",
       "      <th>1</th>\n",
       "      <td>5</td>\n",
       "      <td>120</td>\n",
       "      <td>139</td>\n",
       "      <td>115</td>\n",
       "      <td>75</td>\n",
       "    </tr>\n",
       "    <tr>\n",
       "      <th>2</th>\n",
       "      <td>10</td>\n",
       "      <td>175</td>\n",
       "      <td>202</td>\n",
       "      <td>178</td>\n",
       "      <td>100</td>\n",
       "    </tr>\n",
       "    <tr>\n",
       "      <th>3</th>\n",
       "      <td>15</td>\n",
       "      <td>190</td>\n",
       "      <td>234</td>\n",
       "      <td>206</td>\n",
       "      <td>124</td>\n",
       "    </tr>\n",
       "    <tr>\n",
       "      <th>4</th>\n",
       "      <td>20</td>\n",
       "      <td>195</td>\n",
       "      <td>245</td>\n",
       "      <td>224</td>\n",
       "      <td>136</td>\n",
       "    </tr>\n",
       "    <tr>\n",
       "      <th>5</th>\n",
       "      <td>25</td>\n",
       "      <td>199</td>\n",
       "      <td>253</td>\n",
       "      <td>242</td>\n",
       "      <td>142</td>\n",
       "    </tr>\n",
       "    <tr>\n",
       "      <th>6</th>\n",
       "      <td>30</td>\n",
       "      <td>203</td>\n",
       "      <td>253</td>\n",
       "      <td>248</td>\n",
       "      <td>146</td>\n",
       "    </tr>\n",
       "    <tr>\n",
       "      <th>7</th>\n",
       "      <td>35</td>\n",
       "      <td>212</td>\n",
       "      <td>250</td>\n",
       "      <td>247</td>\n",
       "      <td>147</td>\n",
       "    </tr>\n",
       "    <tr>\n",
       "      <th>8</th>\n",
       "      <td>40</td>\n",
       "      <td>213</td>\n",
       "      <td>241</td>\n",
       "      <td>247</td>\n",
       "      <td>147</td>\n",
       "    </tr>\n",
       "    <tr>\n",
       "      <th>9</th>\n",
       "      <td>45</td>\n",
       "      <td>244</td>\n",
       "      <td>253</td>\n",
       "      <td>247</td>\n",
       "      <td>148</td>\n",
       "    </tr>\n",
       "    <tr>\n",
       "      <th>10</th>\n",
       "      <td>50</td>\n",
       "      <td>246</td>\n",
       "      <td>252</td>\n",
       "      <td>248</td>\n",
       "      <td>148</td>\n",
       "    </tr>\n",
       "    <tr>\n",
       "      <th>11</th>\n",
       "      <td>55</td>\n",
       "      <td>247</td>\n",
       "      <td>253</td>\n",
       "      <td>247</td>\n",
       "      <td>148</td>\n",
       "    </tr>\n",
       "    <tr>\n",
       "      <th>12</th>\n",
       "      <td>60</td>\n",
       "      <td>248</td>\n",
       "      <td>253</td>\n",
       "      <td>247</td>\n",
       "      <td>148</td>\n",
       "    </tr>\n",
       "    <tr>\n",
       "      <th>13</th>\n",
       "      <td>65</td>\n",
       "      <td>246</td>\n",
       "      <td>276</td>\n",
       "      <td>243</td>\n",
       "      <td>148</td>\n",
       "    </tr>\n",
       "    <tr>\n",
       "      <th>14</th>\n",
       "      <td>70</td>\n",
       "      <td>246</td>\n",
       "      <td>276</td>\n",
       "      <td>245</td>\n",
       "      <td>148</td>\n",
       "    </tr>\n",
       "    <tr>\n",
       "      <th>15</th>\n",
       "      <td>75</td>\n",
       "      <td>247</td>\n",
       "      <td>275</td>\n",
       "      <td>244</td>\n",
       "      <td>145</td>\n",
       "    </tr>\n",
       "    <tr>\n",
       "      <th>16</th>\n",
       "      <td>80</td>\n",
       "      <td>249</td>\n",
       "      <td>273</td>\n",
       "      <td>246</td>\n",
       "      <td>143</td>\n",
       "    </tr>\n",
       "    <tr>\n",
       "      <th>17</th>\n",
       "      <td>85</td>\n",
       "      <td>275</td>\n",
       "      <td>272</td>\n",
       "      <td>248</td>\n",
       "      <td>140</td>\n",
       "    </tr>\n",
       "    <tr>\n",
       "      <th>18</th>\n",
       "      <td>90</td>\n",
       "      <td>287</td>\n",
       "      <td>272</td>\n",
       "      <td>249</td>\n",
       "      <td>139</td>\n",
       "    </tr>\n",
       "    <tr>\n",
       "      <th>19</th>\n",
       "      <td>95</td>\n",
       "      <td>316</td>\n",
       "      <td>272</td>\n",
       "      <td>248</td>\n",
       "      <td>138</td>\n",
       "    </tr>\n",
       "    <tr>\n",
       "      <th>20</th>\n",
       "      <td>100</td>\n",
       "      <td>327</td>\n",
       "      <td>270</td>\n",
       "      <td>247</td>\n",
       "      <td>135</td>\n",
       "    </tr>\n",
       "    <tr>\n",
       "      <th>21</th>\n",
       "      <td>105</td>\n",
       "      <td>335</td>\n",
       "      <td>270</td>\n",
       "      <td>248</td>\n",
       "      <td>130</td>\n",
       "    </tr>\n",
       "    <tr>\n",
       "      <th>22</th>\n",
       "      <td>110</td>\n",
       "      <td>338</td>\n",
       "      <td>269</td>\n",
       "      <td>249</td>\n",
       "      <td>125</td>\n",
       "    </tr>\n",
       "    <tr>\n",
       "      <th>23</th>\n",
       "      <td>115</td>\n",
       "      <td>340</td>\n",
       "      <td>270</td>\n",
       "      <td>251</td>\n",
       "      <td>123</td>\n",
       "    </tr>\n",
       "    <tr>\n",
       "      <th>24</th>\n",
       "      <td>120</td>\n",
       "      <td>342</td>\n",
       "      <td>272</td>\n",
       "      <td>250</td>\n",
       "      <td>120</td>\n",
       "    </tr>\n",
       "    <tr>\n",
       "      <th>25</th>\n",
       "      <td>125</td>\n",
       "      <td>345</td>\n",
       "      <td>270</td>\n",
       "      <td>252</td>\n",
       "      <td>120</td>\n",
       "    </tr>\n",
       "  </tbody>\n",
       "</table>\n",
       "</div>"
      ],
      "text/plain": [
       "    Time  Al2O3  SiO2  ZnO  TiO2\n",
       "0      0     15    15   15    15\n",
       "1      5    120   139  115    75\n",
       "2     10    175   202  178   100\n",
       "3     15    190   234  206   124\n",
       "4     20    195   245  224   136\n",
       "5     25    199   253  242   142\n",
       "6     30    203   253  248   146\n",
       "7     35    212   250  247   147\n",
       "8     40    213   241  247   147\n",
       "9     45    244   253  247   148\n",
       "10    50    246   252  248   148\n",
       "11    55    247   253  247   148\n",
       "12    60    248   253  247   148\n",
       "13    65    246   276  243   148\n",
       "14    70    246   276  245   148\n",
       "15    75    247   275  244   145\n",
       "16    80    249   273  246   143\n",
       "17    85    275   272  248   140\n",
       "18    90    287   272  249   139\n",
       "19    95    316   272  248   138\n",
       "20   100    327   270  247   135\n",
       "21   105    335   270  248   130\n",
       "22   110    338   269  249   125\n",
       "23   115    340   270  251   123\n",
       "24   120    342   272  250   120\n",
       "25   125    345   270  252   120"
      ]
     },
     "execution_count": 4,
     "metadata": {},
     "output_type": "execute_result"
    }
   ],
   "source": [
    "center.rename(columns = {'Unnamed: 0':'Time'}, inplace=True)\n",
    "center"
   ]
  },
  {
   "cell_type": "markdown",
   "metadata": {},
   "source": [
    "### 练习：pandas索引"
   ]
  },
  {
   "cell_type": "code",
   "execution_count": 16,
   "metadata": {},
   "outputs": [],
   "source": [
    "t = center['Time']\n",
    "Al = center['Al2O3']\n",
    "Si = center['SiO2']"
   ]
  },
  {
   "cell_type": "markdown",
   "metadata": {},
   "source": [
    "### 练习\n",
    "+ 新建画布\n",
    "+ 画布尺寸设置\n",
    "+ x和y轴命名\n",
    "+ 坐标参数设置\n",
    "+ 坐标范围限定\n",
    "+ 输出第一条曲线\n",
    "+ 输出第二条曲线"
   ]
  },
  {
   "cell_type": "code",
   "execution_count": 26,
   "metadata": {},
   "outputs": [
    {
     "data": {
      "text/plain": [
       "<matplotlib.legend.Legend at 0x1654f7750a0>"
      ]
     },
     "execution_count": 26,
     "metadata": {},
     "output_type": "execute_result"
    },
    {
     "data": {
      "image/png": "[encoded data removed]",
      "text/plain": [
       "<Figure size 396x252 with 1 Axes>"
      ]
     },
     "metadata": {
      "needs_background": "light"
     },
     "output_type": "display_data"
    }
   ],
   "source": [
    "fig, ax = plt.subplots(figsize=(5.5, 3.5))\n",
    "ax.set_xlabel(\"Time/min\", fontsize = 10)\n",
    "ax.set_ylabel(\"Temperature/ $^o$C\", fontsize = 10)\n",
    "ax.set_ylim(0, 400)\n",
    "ax.set_xlim(0, 120)\n",
    "ax.tick_params('both', direction='in', labelsize=10)\n",
    "ax.plot(t, Al, color=\"b\", marker=\"o\", linestyle=\"--\", label='Al$_2$O$_3$',\n",
    "       fillstyle=\"left\", markerfacecolor='b', markerfacecoloralt='gold') \n",
    "ax.plot(t, Si, label='SiO$_2$')\n",
    "ax.legend(loc='best', frameon=False)"
   ]
  },
  {
   "cell_type": "code",
   "execution_count": 8,
   "metadata": {
    "collapsed": true,
    "jupyter": {
     "outputs_hidden": true,
     "source_hidden": true
    }
   },
   "outputs": [
    {
     "data": {
      "text/plain": [
       "[<matplotlib.lines.Line2D at 0x1654f14aa90>]"
      ]
     },
     "execution_count": 8,
     "metadata": {},
     "output_type": "execute_result"
    },
    {
     "data": {
      "image/png": "[encoded data removed]",
      "text/plain": [
       "<Figure size 432x288 with 1 Axes>"
      ]
     },
     "metadata": {
      "needs_background": "light"
     },
     "output_type": "display_data"
    }
   ],
   "source": [
    "fig, ax = plt.subplots()  # 请继续完成设置\n",
    "ax.set_xlabel(\"Time/min\", fontsize = 10)\n",
    "ax.set_ylabel(\"Temperature/ $^o$C\", fontsize = 10)\n",
    "ax.set_ylim(0, 400)\n",
    "ax.set_xlim(0, 120)\n",
    "ax.tick_params('both', direction='in', labelsize=10)\n",
    "ax.plot(t, Al,            \n",
    "         color=\"b\", marker=\"o\", markersize=8,\n",
    "         fillstyle=\"left\", markerfacecolor='b', markerfacecoloralt='white',\n",
    "         linestyle=\"--\",label='Al$_2$O$_3$')\n",
    "# ax.plot(t, Si, \n",
    "#         label=       )\n",
    "# ax.legend(loc='best', frameon=False)"
   ]
  },
  {
   "cell_type": "markdown",
   "metadata": {},
   "source": [
    "### 小知识：利用字典（dict）传递参数"
   ]
  },
  {
   "cell_type": "code",
   "execution_count": 27,
   "metadata": {},
   "outputs": [
    {
     "data": {
      "text/plain": [
       "{'marker': 'o',\n",
       " 'linestyle': '--',\n",
       " 'markersize': 8,\n",
       " 'color': 'b',\n",
       " 'markerfacecolor': 'b',\n",
       " 'markerfacecoloralt': 'white',\n",
       " 'markeredgecolor': 'b'}"
      ]
     },
     "execution_count": 27,
     "metadata": {},
     "output_type": "execute_result"
    }
   ],
   "source": [
    "filled_marker_style = dict(marker='o', linestyle='--', markersize=8,\n",
    "                           color='b',\n",
    "                           markerfacecolor='b',\n",
    "                           markerfacecoloralt='white',\n",
    "                           markeredgecolor='b')\n",
    "filled_marker_style\n"
   ]
  },
  {
   "cell_type": "code",
   "execution_count": 28,
   "metadata": {},
   "outputs": [
    {
     "data": {
      "text/plain": [
       "<matplotlib.legend.Legend at 0x1654f807f40>"
      ]
     },
     "execution_count": 28,
     "metadata": {},
     "output_type": "execute_result"
    },
    {
     "data": {
      "image/png": "[encoded data removed]",
      "text/plain": [
       "<Figure size 396x252 with 1 Axes>"
      ]
     },
     "metadata": {
      "needs_background": "light"
     },
     "output_type": "display_data"
    }
   ],
   "source": [
    "fig, ax = plt.subplots(1, 1, figsize=(5.5, 3.5))\n",
    "ax.set_xlabel(\"Time/min\", fontsize = 10)\n",
    "ax.set_ylabel(\"Temperature/ $^o$C\", fontsize = 10)\n",
    "ax.tick_params('both', direction='in', labelsize=10)\n",
    "ax.set_ylim(0, 400)\n",
    "ax.plot(t, Al, fillstyle=\"left\", label='Al$_2$O$_3$',\n",
    "        **filled_marker_style)\n",
    "ax.plot(t, Si, label='SiO$_2$')\n",
    "ax.legend(loc='best', frameon=False)"
   ]
  },
  {
   "cell_type": "markdown",
   "metadata": {},
   "source": [
    "### 小知识：读取pandas Dataframe的列名"
   ]
  },
  {
   "cell_type": "code",
   "execution_count": 31,
   "metadata": {},
   "outputs": [
    {
     "data": {
      "text/plain": [
       "Index(['Al2O3', 'SiO2', 'ZnO', 'TiO2'], dtype='object')"
      ]
     },
     "execution_count": 31,
     "metadata": {},
     "output_type": "execute_result"
    }
   ],
   "source": [
    "labels = center.columns[1:]\n",
    "labels"
   ]
  },
  {
   "cell_type": "markdown",
   "metadata": {},
   "source": [
    "### 小练习：写个for循环看看labels的内容"
   ]
  },
  {
   "cell_type": "code",
   "execution_count": 63,
   "metadata": {},
   "outputs": [
    {
     "name": "stdout",
     "output_type": "stream",
     "text": [
      "Al2O3\n",
      "SiO2\n",
      "ZnO\n",
      "TiO2\n"
     ]
    }
   ],
   "source": [
    "for i in labels:\n",
    "    print(i)"
   ]
  },
  {
   "cell_type": "markdown",
   "metadata": {},
   "source": [
    "### 小练习：用for循环输出四条曲线"
   ]
  },
  {
   "cell_type": "code",
   "execution_count": 36,
   "metadata": {},
   "outputs": [
    {
     "name": "stdout",
     "output_type": "stream",
     "text": [
      "Al2O3\n",
      "SiO2\n",
      "ZnO\n",
      "TiO2\n"
     ]
    },
    {
     "data": {
      "text/plain": [
       "<matplotlib.legend.Legend at 0x1654fa82a60>"
      ]
     },
     "execution_count": 36,
     "metadata": {},
     "output_type": "execute_result"
    },
    {
     "data": {
      "image/png": "[encoded data removed]",
      "text/plain": [
       "<Figure size 396x252 with 1 Axes>"
      ]
     },
     "metadata": {
      "needs_background": "light"
     },
     "output_type": "display_data"
    }
   ],
   "source": [
    "fig, ax = plt.subplots(1, 1, figsize=(5.5, 3.5))\n",
    "ax.set_xlabel(\"Time/min\", fontsize = 10)\n",
    "ax.set_ylabel(\"Temperature/ $^o$C\", fontsize = 10)\n",
    "ax.tick_params('both', direction='in', labelsize=10)\n",
    "ax.set_ylim(0, 400)\n",
    "for i in labels:\n",
    "    print(i)\n",
    "    ax.plot(t, center[i], **fixed_style, label=i)\n",
    "ax.legend(loc='best', frameon=False)"
   ]
  },
  {
   "cell_type": "markdown",
   "metadata": {},
   "source": [
    "### 小知识：enumerate() 函数用于生成索引序列，同时列出数据和数据下标。"
   ]
  },
  {
   "cell_type": "code",
   "execution_count": 37,
   "metadata": {},
   "outputs": [
    {
     "name": "stdout",
     "output_type": "stream",
     "text": [
      "0 Al2O3\n",
      "1 SiO2\n",
      "2 ZnO\n",
      "3 TiO2\n"
     ]
    }
   ],
   "source": [
    "for i, ele in enumerate(labels):\n",
    "    print (i, ele)"
   ]
  },
  {
   "cell_type": "code",
   "execution_count": 41,
   "metadata": {},
   "outputs": [
    {
     "name": "stdout",
     "output_type": "stream",
     "text": [
      "0\n",
      "1\n",
      "2\n",
      "3\n"
     ]
    },
    {
     "data": {
      "text/plain": [
       "<matplotlib.legend.Legend at 0x1654f68d2e0>"
      ]
     },
     "execution_count": 41,
     "metadata": {},
     "output_type": "execute_result"
    },
    {
     "data": {
      "image/png": "[encoded data removed]",
      "text/plain": [
       "<Figure size 396x252 with 1 Axes>"
      ]
     },
     "metadata": {
      "needs_background": "light"
     },
     "output_type": "display_data"
    }
   ],
   "source": [
    "fig, ax = plt.subplots(1, 1, figsize=(5.5, 3.5))\n",
    "ax.set_xlabel(\"Time/min\", fontsize = 10)\n",
    "ax.set_ylabel(\"Temperature/ $^o$C\", fontsize = 10)\n",
    "ax.tick_params('both', direction='in', labelsize=10)\n",
    "ax.set_ylim(0, 400)\n",
    "for i, ele in enumerate(labels):\n",
    "    print(i)\n",
    "    ax.plot(t, center[ele], color=c[i], marker=filled_markers[i], linestyle=line_styles[i], label=nice_labels[i],\n",
    "       fillstyle=fillStyles[i], markerfacecolor=c[i],**fixed_style)\n",
    "ax.legend(loc='best', ncol=2, frameon=False)"
   ]
  },
  {
   "cell_type": "markdown",
   "metadata": {},
   "source": [
    "### 小练习：定义字典，赋值给fixed_style\n",
    "+ marker的尺寸：markersize\n",
    "+ 线宽：linewidth\n",
    "+ 双色marker的背景色markerfacecoloralt"
   ]
  },
  {
   "cell_type": "code",
   "execution_count": 39,
   "metadata": {},
   "outputs": [],
   "source": [
    "fixed_style = dict(markersize=8,\n",
    "                   linewidth=2,\n",
    "                   markerfacecoloralt='white')\n",
    "fillStyles = ['full', 'left', 'top', 'none']\n",
    "filled_markers = ['o', '^', 's', 'd']\n",
    "line_styles = ['-', '--', '-.', ':']\n",
    "c = ['tab:blue', 'orange', 'tab:green', 'red']\n",
    "nice_labels = ['Al$_2$O$_3$', 'SiO$_2$', 'ZnO', 'TiO$_2$']"
   ]
  },
  {
   "cell_type": "code",
   "execution_count": 43,
   "metadata": {},
   "outputs": [
    {
     "data": {
      "text/plain": [
       "{'markersize': 8, 'linewidth': 2, 'markerfacecoloralt': 'white'}"
      ]
     },
     "execution_count": 43,
     "metadata": {},
     "output_type": "execute_result"
    }
   ],
   "source": [
    "\n",
    "fixed_style = {'markersize': 8, 'linewidth': 2, 'markerfacecoloralt': 'white'}\n",
    "fixed_style"
   ]
  },
  {
   "cell_type": "code",
   "execution_count": 115,
   "metadata": {},
   "outputs": [],
   "source": [
    "\n",
    "dict_style = {\n",
    "    0: {'marker': 'o',\n",
    "        'linestyle': '--',\n",
    "        'color': 'b',\n",
    "        'fillstyle': 'left',\n",
    "        'markerfacecolor': 'b',\n",
    "        'markeredgecolor': 'b'},\n",
    "    1: {'marker': '^',\n",
    "        'linestyle': '-',\n",
    "        'color': 'r',\n",
    "        'fillstyle': 'full',\n",
    "        'markerfacecolor': 'r',\n",
    "        'markeredgecolor': 'r'},\n",
    "    2: {'marker': '^',\n",
    "        'linestyle': '-',\n",
    "        'color': 'r',\n",
    "        'fillstyle': 'none',\n",
    "        'markerfacecolor': 'r',\n",
    "        'markeredgecolor': 'r'},\n",
    "    3: {'marker': '^',\n",
    "        'linestyle': '-',\n",
    "        'color': 'r',\n",
    "        'fillstyle': 'top',\n",
    "        'markerfacecolor': 'r',\n",
    "        'markeredgecolor': 'r'}\n",
    "}\n",
    "\n"
   ]
  },
  {
   "cell_type": "markdown",
   "metadata": {},
   "source": [
    "### 思考和扩展：有没有更优雅的方式呢？\n",
    "+ zip的用法\n",
    "+ map的用法"
   ]
  },
  {
   "cell_type": "code",
   "execution_count": 47,
   "metadata": {},
   "outputs": [
    {
     "data": {
      "text/plain": [
       "[{'marker': 'o',\n",
       "  'linestyle': '-',\n",
       "  'color': 'tab:blue',\n",
       "  'fillstyle': 'full',\n",
       "  'markerfacecolor': 'tab:blue',\n",
       "  'markeredgecolor': 'tab:blue'},\n",
       " {'marker': '^',\n",
       "  'linestyle': '--',\n",
       "  'color': 'orange',\n",
       "  'fillstyle': 'left',\n",
       "  'markerfacecolor': 'orange',\n",
       "  'markeredgecolor': 'orange'},\n",
       " {'marker': 's',\n",
       "  'linestyle': '-.',\n",
       "  'color': 'tab:green',\n",
       "  'fillstyle': 'top',\n",
       "  'markerfacecolor': 'tab:green',\n",
       "  'markeredgecolor': 'tab:green'},\n",
       " {'marker': 'd',\n",
       "  'linestyle': ':',\n",
       "  'color': 'red',\n",
       "  'fillstyle': 'none',\n",
       "  'markerfacecolor': 'red',\n",
       "  'markeredgecolor': 'red'}]"
      ]
     },
     "execution_count": 47,
     "metadata": {},
     "output_type": "execute_result"
    }
   ],
   "source": [
    "stylelist = np.array([filled_markers, line_styles, c, fillStyles, c, c] ).T\n",
    "stylekey = ['marker', 'linestyle', 'color', 'fillstyle', 'markerfacecolor', 'markeredgecolor']\n",
    "dict1 = dict(zip(stylekey, stylelist[0]))\n",
    "stylelist = list(map(lambda x: dict(zip(stylekey, x)), stylelist))\n",
    "stylelist"
   ]
  },
  {
   "cell_type": "code",
   "execution_count": 48,
   "metadata": {},
   "outputs": [
    {
     "data": {
      "text/plain": [
       "{0: {'marker': 'o',\n",
       "  'linestyle': '-',\n",
       "  'color': 'tab:blue',\n",
       "  'fillstyle': 'full',\n",
       "  'markerfacecolor': 'tab:blue',\n",
       "  'markeredgecolor': 'tab:blue'},\n",
       " 1: {'marker': '^',\n",
       "  'linestyle': '--',\n",
       "  'color': 'orange',\n",
       "  'fillstyle': 'left',\n",
       "  'markerfacecolor': 'orange',\n",
       "  'markeredgecolor': 'orange'},\n",
       " 2: {'marker': 's',\n",
       "  'linestyle': '-.',\n",
       "  'color': 'tab:green',\n",
       "  'fillstyle': 'top',\n",
       "  'markerfacecolor': 'tab:green',\n",
       "  'markeredgecolor': 'tab:green'},\n",
       " 3: {'marker': 'd',\n",
       "  'linestyle': ':',\n",
       "  'color': 'red',\n",
       "  'fillstyle': 'none',\n",
       "  'markerfacecolor': 'red',\n",
       "  'markeredgecolor': 'red'}}"
      ]
     },
     "execution_count": 48,
     "metadata": {},
     "output_type": "execute_result"
    }
   ],
   "source": [
    "stylelist = np.array([filled_markers, line_styles, c, fillStyles, c, c] ).T\n",
    "stylekey = ['marker', 'linestyle', 'color', 'fillstyle', 'markerfacecolor', 'markeredgecolor']\n",
    "dict1 = dict(zip(stylekey, stylelist[0]))\n",
    "stylelist = list(map(lambda x: dict(zip(stylekey, x)), stylelist))\n",
    "style_dict = dict(zip(range(4), stylelist))\n",
    "style_dict"
   ]
  },
  {
   "cell_type": "markdown",
   "metadata": {},
   "source": [
    "### 小知识：json文件"
   ]
  },
  {
   "cell_type": "code",
   "execution_count": 49,
   "metadata": {},
   "outputs": [],
   "source": [
    "import json\n",
    "f = open(\"./documents/my_styles.json\", \"w\")\n",
    "json.dump(style_dict, f)  # 把字典对象写入文件流f\n",
    "f.close()"
   ]
  },
  {
   "cell_type": "code",
   "execution_count": 50,
   "metadata": {},
   "outputs": [
    {
     "data": {
      "text/plain": [
       "{'0': {'marker': 'o',\n",
       "  'linestyle': '-',\n",
       "  'color': 'tab:blue',\n",
       "  'fillstyle': 'full',\n",
       "  'markerfacecolor': 'tab:blue',\n",
       "  'markeredgecolor': 'tab:blue'},\n",
       " '1': {'marker': '^',\n",
       "  'linestyle': '--',\n",
       "  'color': 'orange',\n",
       "  'fillstyle': 'left',\n",
       "  'markerfacecolor': 'orange',\n",
       "  'markeredgecolor': 'orange'},\n",
       " '2': {'marker': 's',\n",
       "  'linestyle': '-.',\n",
       "  'color': 'tab:green',\n",
       "  'fillstyle': 'top',\n",
       "  'markerfacecolor': 'tab:green',\n",
       "  'markeredgecolor': 'tab:green'},\n",
       " '3': {'marker': 'd',\n",
       "  'linestyle': ':',\n",
       "  'color': 'red',\n",
       "  'fillstyle': 'none',\n",
       "  'markerfacecolor': 'red',\n",
       "  'markeredgecolor': 'red'}}"
      ]
     },
     "execution_count": 50,
     "metadata": {},
     "output_type": "execute_result"
    }
   ],
   "source": [
    "with open(\"./documents/my_styles.json\", 'r') as f:\n",
    "    dict_style_r = json.load(f)\n",
    "\n",
    "dict_style_r "
   ]
  },
  {
   "cell_type": "code",
   "execution_count": 74,
   "metadata": {},
   "outputs": [
    {
     "data": {
      "text/plain": [
       "Text(88, 10, 'Steel')"
      ]
     },
     "execution_count": 74,
     "metadata": {},
     "output_type": "execute_result"
    },
    {
     "data": {
      "image/png": "[encoded data removed]",
      "text/plain": [
       "<Figure size 396x252 with 1 Axes>"
      ]
     },
     "metadata": {
      "needs_background": "light"
     },
     "output_type": "display_data"
    }
   ],
   "source": [
    "fig,(ax) = plt.subplots(1, 1, figsize=(5.5, 3.5))\n",
    "ax.set_xlabel(\"Time/min\", fontsize = 10)\n",
    "ax.set_ylabel(\"Temperature/ $^o$C\", fontsize = 10)\n",
    "ax.tick_params('both', direction='in', labelsize=10)\n",
    "ax.set_ylim(0, 400)\n",
    "for i,label in enumerate(labels):\n",
    "    ax.plot(t, center[label], \n",
    "        **style_dict[i], \n",
    "        **fixed_style, \n",
    "        label=nice_labels[i])\n",
    "\n",
    "ax.legend(loc='best', frameon=False, ncol=2, fontsize=10)\n",
    "ax.add_patch(\n",
    "    patches.Rectangle(\n",
    "        (100,15),   # (x,y)\n",
    "        20,          # width\n",
    "        95,          # height\n",
    "        facecolor = 'red',\n",
    "        fill = False,\n",
    "        linestyle = '-',\n",
    "        edgecolor = \"brown\"\n",
    "    )\n",
    ")\n",
    "xy = (110, 65)\n",
    "ax.plot(xy[0], xy[1], \"rx\")\n",
    "ax.annotate('Test point',\n",
    "             xy, xycoords='data',\n",
    "             xytext=(-25, 0), textcoords='offset points',\n",
    "             arrowprops=dict(arrowstyle=\"->\"),\n",
    "             horizontalalignment='right', verticalalignment='bottom')\n",
    "ax.text(88, 10, 'Steel', va='bottom')"
   ]
  },
  {
   "cell_type": "code",
   "execution_count": 76,
   "metadata": {},
   "outputs": [
    {
     "data": {
      "text/plain": [
       "<Figure size 432x288 with 0 Axes>"
      ]
     },
     "metadata": {},
     "output_type": "display_data"
    }
   ],
   "source": [
    "plt.savefig(\"./documents/temp.png\", dpi=600, bbox_inches=\"tight\")"
   ]
  },
  {
   "cell_type": "markdown",
   "metadata": {},
   "source": [
    "### 小挑战：\n",
    "+ 添加文字和图形标注\n",
    "+ 保存文件"
   ]
  },
  {
   "cell_type": "code",
   "execution_count": 53,
   "metadata": {},
   "outputs": [
    {
     "data": {
      "text/plain": [
       "(0.0, 400.0)"
      ]
     },
     "execution_count": 53,
     "metadata": {},
     "output_type": "execute_result"
    },
    {
     "data": {
      "image/png": "[encoded data removed]",
      "text/plain": [
       "<Figure size 396x252 with 1 Axes>"
      ]
     },
     "metadata": {
      "needs_background": "light"
     },
     "output_type": "display_data"
    }
   ],
   "source": [
    "import matplotlib.patches as patches\n",
    "\n",
    "fig,(ax) = plt.subplots(1, 1, figsize=(5.5, 3.5))\n",
    "ax.set_xlabel(\"Time/min\", fontsize = 10)\n",
    "ax.set_ylabel(\"Temperature/ $^o$C\", fontsize = 10)\n",
    "ax.tick_params('both', direction='in', labelsize=10)\n",
    "ax.set_ylim(0, 400)"
   ]
  },
  {
   "cell_type": "markdown",
   "metadata": {},
   "source": [
    "+ <font size=4 color=blue > 作业\n",
    "    + <font size=2 color=blue > 完成上课练习\n",
    "    + <font size=2 color=blue > 根据官网的例子自学scatter的用法，研究和尝试一下气泡图\n",
    "        + https://matplotlib.org/stable/gallery/lines_bars_and_markers/scatter_with_legend.html#sphx-glr-gallery-lines-bars-and-markers-scatter-with-legend-py\n",
    "        + https://matplotlib.org/stable/gallery/lines_bars_and_markers/scatter_demo2.html#sphx-glr-gallery-lines-bars-and-markers-scatter-demo2-py"
   ]
  },
  {
   "cell_type": "code",
   "execution_count": null,
   "metadata": {},
   "outputs": [],
   "source": []
  }
 ],
 "metadata": {
  "kernelspec": {
   "display_name": "Python 3",
   "language": "python",
   "name": "python3"
  },
  "language_info": {
   "codemirror_mode": {
    "name": "ipython",
    "version": 3
   },
   "file_extension": ".py",
   "mimetype": "text/x-python",
   "name": "python",
   "nbconvert_exporter": "python",
   "pygments_lexer": "ipython3",
   "version": "3.9.0"
  }
 },
 "nbformat": 4,
 "nbformat_minor": 4
}
