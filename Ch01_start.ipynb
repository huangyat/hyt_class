{
 "cells": [
  {
   "cell_type": "markdown",
   "metadata": {},
   "source": [
    "<font face=\"微软雅黑\" size=5 color=#A52A2A > Lesson 1 认识Python"
   ]
  },
  {
   "cell_type": "code",
   "execution_count": 1,
   "metadata": {},
   "outputs": [
    {
     "name": "stdout",
     "output_type": "stream",
     "text": [
      "hello\n"
     ]
    }
   ],
   "source": [
    "print (\"hello\") #python中单引号和双引号没有区别"
   ]
  },
  {
   "cell_type": "code",
   "execution_count": null,
   "metadata": {},
   "outputs": [],
   "source": []
  },
  {
   "cell_type": "code",
   "execution_count": 2,
   "metadata": {},
   "outputs": [
    {
     "name": "stdout",
     "output_type": "stream",
     "text": [
      "45\n"
     ]
    }
   ],
   "source": [
    "print(sum(range(10)))"
   ]
  },
  {
   "cell_type": "code",
   "execution_count": 3,
   "metadata": {},
   "outputs": [
    {
     "data": {
      "text/plain": [
       "45"
      ]
     },
     "execution_count": 3,
     "metadata": {},
     "output_type": "execute_result"
    }
   ],
   "source": [
    "a = 1 + 2 + 3 + 4 + 5 + 6 + 7 + 8 + 9\n",
    "a"
   ]
  },
  {
   "cell_type": "markdown",
   "metadata": {},
   "source": [
    "# 算数、变量和赋值"
   ]
  },
  {
   "cell_type": "markdown",
   "metadata": {},
   "source": [
    "- 变量用来存储数据，它的值可以改变。\n",
    "- 在程序中每一个变量都有一个变量名，用英文字母、数字和下划线表示。\n",
    "- 不能以数字开头"
   ]
  },
  {
   "cell_type": "code",
   "execution_count": 4,
   "metadata": {},
   "outputs": [
    {
     "data": {
      "text/plain": [
       "5"
      ]
     },
     "execution_count": 4,
     "metadata": {},
     "output_type": "execute_result"
    }
   ],
   "source": [
    "2 + 3"
   ]
  },
  {
   "cell_type": "code",
   "execution_count": 3,
   "metadata": {},
   "outputs": [],
   "source": [
    "x = 2 * (2 + 3) "
   ]
  },
  {
   "cell_type": "code",
   "execution_count": 4,
   "metadata": {},
   "outputs": [
    {
     "name": "stdout",
     "output_type": "stream",
     "text": [
      "10\n"
     ]
    }
   ],
   "source": [
    "print(x)"
   ]
  },
  {
   "cell_type": "markdown",
   "metadata": {},
   "source": [
    "**动态语言**的特点：\n",
    "- 不需事先声明变量的类型\n",
    "- 变量的类型可以改变"
   ]
  },
  {
   "cell_type": "code",
   "execution_count": 7,
   "metadata": {},
   "outputs": [
    {
     "name": "stdout",
     "output_type": "stream",
     "text": [
      "你好\n"
     ]
    }
   ],
   "source": [
    "x = '你好'\n",
    "print(x)"
   ]
  },
  {
   "cell_type": "code",
   "execution_count": 9,
   "metadata": {},
   "outputs": [
    {
     "name": "stdout",
     "output_type": "stream",
     "text": [
      "10\n"
     ]
    },
    {
     "data": {
      "text/plain": [
       "123"
      ]
     },
     "execution_count": 9,
     "metadata": {},
     "output_type": "execute_result"
    }
   ],
   "source": [
    "x = 10\n",
    "print(x)\n",
    "x**2 + 2*x + 3"
   ]
  },
  {
   "cell_type": "markdown",
   "metadata": {},
   "source": [
    "# 彩色代码块"
   ]
  },
  {
   "cell_type": "code",
   "execution_count": 10,
   "metadata": {},
   "outputs": [
    {
     "data": {
      "text/plain": [
       "10"
      ]
     },
     "execution_count": 10,
     "metadata": {},
     "output_type": "execute_result"
    }
   ],
   "source": [
    "# 演示基本的for循环\n",
    "cnt = 0\n",
    "for i in range(10):\n",
    "    cnt += 1\n",
    "\n",
    "# `cnt` 现在是10\n",
    "cnt"
   ]
  },
  {
   "cell_type": "markdown",
   "metadata": {},
   "source": [
    "# 你可能会看到下面这样的注释"
   ]
  },
  {
   "cell_type": "code",
   "execution_count": 10,
   "metadata": {},
   "outputs": [],
   "source": [
    "#!/usr/bin/env python3\n",
    "# -*- coding: utf-8 -*-"
   ]
  },
  {
   "cell_type": "markdown",
   "metadata": {},
   "source": [
    "第一行注释是为了告诉Linux/OS X系统，这是一个Python可执行程序，Windows系统会忽略这个注释；\n",
    "\n",
    "第二行注释是为了告诉Python解释器，按照UTF-8编码读取源代码，否则，你在源代码中写的中文输出可能会有乱码。"
   ]
  },
  {
   "cell_type": "markdown",
   "metadata": {},
   "source": [
    "# 基础数据类型"
   ]
  },
  {
   "cell_type": "markdown",
   "metadata": {},
   "source": [
    "整数、小数、字符串、布尔值"
   ]
  },
  {
   "cell_type": "code",
   "execution_count": 11,
   "metadata": {},
   "outputs": [
    {
     "name": "stdout",
     "output_type": "stream",
     "text": [
      "<class 'int'>\n",
      "<class 'float'>\n",
      "<class 'complex'>\n",
      "<class 'str'>\n",
      "<class 'bool'>\n"
     ]
    }
   ],
   "source": [
    "\n",
    "\"\"\"\n",
    "使用内置的type函数查看数据类型\n",
    "\"\"\"\n",
    "\n",
    "print(type(1))\n",
    "print(type(1.0) )\n",
    "#complex(1-2j)\n",
    "print(type(complex(1-2j)) ) #复数\n",
    "print(type('a'))\n",
    "print(type(True) )#布尔型 true false\n"
   ]
  },
  {
   "cell_type": "markdown",
   "metadata": {},
   "source": [
    "# 通过 >>> 演示输入和输出的不同格式"
   ]
  },
  {
   "cell_type": "code",
   "execution_count": 12,
   "metadata": {},
   "outputs": [
    {
     "data": {
      "text/plain": [
       "3"
      ]
     },
     "execution_count": 12,
     "metadata": {},
     "output_type": "execute_result"
    }
   ],
   "source": [
    ">>> x = 1\n",
    ">>> x + 2\n",
    "# x + 3"
   ]
  },
  {
   "cell_type": "markdown",
   "metadata": {},
   "source": [
    "# 定义函数"
   ]
  },
  {
   "cell_type": "code",
   "execution_count": 11,
   "metadata": {},
   "outputs": [],
   "source": [
    "# 定义一个范例函数\n",
    "def my_func(x):\n",
    "    \n",
    "    return x**2"
   ]
  },
  {
   "cell_type": "code",
   "execution_count": 12,
   "metadata": {},
   "outputs": [
    {
     "data": {
      "text/plain": [
       "100.0"
      ]
     },
     "execution_count": 12,
     "metadata": {},
     "output_type": "execute_result"
    }
   ],
   "source": [
    "# 演示 `my_func`\n",
    "my_func(10.)"
   ]
  },
  {
   "cell_type": "markdown",
   "metadata": {},
   "source": [
    "# 面对错误"
   ]
  },
  {
   "cell_type": "code",
   "execution_count": 13,
   "metadata": {},
   "outputs": [
    {
     "ename": "NameError",
     "evalue": "name 'sqrt' is not defined",
     "output_type": "error",
     "traceback": [
      "\u001b[1;31m---------------------------------------------------------------------------\u001b[0m",
      "\u001b[1;31mNameError\u001b[0m                                 Traceback (most recent call last)",
      "\u001b[1;32m<ipython-input-13-79301f9b64f1>\u001b[0m in \u001b[0;36m<module>\u001b[1;34m\u001b[0m\n\u001b[1;32m----> 1\u001b[1;33m \u001b[0msqrt\u001b[0m\u001b[1;33m(\u001b[0m\u001b[1;36m100\u001b[0m\u001b[1;33m)\u001b[0m\u001b[1;33m\u001b[0m\u001b[1;33m\u001b[0m\u001b[0m\n\u001b[0m",
      "\u001b[1;31mNameError\u001b[0m: name 'sqrt' is not defined"
     ]
    }
   ],
   "source": [
    "sqrt(100)"
   ]
  },
  {
   "cell_type": "code",
   "execution_count": 14,
   "metadata": {},
   "outputs": [
    {
     "data": {
      "text/plain": [
       "10.0"
      ]
     },
     "execution_count": 14,
     "metadata": {},
     "output_type": "execute_result"
    }
   ],
   "source": [
    "import math\n",
    "math.sqrt(100)"
   ]
  },
  {
   "cell_type": "code",
   "execution_count": 15,
   "metadata": {},
   "outputs": [
    {
     "data": {
      "text/plain": [
       "3.141592653589793"
      ]
     },
     "execution_count": 15,
     "metadata": {},
     "output_type": "execute_result"
    }
   ],
   "source": [
    "math.pi"
   ]
  },
  {
   "cell_type": "code",
   "execution_count": 19,
   "metadata": {},
   "outputs": [
    {
     "data": {
      "text/plain": [
       "'10.0'"
      ]
     },
     "execution_count": 19,
     "metadata": {},
     "output_type": "execute_result"
    }
   ],
   "source": [
    "str(10.0)"
   ]
  },
  {
   "cell_type": "markdown",
   "metadata": {},
   "source": [
    "#### 思考为什么是10.0 而不是 10"
   ]
  },
  {
   "cell_type": "markdown",
   "metadata": {},
   "source": [
    "# 字符串"
   ]
  },
  {
   "cell_type": "code",
   "execution_count": 18,
   "metadata": {},
   "outputs": [
    {
     "data": {
      "text/plain": [
       "'the cat in the hat'"
      ]
     },
     "execution_count": 18,
     "metadata": {},
     "output_type": "execute_result"
    }
   ],
   "source": [
    "\"the cat in the hat\""
   ]
  },
  {
   "cell_type": "code",
   "execution_count": 19,
   "metadata": {},
   "outputs": [
    {
     "data": {
      "text/plain": [
       "'the dog in the sash'"
      ]
     },
     "execution_count": 19,
     "metadata": {},
     "output_type": "execute_result"
    }
   ],
   "source": [
    "'the dog in the sash'"
   ]
  },
  {
   "cell_type": "code",
   "execution_count": 21,
   "metadata": {},
   "outputs": [
    {
     "data": {
      "text/plain": [
       "'He picked up the phone, Hello? What do you want? '"
      ]
     },
     "execution_count": 21,
     "metadata": {},
     "output_type": "execute_result"
    }
   ],
   "source": [
    "'He picked up the phone, ' 'Hello? What do you want?'' ' #注：单引号中可以把双引号当成字符输出"
   ]
  },
  {
   "cell_type": "code",
   "execution_count": 22,
   "metadata": {},
   "outputs": [
    {
     "name": "stdout",
     "output_type": "stream",
     "text": [
      "He picked up the phone, \n",
      "\"Hello? What do you want?\" \n"
     ]
    }
   ],
   "source": [
    "print('He picked up the phone, \\n\"Hello? What do you want?\" ') #输出回车"
   ]
  },
  {
   "cell_type": "markdown",
   "metadata": {},
   "source": [
    "更多转义字符\n",
    "https://docs.python.org/2.0/ref/strings.html"
   ]
  },
  {
   "cell_type": "code",
   "execution_count": 23,
   "metadata": {},
   "outputs": [
    {
     "data": {
      "text/plain": [
       "53"
      ]
     },
     "execution_count": 23,
     "metadata": {},
     "output_type": "execute_result"
    }
   ],
   "source": [
    "sentence = \"Who would have thought that we were robots all along?\"\n",
    "len(sentence) # 长度length"
   ]
  },
  {
   "cell_type": "markdown",
   "metadata": {},
   "source": [
    "- 切片 slice:查看sentence的前四个字符，最后六个字符，或者中间的字符。"
   ]
  },
  {
   "cell_type": "code",
   "execution_count": 23,
   "metadata": {},
   "outputs": [
    {
     "data": {
      "text/plain": [
       "'Who '"
      ]
     },
     "execution_count": 23,
     "metadata": {},
     "output_type": "execute_result"
    }
   ],
   "source": [
    "sentence[:4]"
   ]
  },
  {
   "cell_type": "code",
   "execution_count": 24,
   "metadata": {},
   "outputs": [
    {
     "data": {
      "text/plain": [
       "'along?'"
      ]
     },
     "execution_count": 24,
     "metadata": {},
     "output_type": "execute_result"
    }
   ],
   "source": [
    "sentence[-6:]"
   ]
  },
  {
   "cell_type": "code",
   "execution_count": 25,
   "metadata": {},
   "outputs": [
    {
     "data": {
      "text/plain": [
       "'ould have thought'"
      ]
     },
     "execution_count": 25,
     "metadata": {},
     "output_type": "execute_result"
    }
   ],
   "source": [
    "sentence[5:22]"
   ]
  },
  {
   "cell_type": "markdown",
   "metadata": {},
   "source": [
    "+ 查看是否我们的这个字符串是否包含其它的某个的字符串。"
   ]
  },
  {
   "cell_type": "code",
   "execution_count": 24,
   "metadata": {},
   "outputs": [
    {
     "data": {
      "text/plain": [
       "True"
      ]
     },
     "execution_count": 24,
     "metadata": {},
     "output_type": "execute_result"
    }
   ],
   "source": [
    "\"robot\" in sentence\n"
   ]
  },
  {
   "cell_type": "markdown",
   "metadata": {},
   "source": [
    "# 看看列表 list"
   ]
  },
  {
   "cell_type": "code",
   "execution_count": 27,
   "metadata": {},
   "outputs": [
    {
     "data": {
      "text/plain": [
       "[-1, 0.3333333333333333, 20, 6, 3000000000.0]"
      ]
     },
     "execution_count": 27,
     "metadata": {},
     "output_type": "execute_result"
    }
   ],
   "source": [
    "# 数字列表\n",
    "\n",
    "[-1, 1/3, 10*2, 7-1, 3e9]"
   ]
  },
  {
   "cell_type": "code",
   "execution_count": 28,
   "metadata": {},
   "outputs": [
    {
     "data": {
      "text/plain": [
       "[1, 2, 'a', 0.5, 'apple and orange', True, None]"
      ]
     },
     "execution_count": 28,
     "metadata": {},
     "output_type": "execute_result"
    }
   ],
   "source": [
    "[1, 2, \"a\", 0.5, \"apple and orange\", True, None]"
   ]
  },
  {
   "cell_type": "code",
   "execution_count": 29,
   "metadata": {},
   "outputs": [
    {
     "data": {
      "text/plain": [
       "['Alex', ['math', 'Chinese', 'English'], [90, 80, 20], 190]"
      ]
     },
     "execution_count": 29,
     "metadata": {},
     "output_type": "execute_result"
    }
   ],
   "source": [
    "L = ['Alex',\n",
    "     ['math','Chinese','English'],\n",
    "     [90,80,20],\n",
    "     190\n",
    "    ]\n",
    "L"
   ]
  },
  {
   "cell_type": "code",
   "execution_count": 30,
   "metadata": {},
   "outputs": [
    {
     "data": {
      "text/plain": [
       "4"
      ]
     },
     "execution_count": 30,
     "metadata": {},
     "output_type": "execute_result"
    }
   ],
   "source": [
    "len(L)"
   ]
  },
  {
   "cell_type": "code",
   "execution_count": 31,
   "metadata": {},
   "outputs": [
    {
     "data": {
      "text/plain": [
       "[1, 2, 3, 'a', 'b', 'c']"
      ]
     },
     "execution_count": 31,
     "metadata": {},
     "output_type": "execute_result"
    }
   ],
   "source": [
    "# 列表粘连（concatenate）\n",
    "\n",
    "[1, 2, 3] + [\"a\", \"b\", \"c\"]"
   ]
  },
  {
   "cell_type": "markdown",
   "metadata": {},
   "source": [
    "+ 列表本质上也是一个序列\n",
    "+ 序列第一个成员的索引（index）是 0 (MATLAB总是从1开始）\n",
    "+ 切片（slice）可存取其中的多个项目"
   ]
  },
  {
   "cell_type": "code",
   "execution_count": 32,
   "metadata": {},
   "outputs": [
    {
     "data": {
      "text/plain": [
       "60"
      ]
     },
     "execution_count": 32,
     "metadata": {},
     "output_type": "execute_result"
    }
   ],
   "source": [
    "# 列表索引 index\n",
    "my_list = [10, 20, 30, 40, 50, 60]\n",
    "# my_list[0]\n",
    "# my_list[1]\n",
    "my_list[-1]"
   ]
  },
  {
   "cell_type": "code",
   "execution_count": 33,
   "metadata": {},
   "outputs": [
    {
     "data": {
      "text/plain": [
       "False"
      ]
     },
     "execution_count": 33,
     "metadata": {},
     "output_type": "execute_result"
    }
   ],
   "source": [
    "# 看一下列表里是否存在 -5\n",
    "-5 in my_list"
   ]
  },
  {
   "cell_type": "code",
   "execution_count": 34,
   "metadata": {},
   "outputs": [
    {
     "data": {
      "text/plain": [
       "True"
      ]
     },
     "execution_count": 34,
     "metadata": {},
     "output_type": "execute_result"
    }
   ],
   "source": [
    "# 对列表中的项目赋值来修改列表的内容\n",
    "\n",
    "my_list[1] = -5\n",
    "-5 in my_list"
   ]
  },
  {
   "cell_type": "code",
   "execution_count": 35,
   "metadata": {},
   "outputs": [
    {
     "data": {
      "text/plain": [
       "[10, -5, 30, 40, 50, 60]"
      ]
     },
     "execution_count": 35,
     "metadata": {},
     "output_type": "execute_result"
    }
   ],
   "source": [
    "my_list"
   ]
  },
  {
   "cell_type": "code",
   "execution_count": 36,
   "metadata": {},
   "outputs": [
    {
     "data": {
      "text/plain": [
       "[10, -5, 30]"
      ]
     },
     "execution_count": 36,
     "metadata": {},
     "output_type": "execute_result"
    }
   ],
   "source": [
    "# 列表切片 slice\n",
    "my_list[:3]"
   ]
  },
  {
   "cell_type": "code",
   "execution_count": 37,
   "metadata": {},
   "outputs": [
    {
     "data": {
      "text/plain": [
       "['a', 'b', 'c', 40, 50, 60]"
      ]
     },
     "execution_count": 37,
     "metadata": {},
     "output_type": "execute_result"
    }
   ],
   "source": [
    "# 通过切片批量更改列表中的元素\n",
    "my_list[:3] = \"abc\"\n",
    "my_list"
   ]
  },
  {
   "cell_type": "markdown",
   "metadata": {},
   "source": [
    "+ 注意: 不能越界"
   ]
  },
  {
   "cell_type": "code",
   "execution_count": 38,
   "metadata": {},
   "outputs": [
    {
     "ename": "IndexError",
     "evalue": "list assignment index out of range",
     "output_type": "error",
     "traceback": [
      "\u001b[1;31m---------------------------------------------------------------------------\u001b[0m",
      "\u001b[1;31mIndexError\u001b[0m                                Traceback (most recent call last)",
      "\u001b[1;32m<ipython-input-38-b7a895567382>\u001b[0m in \u001b[0;36m<module>\u001b[1;34m\u001b[0m\n\u001b[0;32m      1\u001b[0m \u001b[1;31m#  猜猜会出现什么结果？\u001b[0m\u001b[1;33m\u001b[0m\u001b[1;33m\u001b[0m\u001b[1;33m\u001b[0m\u001b[0m\n\u001b[0;32m      2\u001b[0m \u001b[1;33m\u001b[0m\u001b[0m\n\u001b[1;32m----> 3\u001b[1;33m \u001b[0mmy_list\u001b[0m\u001b[1;33m[\u001b[0m\u001b[1;36m6\u001b[0m\u001b[1;33m]\u001b[0m \u001b[1;33m=\u001b[0m \u001b[1;34m'moo'\u001b[0m\u001b[1;33m\u001b[0m\u001b[1;33m\u001b[0m\u001b[0m\n\u001b[0m",
      "\u001b[1;31mIndexError\u001b[0m: list assignment index out of range"
     ]
    }
   ],
   "source": [
    "#  猜猜会出现什么结果？\n",
    "\n",
    "my_list[6] = 'moo'"
   ]
  },
  {
   "cell_type": "code",
   "execution_count": 39,
   "metadata": {},
   "outputs": [
    {
     "data": {
      "text/plain": [
       "['a', 'b', 'c', 40, 50, 60, 'moo']"
      ]
     },
     "execution_count": 39,
     "metadata": {},
     "output_type": "execute_result"
    }
   ],
   "source": [
    "# 在这个列表的结尾附加（append）一个新成员\n",
    "\n",
    "my_list.append(\"moo\")\n",
    "my_list"
   ]
  },
  {
   "cell_type": "code",
   "execution_count": 40,
   "metadata": {},
   "outputs": [
    {
     "data": {
      "text/plain": [
       "'moo'"
      ]
     },
     "execution_count": 40,
     "metadata": {},
     "output_type": "execute_result"
    }
   ],
   "source": [
    "my_list[6] "
   ]
  },
  {
   "cell_type": "code",
   "execution_count": 1,
   "metadata": {},
   "outputs": [
    {
     "data": {
      "text/plain": [
       "[<matplotlib.lines.Line2D at 0x2877a9453a0>]"
      ]
     },
     "execution_count": 1,
     "metadata": {},
     "output_type": "execute_result"
    },
    {
     "data": {
      "image/png": "[encoded data removed]",
      "text/plain": [
       "<Figure size 432x288 with 1 Axes>"
      ]
     },
     "metadata": {
      "needs_background": "light"
     },
     "output_type": "display_data"
    }
   ],
   "source": [
    "x = [1, 2, 3, 4, 5, 6]\n",
    "y = [0.1, 0.2, 0.3, 0.4, 0.5, 0.6]\n",
    "import matplotlib.pyplot as plt\n",
    "plt.plot(x, y, 'o')"
   ]
  },
  {
   "cell_type": "markdown",
   "metadata": {},
   "source": [
    "# 求助"
   ]
  },
  {
   "cell_type": "code",
   "execution_count": 25,
   "metadata": {},
   "outputs": [
    {
     "data": {
      "text/plain": [
       "\u001b[1;31mDocstring:\u001b[0m\n",
       "S.count(sub[, start[, end]]) -> int\n",
       "\n",
       "Return the number of non-overlapping occurrences of substring sub in\n",
       "string S[start:end].  Optional arguments start and end are\n",
       "interpreted as in slice notation.\n",
       "\u001b[1;31mType:\u001b[0m      builtin_function_or_method\n"
      ]
     },
     "metadata": {},
     "output_type": "display_data"
    }
   ],
   "source": [
    "sentence.count??\n"
   ]
  },
  {
   "cell_type": "code",
   "execution_count": 26,
   "metadata": {},
   "outputs": [
    {
     "data": {
      "text/plain": [
       "\u001b[1;31mSignature:\u001b[0m \u001b[0msentence\u001b[0m\u001b[1;33m.\u001b[0m\u001b[0mcenter\u001b[0m\u001b[1;33m(\u001b[0m\u001b[0mwidth\u001b[0m\u001b[1;33m,\u001b[0m \u001b[0mfillchar\u001b[0m\u001b[1;33m=\u001b[0m\u001b[1;34m' '\u001b[0m\u001b[1;33m,\u001b[0m \u001b[1;33m/\u001b[0m\u001b[1;33m)\u001b[0m\u001b[1;33m\u001b[0m\u001b[1;33m\u001b[0m\u001b[0m\n",
       "\u001b[1;31mDocstring:\u001b[0m\n",
       "Return a centered string of length width.\n",
       "\n",
       "Padding is done using the specified fill character (default is a space).\n",
       "\u001b[1;31mType:\u001b[0m      builtin_function_or_method\n"
      ]
     },
     "metadata": {},
     "output_type": "display_data"
    }
   ],
   "source": [
    "sentence.center??"
   ]
  },
  {
   "cell_type": "code",
   "execution_count": 42,
   "metadata": {},
   "outputs": [
    {
     "data": {
      "text/plain": [
       "3"
      ]
     },
     "execution_count": 42,
     "metadata": {},
     "output_type": "execute_result"
    }
   ],
   "source": [
    "sentence.count('w')"
   ]
  },
  {
   "cell_type": "code",
   "execution_count": 25,
   "metadata": {},
   "outputs": [
    {
     "data": {
      "text/plain": [
       "'WHO WOULD HAVE THOUGHT THAT WE WERE ROBOTS ALL ALONG?'"
      ]
     },
     "execution_count": 25,
     "metadata": {},
     "output_type": "execute_result"
    }
   ],
   "source": [
    "sentence.upper()"
   ]
  },
  {
   "cell_type": "markdown",
   "metadata": {},
   "source": [
    "+ 使用'Tab'键自动完成\n",
    "+ 注意不要忘记对象sentence. 的 点."
   ]
  },
  {
   "cell_type": "code",
   "execution_count": 43,
   "metadata": {},
   "outputs": [
    {
     "data": {
      "text/plain": [
       "\u001b[1;31mSignature:\u001b[0m \u001b[0msentence\u001b[0m\u001b[1;33m.\u001b[0m\u001b[0mreplace\u001b[0m\u001b[1;33m(\u001b[0m\u001b[0mold\u001b[0m\u001b[1;33m,\u001b[0m \u001b[0mnew\u001b[0m\u001b[1;33m,\u001b[0m \u001b[0mcount\u001b[0m\u001b[1;33m=\u001b[0m\u001b[1;33m-\u001b[0m\u001b[1;36m1\u001b[0m\u001b[1;33m,\u001b[0m \u001b[1;33m/\u001b[0m\u001b[1;33m)\u001b[0m\u001b[1;33m\u001b[0m\u001b[1;33m\u001b[0m\u001b[0m\n",
       "\u001b[1;31mDocstring:\u001b[0m\n",
       "Return a copy with all occurrences of substring old replaced by new.\n",
       "\n",
       "  count\n",
       "    Maximum number of occurrences to replace.\n",
       "    -1 (the default value) means replace all occurrences.\n",
       "\n",
       "If the optional argument count is given, only the first count occurrences are\n",
       "replaced.\n",
       "\u001b[1;31mType:\u001b[0m      builtin_function_or_method\n"
      ]
     },
     "metadata": {},
     "output_type": "display_data"
    }
   ],
   "source": [
    "sentence.replace??"
   ]
  },
  {
   "cell_type": "code",
   "execution_count": 44,
   "metadata": {},
   "outputs": [
    {
     "data": {
      "text/plain": [
       "'Who would have thought that we were computers all along?'"
      ]
     },
     "execution_count": 44,
     "metadata": {},
     "output_type": "execute_result"
    }
   ],
   "source": [
    "sentence.replace(\"robot\", \"computer\")"
   ]
  },
  {
   "cell_type": "markdown",
   "metadata": {},
   "source": [
    "# 查看版本"
   ]
  },
  {
   "cell_type": "code",
   "execution_count": 27,
   "metadata": {},
   "outputs": [
    {
     "name": "stdout",
     "output_type": "stream",
     "text": [
      "pip 20.2.4 from D:\\WPy64-3902\\python-3.9.0.amd64\\lib\\site-packages\\pip (python 3.9)\n",
      "\n",
      "Note: you may need to restart the kernel to use updated packages.\n"
     ]
    }
   ],
   "source": [
    "pip --version"
   ]
  },
  {
   "cell_type": "code",
   "execution_count": 28,
   "metadata": {},
   "outputs": [
    {
     "name": "stdout",
     "output_type": "stream",
     "text": [
      "D:\\WPy64-3902\\python-3.9.0.amd64\\lib\\site-packages\\numpy\\__init__.py\n",
      "1.19.3\n"
     ]
    }
   ],
   "source": [
    "import numpy\n",
    "print(numpy.__file__)\n",
    "print(numpy.__version__)"
   ]
  },
  {
   "cell_type": "code",
   "execution_count": 47,
   "metadata": {
    "collapsed": true,
    "jupyter": {
     "outputs_hidden": true
    }
   },
   "outputs": [
    {
     "name": "stdout",
     "output_type": "stream",
     "text": [
      "Package                       Version\n",
      "----------------------------- ------------------\n",
      "adodbapi                      2.6.1.3\n",
      "affine                        2.3.0\n",
      "aiofiles                      0.5.0\n",
      "aiohttp                       3.7.1\n",
      "aiosqlite                     0.15.0\n",
      "alabaster                     0.7.12\n",
      "altair                        4.1.0\n",
      "altair-data-server            0.4.1\n",
      "altair-transform              0.2.0\n",
      "altair-widgets                0.2.2\n",
      "altgraph                      0.17\n",
      "amply                         0.1.4\n",
      "Note: you may need to restart the kernel to use updated packages.aniso8601                     8.0.0\n",
      "ansiwrap                      0.8.4\n",
      "appdirs                       1.4.4\n",
      "argon2-cffi                   20.2.0.dev0\n",
      "asciitree                     0.3.3\n",
      "asgi-csrf                     0.6.1\n",
      "asgiref                       3.2.10\n",
      "asteval                       0.9.19\n",
      "astroid                       2.4.2\n",
      "\n"
     ]
    },
    {
     "name": "stderr",
     "output_type": "stream",
     "text": [
      "WARNING: You are using pip version 20.2.4; however, version 23.0.1 is available.\n",
      "You should consider upgrading via the 'D:\\WPy64-3902\\python-3.9.0.amd64\\python.exe -m pip install --upgrade pip' command.\n"
     ]
    },
    {
     "name": "stdout",
     "output_type": "stream",
     "text": [
      "astroML                       0.4.1\n",
      "astropy                       4.0.3\n",
      "async-generator               1.10\n",
      "async-timeout                 3.0.1\n",
      "atomicwrites                  1.4.0\n",
      "attrs                         20.2.0\n",
      "autopep8                      1.5.3\n",
      "Babel                         2.8.0\n",
      "backcall                      0.2.0\n",
      "backports-abc                 0.5\n",
      "baresql                       0.7.6\n",
      "bcrypt                        3.1.7\n",
      "beautifulsoup4                4.9.3\n",
      "black                         20.8b1\n",
      "bleach                        3.2.1\n",
      "blinker                       1.4\n",
      "blosc                         1.9.2\n",
      "bloscpack                     0.16.0\n",
      "bokeh                         2.2.3\n",
      "Bottleneck                    1.3.2\n",
      "bqplot                        0.12.18\n",
      "branca                        0.4.1\n",
      "brewer2mpl                    1.4.1\n",
      "Brotli                        1.0.9\n",
      "cachelib                      0.1.1\n",
      "Cartopy                       0.18.0\n",
      "certifi                       2020.6.20\n",
      "cffi                          1.14.3\n",
      "cftime                        1.2.1\n",
      "chardet                       3.0.4\n",
      "click                         7.1.2\n",
      "click-default-group           1.2.2\n",
      "click-plugins                 1.1.1\n",
      "cligj                         0.7.0\n",
      "cloudpickle                   1.6.0\n",
      "clrmagic                      0.0.1a2\n",
      "colorama                      0.4.4\n",
      "colorcet                      2.0.2\n",
      "comtypes                      1.1.7\n",
      "cryptography                  3.1\n",
      "cvxopt                        1.2.5\n",
      "cvxpy                         1.1.7\n",
      "cx-Freeze                     6.3\n",
      "cycler                        0.10.0\n",
      "Cython                        0.29.21\n",
      "cytoolz                       0.11.0\n",
      "dask                          2.30.0\n",
      "dask-glm                      0.2.0\n",
      "dask-labextension             3.0.0\n",
      "dask-ml                       1.7.0\n",
      "dask-searchcv                 0.2.0\n",
      "databases                     0.4.0\n",
      "datasette                     0.50.2\n",
      "datashader                    0.11.1\n",
      "datashape                     0.5.2\n",
      "db.py                         0.5.4b1\n",
      "decorator                     4.4.2\n",
      "defusedxml                    0.6.0\n",
      "Deprecated                    1.2.10\n",
      "descartes                     1.1.0\n",
      "diff-match-patch              20200713\n",
      "distlib                       0.3.1\n",
      "distributed                   2.30.0\n",
      "docopt                        0.6.2\n",
      "docrepr                       0.1.1\n",
      "docutils                      0.16\n",
      "ecos                          2.0.7.post1\n",
      "emcee                         3.0.2\n",
      "entrypoints                   0.3\n",
      "fast-histogram                0.9\n",
      "fastapi                       0.61.1\n",
      "fasteners                     0.15\n",
      "fastparquet                   0.4.1\n",
      "filelock                      3.0.12\n",
      "Fiona                         1.8.17\n",
      "flake8                        3.8.4\n",
      "Flask                         1.1.2\n",
      "flask-accepts                 0.17.4\n",
      "Flask-Mail                    0.9.1\n",
      "flask-restx                   0.2.0\n",
      "Flask-Session                 0.3.2\n",
      "Flask-SQLAlchemy              2.4.4\n",
      "flaskerize                    0.14.0\n",
      "folium                        0.11.0\n",
      "formlayout                    2.0.0a0\n",
      "fs                            2.4.11\n",
      "fsspec                        0.8.4\n",
      "future                        0.18.2\n",
      "fuzzywuzzy                    0.18.0\n",
      "GDAL                          3.1.4\n",
      "geographiclib                 1.50\n",
      "geopandas                     0.8.1\n",
      "geopy                         2.0.0\n",
      "geoviews                      1.8.1\n",
      "gmpy2                         2.0.8\n",
      "greenlet                      0.4.17\n",
      "guidata                       1.7.9\n",
      "guiqwt                        3.0.5\n",
      "h11                           0.11.0\n",
      "h2                            4.0.0\n",
      "h5py                          2.10.0\n",
      "HeapDict                      1.0.1\n",
      "helpdev                       0.7.1\n",
      "holoviews                     1.13.5\n",
      "hpack                         4.0.0\n",
      "html5lib                      1.1\n",
      "httpcore                      0.12.0\n",
      "httpie                        2.2.0\n",
      "httpx                         0.16.1\n",
      "hupper                        1.10.2\n",
      "husl                          4.0.3\n",
      "hvplot                        0.6.0\n",
      "Hypercorn                     0.11.1\n",
      "hyperframe                    6.0.0\n",
      "hypothesis                    5.37.4\n",
      "idlex                         1.18\n",
      "idna                          2.10\n",
      "imageio                       2.9.0\n",
      "imageio-ffmpeg                0.4.2\n",
      "imagesize                     1.2.0\n",
      "imbalanced-learn              0.7.0\n",
      "importlib-metadata            2.0.0\n",
      "iniconfig                     1.1.1\n",
      "intake                        0.6.0\n",
      "intervaltree                  3.0.2\n",
      "ipykernel                     5.3.4\n",
      "ipyleaflet                    0.13.3\n",
      "ipympl                        0.5.8\n",
      "ipython                       7.18.1\n",
      "ipython-genutils              0.2.0\n",
      "ipython-sql                   0.4.1b1\n",
      "ipywidgets                    7.5.1\n",
      "isort                         5.6.4\n",
      "itsdangerous                  1.1.0\n",
      "janus                         0.5.0\n",
      "jedi                          0.17.1\n",
      "Jinja2                        2.11.2\n",
      "joblib                        0.17.0\n",
      "json5                         0.9.5\n",
      "jsonschema                    3.2.0\n",
      "julia                         0.5.6\n",
      "jupyter                       1.0.0\n",
      "jupyter-bokeh                 2.0.3\n",
      "jupyter-client                6.1.7\n",
      "jupyter-console               6.2.0\n",
      "jupyter-core                  4.6.3\n",
      "jupyter-server                1.0.5\n",
      "jupyter-server-proxy          1.5.0\n",
      "jupyter-sphinx                0.3.2\n",
      "jupyterlab                    2.2.9\n",
      "jupyterlab-launcher           0.13.1\n",
      "jupyterlab-pygments           0.1.2\n",
      "jupyterlab-server             1.2.0\n",
      "keyring                       21.4.0\n",
      "kiwisolver                    1.2.0\n",
      "lazy-object-proxy             1.4.3\n",
      "llvmlite                      0.34.0\n",
      "lmfit                         1.0.1\n",
      "locket                        0.2.0\n",
      "loky                          2.9.0\n",
      "lxml                          4.6.1\n",
      "lz4                           3.1.0\n",
      "Markdown                      3.3.2\n",
      "MarkupSafe                    1.1.1\n",
      "marshmallow                   3.8.0\n",
      "matplotlib                    3.3.2\n",
      "mccabe                        0.6.1\n",
      "mercantile                    1.1.6\n",
      "mergedeep                     1.3.0\n",
      "metakernel                    0.27.0\n",
      "mistune                       0.8.4\n",
      "mizani                        0.7.1\n",
      "mkl-service                   2.3.0\n",
      "mlxtend                       0.17.3\n",
      "monotonic                     1.5\n",
      "moviepy                       1.0.3\n",
      "mpl-scatter-density           0.7\n",
      "mpld3                         0.5.1\n",
      "mpldatacursor                 0.7.1\n",
      "mpmath                        1.1.0\n",
      "msgpack                       1.0.0\n",
      "msvc-runtime                  14.27.29016.1\n",
      "multidict                     5.0.0\n",
      "multipledispatch              0.6.0\n",
      "munch                         2.5.0\n",
      "mypy                          0.790\n",
      "mypy-extensions               0.4.3\n",
      "mysql-connector-python        8.0.21\n",
      "nbclient                      0.5.1\n",
      "nbconvert                     6.0.7\n",
      "nbconvert-reportlab           0.2\n",
      "nbformat                      5.0.8\n",
      "nest-asyncio                  1.4.2\n",
      "netCDF4                       1.5.4\n",
      "networkx                      2.5\n",
      "NLopt                         2.6.2\n",
      "nltk                          3.5\n",
      "notebook                      6.1.4\n",
      "numba                         0.51.2\n",
      "numcodecs                     0.7.2\n",
      "numdifftools                  0.9.39\n",
      "numexpr                       2.7.2\n",
      "numpy                         1.19.3\n",
      "numpydoc                      1.1.0\n",
      "oct2py                        5.2.0\n",
      "octave-kernel                 0.32.0\n",
      "opencv-python                 4.4.0.46\n",
      "osqp                          0.6.1\n",
      "outcome                       1.0.1\n",
      "packaging                     20.4\n",
      "palettable                    3.3.0\n",
      "pandas                        1.1.3\n",
      "pandas-datareader             0.9.0\n",
      "pandocfilters                 1.4.3\n",
      "panel                         0.10.1\n",
      "papermill                     2.2.0\n",
      "param                         1.10.0\n",
      "parambokeh                    0.2.3\n",
      "paramiko                      2.7.2\n",
      "paramnb                       2.0.4\n",
      "parso                         0.7.0\n",
      "partd                         1.1.0\n",
      "pathspec                      0.8.0\n",
      "pathtools                     0.1.2\n",
      "patsy                         0.5.1\n",
      "pdfrw                         0.4\n",
      "pdvega                        0.2.1.dev0\n",
      "pefile                        2019.4.18\n",
      "pep8                          1.7.1\n",
      "pexpect                       4.8.0\n",
      "pg8000                        1.16.5\n",
      "pickleshare                   0.7.5\n",
      "Pillow                        8.0.1\n",
      "Pint                          0.16.1\n",
      "pip                           20.2.4\n",
      "pipdeptree                    1.0.0\n",
      "pkginfo                       1.6.0\n",
      "plotly                        4.12.0\n",
      "plotnine                      0.7.1\n",
      "pluggy                        0.13.1\n",
      "ply                           3.11\n",
      "portpicker                    1.3.1\n",
      "ppci                          0.5.8\n",
      "prettytable                   1.0.1\n",
      "priority                      1.3.0\n",
      "proglog                       0.1.9\n",
      "prometheus-client             0.7.1\n",
      "prompt-toolkit                3.0.8\n",
      "protobuf                      4.0.0rc1\n",
      "psutil                        5.7.3\n",
      "ptpython                      3.0.7\n",
      "ptvsd                         4.3.2\n",
      "ptyprocess                    0.6.0\n",
      "PuLP                          2.3\n",
      "py                            1.9.0\n",
      "pyaml                         20.4.0\n",
      "PyAudio                       0.2.11\n",
      "pybars3                       0.9.7\n",
      "pybind11                      2.6.0\n",
      "pycodestyle                   2.6.0\n",
      "pycosat                       0.6.3\n",
      "pycparser                     2.20\n",
      "pyct                          0.4.6\n",
      "pydantic                      1.6.1\n",
      "pydeck                        0.5.0\n",
      "pydocstyle                    5.1.1\n",
      "pyepsg                        0.4.0\n",
      "pyflakes                      2.2.0\n",
      "pyflux                        0.4.17\n",
      "pygame                        1.9.6\n",
      "pygbm                         0.1.0\n",
      "Pygments                      2.7.2\n",
      "pyhdf                         0.10.2\n",
      "PyInstaller                   3.6\n",
      "pylint                        2.6.0\n",
      "pymc                          2.3.8\n",
      "PyMeta3                       0.5.1\n",
      "pymongo                       3.11.0\n",
      "PyNaCl                        1.4.0\n",
      "pyodbc                        4.0.30\n",
      "PyOpenGL                      3.1.5\n",
      "pypandoc                      1.5\n",
      "pyparsing                     2.4.7\n",
      "pyproj                        2.6.1.post1\n",
      "PyQt5                         5.15.1\n",
      "PyQt5-sip                     12.8.1\n",
      "pyqt5-tools                   5.15.1.1.7.5.post3\n",
      "pyqtgraph                     0.11.0\n",
      "PyQtWebEngine                 5.15.1\n",
      "pyrsistent                    0.17.3\n",
      "pyserial                      3.4\n",
      "pyshp                         2.1.2\n",
      "pystache                      0.5.4\n",
      "pytest                        6.1.1\n",
      "python-baseconv               1.2.2\n",
      "python-dateutil               2.8.1\n",
      "python-dotenv                 0.14.0\n",
      "python-hdf4                   0.10.0+dummy\n",
      "python-jsonrpc-server         0.4.0\n",
      "python-language-server        0.35.1\n",
      "python-Levenshtein            0.12.0\n",
      "python-snappy                 0.5.4\n",
      "pythonnet                     2.5.1\n",
      "PythonQwt                     0.8.3\n",
      "pytz                          2020.1\n",
      "pyviz-comms                   0.7.6\n",
      "PyWavelets                    1.1.1\n",
      "pywin32                       228\n",
      "pywin32-ctypes                0.2.0\n",
      "pywinpty                      0.5.7\n",
      "pywinusb                      0.4.2\n",
      "PyYAML                        5.3.1\n",
      "pyzmq                         19.0.2\n",
      "pyzo                          4.11.0\n",
      "QDarkStyle                    2.8.1\n",
      "QtAwesome                     1.0.1\n",
      "qtconsole                     4.7.7\n",
      "QtPy                          1.9.0\n",
      "quantecon                     0.4.8\n",
      "Quart                         0.13.1\n",
      "rasterio                      1.1.8\n",
      "readme-renderer               28.0\n",
      "redis                         3.5.3\n",
      "regex                         2020.10.23\n",
      "reportlab                     3.5.53\n",
      "requests                      2.24.0\n",
      "requests-toolbelt             0.9.1\n",
      "retrying                      1.3.3\n",
      "rfc3986                       1.4.0\n",
      "rise                          5.7.0\n",
      "rope                          0.18.0\n",
      "rpy2                          3.4.0.dev0\n",
      "Rtree                         0.9.4\n",
      "ruamel.yaml                   0.16.12\n",
      "Rx                            3.1.1\n",
      "scikit-fuzzy                  0.4.1\n",
      "scikit-image                  0.17.2\n",
      "scikit-learn                  0.23.2\n",
      "scikit-optimize               0.8.1\n",
      "scilab2py                     0.6.2\n",
      "scipy                         1.5.4\n",
      "scramp                        1.2.0\n",
      "scs                           2.1.2\n",
      "seaborn                       0.11.0\n",
      "Send2Trash                    1.5.0\n",
      "setuptools                    50.3.2\n",
      "shap                          0.36.0\n",
      "Shapely                       1.7.1\n",
      "simpervisor                   0.3\n",
      "simplegeneric                 0.8.1\n",
      "simplejson                    3.17.2\n",
      "simpy                         4.0.1\n",
      "six                           1.15.0\n",
      "slicer                        0.0.4\n",
      "snakeviz                      2.1.0\n",
      "sniffio                       1.2.0\n",
      "snowballstemmer               2.0.0\n",
      "snuggs                        1.4.7\n",
      "sortedcontainers              2.2.2\n",
      "sounddevice                   0.4.1\n",
      "soupsieve                     2.0.1\n",
      "Sphinx                        3.2.1\n",
      "sphinx-rtd-theme              0.5.0\n",
      "sphinxcontrib-applehelp       1.0.2\n",
      "sphinxcontrib-devhelp         1.0.2\n",
      "sphinxcontrib-htmlhelp        1.0.3\n",
      "sphinxcontrib-jsmath          1.0.1\n",
      "sphinxcontrib-qthelp          1.0.3\n",
      "sphinxcontrib-serializinghtml 1.1.4\n",
      "spyder                        4.1.5\n",
      "spyder-kernels                1.9.4\n",
      "SQLAlchemy                    1.3.20\n",
      "sqlite-bro                    0.9.1\n",
      "sqlparse                      0.4.1\n",
      "starlette                     0.13.6\n",
      "statsmodels                   0.12.0\n",
      "streamz                       0.5.6\n",
      "supersmoother                 0.4\n",
      "sympy                         1.6.2\n",
      "tables                        3.6.1\n",
      "tblib                         1.7.0\n",
      "tenacity                      6.2.0\n",
      "termcolor                     1.1.0\n",
      "terminado                     0.9.1\n",
      "testpath                      0.4.4\n",
      "textwrap3                     0.9.2\n",
      "threadpoolctl                 2.1.0\n",
      "thrift                        0.13.0\n",
      "tifffile                      2020.10.1\n",
      "toml                          0.10.1\n",
      "toolz                         0.11.1\n",
      "tornado                       6.0.4\n",
      "tqdm                          4.50.2\n",
      "traitlets                     5.0.5\n",
      "traittypes                    0.2.1\n",
      "tranquilizer                  0.5.0+1.gff8dd5f\n",
      "trio                          0.17.0\n",
      "trio-asyncio                  0.11.0\n",
      "twine                         3.2.0\n",
      "twitter                       1.18.0\n",
      "typed-ast                     1.4.1\n",
      "typing-extensions             3.7.4.3\n",
      "tzlocal                       2.1\n",
      "ujson                         4.0.1\n",
      "umap-learn                    0.4.6\n",
      "uncertainties                 3.1.4\n",
      "urllib3                       1.25.11\n",
      "uvicorn                       0.12.2\n",
      "vega                          3.4.0\n",
      "vega-datasets                 0.8.0\n",
      "virtualenv                    20.1.0\n",
      "ViTables                      3.0.2\n",
      "voila                         0.2.4\n",
      "watchdog                      0.10.3\n",
      "wcwidth                       0.2.5\n",
      "webencodings                  0.5.1\n",
      "Werkzeug                      1.0.1\n",
      "wheel                         0.35.1\n",
      "widgetsnbextension            3.5.1\n",
      "winpython                     3.0.20201028\n",
      "wordcloud                     1.8.0\n",
      "wrapt                         1.12.1\n",
      "wsproto                       0.15.0\n",
      "xarray                        0.16.1\n",
      "xlrd                          1.2.0\n",
      "XlsxWriter                    1.3.7\n",
      "xlwings                       0.20.8\n",
      "yapf                          0.30.0\n",
      "yarl                          1.6.2\n",
      "zarr                          2.5.0\n",
      "zict                          2.0.0\n",
      "zipp                          3.3.2\n"
     ]
    }
   ],
   "source": [
    "pip list"
   ]
  },
  {
   "cell_type": "markdown",
   "metadata": {},
   "source": [
    "# 生成LaTeX公式"
   ]
  },
  {
   "cell_type": "markdown",
   "metadata": {},
   "source": [
    "$$\\int_1^2 xdx$$"
   ]
  },
  {
   "cell_type": "code",
   "execution_count": 48,
   "metadata": {},
   "outputs": [
    {
     "name": "stdout",
     "output_type": "stream",
     "text": [
      "The Zen of Python, by Tim Peters\n",
      "\n",
      "Beautiful is better than ugly.\n",
      "Explicit is better than implicit.\n",
      "Simple is better than complex.\n",
      "Complex is better than complicated.\n",
      "Flat is better than nested.\n",
      "Sparse is better than dense.\n",
      "Readability counts.\n",
      "Special cases aren't special enough to break the rules.\n",
      "Although practicality beats purity.\n",
      "Errors should never pass silently.\n",
      "Unless explicitly silenced.\n",
      "In the face of ambiguity, refuse the temptation to guess.\n",
      "There should be one-- and preferably only one --obvious way to do it.\n",
      "Although that way may not be obvious at first unless you're Dutch.\n",
      "Now is better than never.\n",
      "Although never is often better than *right* now.\n",
      "If the implementation is hard to explain, it's a bad idea.\n",
      "If the implementation is easy to explain, it may be a good idea.\n",
      "Namespaces are one honking great idea -- let's do more of those!\n"
     ]
    }
   ],
   "source": [
    "import this"
   ]
  },
  {
   "cell_type": "markdown",
   "metadata": {},
   "source": [
    "<font face=\"微软雅黑\" size=5 color=#A52A2A > Python 之禅"
   ]
  },
  {
   "cell_type": "markdown",
   "metadata": {},
   "source": [
    "+ 优美胜于丑陋<br/>\n",
    "+ 明了胜于晦涩<br/>\n",
    "+ …… <br/>\n",
    "+ 间隔胜于紧凑<br/>\n",
    "+ 可读性很重要<br/>\n",
    "+ …… <br/>\n",
    "+ 做也许好过不做 <br/>\n",
    "+ 但不假思索就动手还不如不做 <br/>"
   ]
  },
  {
   "cell_type": "markdown",
   "metadata": {},
   "source": [
    "## PEP 8 编码风格指南\n",
    "PEP 8 Style Guide for Python Code <br/>\n",
    "中文翻译： https://blog.csdn.net/ratsniper/article/details/78954852"
   ]
  },
  {
   "cell_type": "code",
   "execution_count": null,
   "metadata": {},
   "outputs": [],
   "source": []
  }
 ],
 "metadata": {
  "kernelspec": {
   "display_name": "Python 3",
   "language": "python",
   "name": "python3"
  },
  "language_info": {
   "codemirror_mode": {
    "name": "ipython",
    "version": 3
   },
   "file_extension": ".py",
   "mimetype": "text/x-python",
   "name": "python",
   "nbconvert_exporter": "python",
   "pygments_lexer": "ipython3",
   "version": "3.9.0"
  }
 },
 "nbformat": 4,
 "nbformat_minor": 4
}
